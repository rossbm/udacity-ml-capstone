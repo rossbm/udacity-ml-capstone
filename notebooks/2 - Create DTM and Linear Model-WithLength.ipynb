{
 "cells": [
  {
   "cell_type": "markdown",
   "metadata": {},
   "source": [
    "# 1 - Introduction"
   ]
  },
  {
   "cell_type": "markdown",
   "metadata": {},
   "source": [
    "This notebook will train a baseline linear logistic regression model. The features will be created using the bag of words technique. This means that the input will be known as a document term matrix. The document term matrix will be weighted using term frequency-inverse document (tf-idf) scaling.\n",
    "\n",
    "The logistic regression will be regularized using the l2 norm. This means that a penalty will be applied to the l2 norm of the coefficients. This will shrink the coefficients towards 0 and each other. The use of the l2 penalty in a regression is also known as ridge regression.\n",
    "\n",
    "The purpose of this baseline model is twofold. The first is to have benchmark model to which the decision tree and neural network mdoels can bve comapred. The second purpose is to determine the how many features should be in the document term matrix. Given these two purposes, the text lengths will not be inlcuded as a feature. The importance of the text length will be expored using decision trees."
   ]
  },
  {
   "cell_type": "markdown",
   "metadata": {},
   "source": [
    "## 1.1 - Load Packages and Global Variables"
   ]
  },
  {
   "cell_type": "code",
   "execution_count": 1,
   "metadata": {
    "collapsed": true
   },
   "outputs": [],
   "source": [
    "%matplotlib inline\n",
    "from importlib import reload\n",
    "import pandas as pd\n",
    "import numpy as np\n",
    "import matplotlib.pyplot as plt\n",
    "import os\n",
    "import luigi\n",
    "from sklearn.externals import joblib\n",
    "from sklearn.feature_extraction.text import TfidfVectorizer, CountVectorizer\n",
    "from sklearn.linear_model import LogisticRegressionCV, LogisticRegression\n",
    "from sklearn.metrics import accuracy_score, roc_auc_score\n",
    "from nltk import word_tokenize"
   ]
  },
  {
   "cell_type": "code",
   "execution_count": 2,
   "metadata": {
    "collapsed": true
   },
   "outputs": [],
   "source": [
    "PROJECT_DIR = os.path.join(os.getcwd(), os.pardir)\n",
    "os.chdir(PROJECT_DIR)\n",
    "from src.data.clean import CleanData\n",
    "from src.visualization import evaluation"
   ]
  },
  {
   "cell_type": "markdown",
   "metadata": {},
   "source": [
    "## 1.2 - Prep the Data"
   ]
  },
  {
   "cell_type": "markdown",
   "metadata": {},
   "source": [
    "The following Luigi task ensures that the cleaned test and train sets are available, and produces them if they are not."
   ]
  },
  {
   "cell_type": "code",
   "execution_count": 3,
   "metadata": {},
   "outputs": [
    {
     "name": "stderr",
     "output_type": "stream",
     "text": [
      "DEBUG: Checking if CleanData() is complete\n",
      "INFO: Informed scheduler that task   CleanData__99914b932b   has status   DONE\n",
      "INFO: Done scheduling tasks\n",
      "INFO: Running Worker with 1 processes\n",
      "DEBUG: Asking scheduler for work...\n",
      "DEBUG: Done\n",
      "DEBUG: There are no more tasks to run at this time\n",
      "INFO: Worker Worker(salt=636735326, workers=1, host=DESKTOP-6UJS098, username=wertu, pid=6720) was stopped. Shutting down Keep-Alive thread\n",
      "INFO: \n",
      "===== Luigi Execution Summary =====\n",
      "\n",
      "Scheduled 1 tasks of which:\n",
      "* 1 present dependencies were encountered:\n",
      "    - 1 CleanData()\n",
      "\n",
      "Did not run any tasks\n",
      "This progress looks :) because there were no failed tasks or missing external dependencies\n",
      "\n",
      "===== Luigi Execution Summary =====\n",
      "\n"
     ]
    },
    {
     "data": {
      "text/plain": [
       "True"
      ]
     },
     "execution_count": 3,
     "metadata": {},
     "output_type": "execute_result"
    }
   ],
   "source": [
    "luigi.build([CleanData()], local_scheduler = True)"
   ]
  },
  {
   "cell_type": "markdown",
   "metadata": {},
   "source": [
    "Now that we assured that the data is present, we can load it."
   ]
  },
  {
   "cell_type": "code",
   "execution_count": 4,
   "metadata": {
    "collapsed": true
   },
   "outputs": [],
   "source": [
    "#Load data\n",
    "train = joblib.load('data/interim/train.pkl')\n",
    "test = joblib.load('data/interim/test.pkl')"
   ]
  },
  {
   "cell_type": "markdown",
   "metadata": {},
   "source": [
    "# 2 - Hyperparameter Selection"
   ]
  },
  {
   "cell_type": "markdown",
   "metadata": {},
   "source": [
    "The optimal regularization penalty will be determined by 10 fold cross validation. In addition to using cross-fold validation to determine the regularization strnegth, this cross validation process will be used to determine the optimal number of columns in the document term matrix, ie the number of features."
   ]
  },
  {
   "cell_type": "markdown",
   "metadata": {},
   "source": [
    "## 2.1 - Parameter Path"
   ]
  },
  {
   "cell_type": "markdown",
   "metadata": {},
   "source": [
    "Before using crossfold validation to determine the optimal regularization strength and number of features, we should intelligently determine a range of values to iterate over."
   ]
  },
  {
   "cell_type": "markdown",
   "metadata": {},
   "source": [
    "### 2.1.1 - Features"
   ]
  },
  {
   "cell_type": "markdown",
   "metadata": {},
   "source": [
    "As mentioned earlier, the features will be structured as a document term matrix. Document term matrices can be quite large."
   ]
  },
  {
   "cell_type": "markdown",
   "metadata": {},
   "source": [
    "The point of this exercise is not just to determine "
   ]
  },
  {
   "cell_type": "markdown",
   "metadata": {},
   "source": [
    "First, we create a data set containing numerical features that can be used in a regression. The sklearn CountVectorizer class will be used to determine the maximum number of features. Later we will use the TfidfVectorizer to do more stuff. I will use the built in word tokenizer and preprocessing in CountVectorizewr. Keep it simple. Will use 5 grams.\n",
    "\n",
    "Will require terms to appear in at least five documents. This is kind of arbitrary but will stop spurious terms from appearing.\n",
    "\n",
    "I will use sklearm's built in stop word list, and in addition will remove terms that appear in 80%+ of documents (kind of like dynamic stop words filteirng).\n",
    "\n",
    "Stemming and lemmatization will not be explored. This is because recent advances in neural networks and word embeddings are  a much more efficient and elegant way of learning word relations. Neural network with word embeddings will be explored later in this project so that it why we are not putting excessive effort on transforming the words."
   ]
  },
  {
   "cell_type": "code",
   "execution_count": 8,
   "metadata": {},
   "outputs": [
    {
     "name": "stdout",
     "output_type": "stream",
     "text": [
      "Wall time: 1min 11s\n"
     ]
    }
   ],
   "source": [
    "%%time\n",
    "count_vec = CountVectorizer(analyzer = 'word', ngram_range = (1,3), max_df = 0.8, min_df = 5, stop_words = 'english')\n",
    "count_vec.fit(train.full_text)"
   ]
  },
  {
   "cell_type": "markdown",
   "metadata": {
    "collapsed": true
   },
   "source": [
    "What are the maximum amount of terms?"
   ]
  },
  {
   "cell_type": "code",
   "execution_count": 9,
   "metadata": {},
   "outputs": [
    {
     "name": "stdout",
     "output_type": "stream",
     "text": [
      "231464\n"
     ]
    }
   ],
   "source": [
    "max_features = len(count_vec.vocabulary_)\n",
    "print(max_features)"
   ]
  },
  {
   "cell_type": "markdown",
   "metadata": {},
   "source": [
    "Let us explore a feature path of 8 blocks, increasing linearly to the maximum."
   ]
  },
  {
   "cell_type": "code",
   "execution_count": 10,
   "metadata": {},
   "outputs": [
    {
     "data": {
      "text/plain": [
       "[28933, 57866, 86799, 115732, 144665, 173598, 202531, 231464]"
      ]
     },
     "execution_count": 10,
     "metadata": {},
     "output_type": "execute_result"
    }
   ],
   "source": [
    "feature_path = np.linspace(0,max_features,9,dtype='int')[1:].tolist()\n",
    "feature_path"
   ]
  },
  {
   "cell_type": "markdown",
   "metadata": {
    "collapsed": true
   },
   "source": [
    "### 2.1.2 Regularization"
   ]
  },
  {
   "cell_type": "markdown",
   "metadata": {},
   "source": [
    "For the C parameters (regularization), we will just use default of sklearn (but put in explicitly). And only do 8 instead of 10. And chop off the ends"
   ]
  },
  {
   "cell_type": "code",
   "execution_count": 11,
   "metadata": {},
   "outputs": [
    {
     "data": {
      "text/plain": [
       "[0.01,\n",
       " 0.0372759372031494,\n",
       " 0.13894954943731375,\n",
       " 0.517947467923121,\n",
       " 1.9306977288832496,\n",
       " 7.196856730011514,\n",
       " 26.826957952797247,\n",
       " 100.0]"
      ]
     },
     "execution_count": 11,
     "metadata": {},
     "output_type": "execute_result"
    }
   ],
   "source": [
    "cs = np.geomspace(1e-2,1e2, num = 8).tolist()\n",
    "cs"
   ]
  },
  {
   "cell_type": "markdown",
   "metadata": {},
   "source": [
    "## 2.2 Crossfold Validation Estimates"
   ]
  },
  {
   "cell_type": "markdown",
   "metadata": {},
   "source": [
    "We will use accuracy to determine the optimal set of parameters. However that will not be the only criteria. We will lean toward more regulariztion strength and less features. A reduced number of features will help prevent overfitting and reduce the amount of time it takes to train a model. Increased regulurziation strength will reduce help reduce the difference between the crossfold validation score and the test score."
   ]
  },
  {
   "cell_type": "code",
   "execution_count": 12,
   "metadata": {
    "collapsed": true
   },
   "outputs": [],
   "source": [
    "def validate_dtm(max_terms, cpath, folds):\n",
    "    tfidf = TfidfVectorizer(analyzer='word',\n",
    "                            ngram_range=(1,3),\n",
    "                            max_df = 0.8,\n",
    "                            min_df=5,\n",
    "                            max_features=max_terms,\n",
    "                            stop_words = 'english')\n",
    "    dtm_train = tfidf.fit_transform(train.full_text)\n",
    "    vocab_len = len(tfidf.vocabulary_)\n",
    "    print(\"DTM has {} words\".format(vocab_len))\n",
    "    mdl = LogisticRegressionCV(Cs = cpath, cv = folds, solver = 'lbfgs', max_iter=1250, n_jobs = 1,\n",
    "                               refit = False, verbose = True, random_state = 10222017)\n",
    "    mdl.fit(dtm_train, train.funny)\n",
    "    test_acc = pd.DataFrame(mdl.scores_[True]).mean().values.tolist()\n",
    "    test_std = pd.DataFrame(mdl.scores_[True]).std().values.tolist()\n",
    "    return test_acc, test_std"
   ]
  },
  {
   "cell_type": "code",
   "execution_count": 13,
   "metadata": {
    "collapsed": true
   },
   "outputs": [],
   "source": [
    "def maxfeatures_cv(feature_path, cpath, folds = 3):\n",
    "    acc = []\n",
    "    std = []\n",
    "    num_features = []\n",
    "    num_features_indx = []\n",
    "    cs = []\n",
    "    cs_indx = []\n",
    "    for i, max_features in enumerate (feature_path):\n",
    "        print(\"Starting DTM {}\".format(i))\n",
    "        max_features = int(max_features)\n",
    "        \n",
    "        #get list of C values and associated indexes (lower index is lower C)\n",
    "        cs.extend(cpath)\n",
    "        cs_indx.extend(range(0,len(cpath)))\n",
    "        \n",
    "        #get list of max_features values and associated indexes, multiplied by number of C values\n",
    "        num_features.extend(len(cpath) * [max_features])\n",
    "        num_features_indx.extend(len(cpath) * [i])\n",
    "        \n",
    "        cv_acc, cv_std = validate_dtm(max_features, cpath, folds)\n",
    "        std.extend(cv_std)\n",
    "        acc.extend(cv_acc)\n",
    "    results = pd.DataFrame({\"num_features\":num_features,\n",
    "                            \"num_features_indx\":num_features_indx,\n",
    "                            \"accuracy\":acc,\n",
    "                            \"StD\":std,\n",
    "                            \"C\":cs,\n",
    "                            \"C_indx\":cs_indx})\n",
    "    return results"
   ]
  },
  {
   "cell_type": "code",
   "execution_count": 14,
   "metadata": {},
   "outputs": [
    {
     "name": "stdout",
     "output_type": "stream",
     "text": [
      "Starting DTM 0\n",
      "DTM has 28933 words\n"
     ]
    },
    {
     "name": "stderr",
     "output_type": "stream",
     "text": [
      "[Parallel(n_jobs=1)]: Done   8 out of   8 | elapsed: 23.2min finished\n"
     ]
    },
    {
     "name": "stdout",
     "output_type": "stream",
     "text": [
      "Starting DTM 1\n",
      "DTM has 57866 words\n"
     ]
    },
    {
     "name": "stderr",
     "output_type": "stream",
     "text": [
      "[Parallel(n_jobs=1)]: Done   8 out of   8 | elapsed: 25.8min finished\n"
     ]
    },
    {
     "name": "stdout",
     "output_type": "stream",
     "text": [
      "Starting DTM 2\n",
      "DTM has 86799 words\n"
     ]
    },
    {
     "name": "stderr",
     "output_type": "stream",
     "text": [
      "[Parallel(n_jobs=1)]: Done   8 out of   8 | elapsed: 15.5min finished\n"
     ]
    },
    {
     "name": "stdout",
     "output_type": "stream",
     "text": [
      "Starting DTM 3\n",
      "DTM has 115732 words\n"
     ]
    },
    {
     "name": "stderr",
     "output_type": "stream",
     "text": [
      "C:\\Users\\wertu\\Anaconda3\\envs\\capstone\\lib\\site-packages\\sklearn\\linear_model\\logistic.py:718: UserWarning: lbfgs failed to converge. Increase the number of iterations.\n",
      "  warnings.warn(\"lbfgs failed to converge. Increase the number \"\n",
      "[Parallel(n_jobs=1)]: Done   8 out of   8 | elapsed: 17.9min finished\n"
     ]
    },
    {
     "name": "stdout",
     "output_type": "stream",
     "text": [
      "Starting DTM 4\n",
      "DTM has 144665 words\n"
     ]
    },
    {
     "name": "stderr",
     "output_type": "stream",
     "text": [
      "[Parallel(n_jobs=1)]: Done   8 out of   8 | elapsed: 18.9min finished\n"
     ]
    },
    {
     "name": "stdout",
     "output_type": "stream",
     "text": [
      "Starting DTM 5\n",
      "DTM has 173598 words\n"
     ]
    },
    {
     "name": "stderr",
     "output_type": "stream",
     "text": [
      "[Parallel(n_jobs=1)]: Done   8 out of   8 | elapsed: 19.3min finished\n"
     ]
    },
    {
     "name": "stdout",
     "output_type": "stream",
     "text": [
      "Starting DTM 6\n",
      "DTM has 202531 words\n"
     ]
    },
    {
     "name": "stderr",
     "output_type": "stream",
     "text": [
      "[Parallel(n_jobs=1)]: Done   8 out of   8 | elapsed: 21.9min finished\n"
     ]
    },
    {
     "name": "stdout",
     "output_type": "stream",
     "text": [
      "Starting DTM 7\n",
      "DTM has 231464 words\n"
     ]
    },
    {
     "name": "stderr",
     "output_type": "stream",
     "text": [
      "[Parallel(n_jobs=1)]: Done   8 out of   8 | elapsed: 39.6min finished\n"
     ]
    },
    {
     "name": "stdout",
     "output_type": "stream",
     "text": [
      "Wall time: 3h 8min 17s\n"
     ]
    }
   ],
   "source": [
    "%%time\n",
    "results = maxfeatures_cv(feature_path, cs, folds = 8)"
   ]
  },
  {
   "cell_type": "code",
   "execution_count": 15,
   "metadata": {
    "collapsed": true
   },
   "outputs": [],
   "source": [
    "results = results.sort_values(\"accuracy\", ascending=False)\n",
    "results[\"one_std\"] = results.accuracy - results[\"StD\"]"
   ]
  },
  {
   "cell_type": "code",
   "execution_count": 16,
   "metadata": {},
   "outputs": [
    {
     "data": {
      "text/html": [
       "<div>\n",
       "<style>\n",
       "    .dataframe thead tr:only-child th {\n",
       "        text-align: right;\n",
       "    }\n",
       "\n",
       "    .dataframe thead th {\n",
       "        text-align: left;\n",
       "    }\n",
       "\n",
       "    .dataframe tbody tr th {\n",
       "        vertical-align: top;\n",
       "    }\n",
       "</style>\n",
       "<table border=\"1\" class=\"dataframe\">\n",
       "  <thead>\n",
       "    <tr style=\"text-align: right;\">\n",
       "      <th></th>\n",
       "      <th>C</th>\n",
       "      <th>C_indx</th>\n",
       "      <th>StD</th>\n",
       "      <th>accuracy</th>\n",
       "      <th>num_features</th>\n",
       "      <th>num_features_indx</th>\n",
       "      <th>one_std</th>\n",
       "    </tr>\n",
       "  </thead>\n",
       "  <tbody>\n",
       "    <tr>\n",
       "      <th>60</th>\n",
       "      <td>1.930698</td>\n",
       "      <td>4</td>\n",
       "      <td>0.003611</td>\n",
       "      <td>0.680481</td>\n",
       "      <td>231464</td>\n",
       "      <td>7</td>\n",
       "      <td>0.676871</td>\n",
       "    </tr>\n",
       "    <tr>\n",
       "      <th>52</th>\n",
       "      <td>1.930698</td>\n",
       "      <td>4</td>\n",
       "      <td>0.003467</td>\n",
       "      <td>0.679518</td>\n",
       "      <td>202531</td>\n",
       "      <td>6</td>\n",
       "      <td>0.676051</td>\n",
       "    </tr>\n",
       "    <tr>\n",
       "      <th>44</th>\n",
       "      <td>1.930698</td>\n",
       "      <td>4</td>\n",
       "      <td>0.003350</td>\n",
       "      <td>0.678621</td>\n",
       "      <td>173598</td>\n",
       "      <td>5</td>\n",
       "      <td>0.675271</td>\n",
       "    </tr>\n",
       "    <tr>\n",
       "      <th>36</th>\n",
       "      <td>1.930698</td>\n",
       "      <td>4</td>\n",
       "      <td>0.003297</td>\n",
       "      <td>0.677449</td>\n",
       "      <td>144665</td>\n",
       "      <td>4</td>\n",
       "      <td>0.674152</td>\n",
       "    </tr>\n",
       "    <tr>\n",
       "      <th>59</th>\n",
       "      <td>0.517947</td>\n",
       "      <td>3</td>\n",
       "      <td>0.003853</td>\n",
       "      <td>0.676200</td>\n",
       "      <td>231464</td>\n",
       "      <td>7</td>\n",
       "      <td>0.672347</td>\n",
       "    </tr>\n",
       "    <tr>\n",
       "      <th>28</th>\n",
       "      <td>1.930698</td>\n",
       "      <td>4</td>\n",
       "      <td>0.003554</td>\n",
       "      <td>0.675807</td>\n",
       "      <td>115732</td>\n",
       "      <td>3</td>\n",
       "      <td>0.672253</td>\n",
       "    </tr>\n",
       "    <tr>\n",
       "      <th>51</th>\n",
       "      <td>0.517947</td>\n",
       "      <td>3</td>\n",
       "      <td>0.003629</td>\n",
       "      <td>0.675445</td>\n",
       "      <td>202531</td>\n",
       "      <td>6</td>\n",
       "      <td>0.671817</td>\n",
       "    </tr>\n",
       "    <tr>\n",
       "      <th>43</th>\n",
       "      <td>0.517947</td>\n",
       "      <td>3</td>\n",
       "      <td>0.003327</td>\n",
       "      <td>0.674655</td>\n",
       "      <td>173598</td>\n",
       "      <td>5</td>\n",
       "      <td>0.671328</td>\n",
       "    </tr>\n",
       "    <tr>\n",
       "      <th>35</th>\n",
       "      <td>0.517947</td>\n",
       "      <td>3</td>\n",
       "      <td>0.003306</td>\n",
       "      <td>0.673998</td>\n",
       "      <td>144665</td>\n",
       "      <td>4</td>\n",
       "      <td>0.670692</td>\n",
       "    </tr>\n",
       "    <tr>\n",
       "      <th>20</th>\n",
       "      <td>1.930698</td>\n",
       "      <td>4</td>\n",
       "      <td>0.003381</td>\n",
       "      <td>0.673911</td>\n",
       "      <td>86799</td>\n",
       "      <td>2</td>\n",
       "      <td>0.670531</td>\n",
       "    </tr>\n",
       "  </tbody>\n",
       "</table>\n",
       "</div>"
      ],
      "text/plain": [
       "           C  C_indx       StD  accuracy  num_features  num_features_indx  \\\n",
       "60  1.930698       4  0.003611  0.680481        231464                  7   \n",
       "52  1.930698       4  0.003467  0.679518        202531                  6   \n",
       "44  1.930698       4  0.003350  0.678621        173598                  5   \n",
       "36  1.930698       4  0.003297  0.677449        144665                  4   \n",
       "59  0.517947       3  0.003853  0.676200        231464                  7   \n",
       "28  1.930698       4  0.003554  0.675807        115732                  3   \n",
       "51  0.517947       3  0.003629  0.675445        202531                  6   \n",
       "43  0.517947       3  0.003327  0.674655        173598                  5   \n",
       "35  0.517947       3  0.003306  0.673998        144665                  4   \n",
       "20  1.930698       4  0.003381  0.673911         86799                  2   \n",
       "\n",
       "     one_std  \n",
       "60  0.676871  \n",
       "52  0.676051  \n",
       "44  0.675271  \n",
       "36  0.674152  \n",
       "59  0.672347  \n",
       "28  0.672253  \n",
       "51  0.671817  \n",
       "43  0.671328  \n",
       "35  0.670692  \n",
       "20  0.670531  "
      ]
     },
     "execution_count": 16,
     "metadata": {},
     "output_type": "execute_result"
    }
   ],
   "source": [
    "results.head(10)"
   ]
  },
  {
   "cell_type": "markdown",
   "metadata": {},
   "source": [
    "## 3 - Evaluate Results"
   ]
  },
  {
   "cell_type": "code",
   "execution_count": 17,
   "metadata": {},
   "outputs": [
    {
     "data": {
      "text/plain": [
       "<matplotlib.axes._subplots.AxesSubplot at 0x2b04cc4e1d0>"
      ]
     },
     "execution_count": 17,
     "metadata": {},
     "output_type": "execute_result"
    },
    {
     "data": {
      "image/png": "[encoded data removed]",
      "text/plain": [
       "<matplotlib.figure.Figure at 0x2b0650ca6a0>"
      ]
     },
     "metadata": {},
     "output_type": "display_data"
    }
   ],
   "source": [
    "results.plot(x = 'C', y = 'accuracy', kind = 'scatter')"
   ]
  },
  {
   "cell_type": "code",
   "execution_count": 18,
   "metadata": {},
   "outputs": [
    {
     "data": {
      "text/plain": [
       "<matplotlib.axes._subplots.AxesSubplot at 0x2b061d4ec88>"
      ]
     },
     "execution_count": 18,
     "metadata": {},
     "output_type": "execute_result"
    },
    {
     "data": {
      "image/png": "[encoded data removed]",
      "text/plain": [
       "<matplotlib.figure.Figure at 0x2b04cc4e588>"
      ]
     },
     "metadata": {},
     "output_type": "display_data"
    }
   ],
   "source": [
    "results.plot(x = 'num_features', y = 'accuracy', kind = 'scatter')"
   ]
  },
  {
   "cell_type": "markdown",
   "metadata": {},
   "source": [
    "## Benchmark on Test"
   ]
  },
  {
   "cell_type": "markdown",
   "metadata": {},
   "source": [
    "Now that we have used crossfold validation to explore the parameter space, we can train the model on the whole train data using the best set of hyperparameters. We will then evaluate the performance of the model on the test data."
   ]
  },
  {
   "cell_type": "code",
   "execution_count": 19,
   "metadata": {
    "collapsed": true
   },
   "outputs": [],
   "source": [
    "best_C = results.iloc[0].C\n",
    "max_features = results.iloc[0].num_features"
   ]
  },
  {
   "cell_type": "code",
   "execution_count": 33,
   "metadata": {},
   "outputs": [
    {
     "name": "stdout",
     "output_type": "stream",
     "text": [
      "Wall time: 2min 19s\n"
     ]
    }
   ],
   "source": [
    "%%time\n",
    "vectorizer = TfidfVectorizer(analyzer= 'word',\n",
    "                             ngram_range=(1,3),\n",
    "                             max_df = 0.8,\n",
    "                             min_df = 5,\n",
    "                             max_features = int(max_features),\n",
    "                             stop_words = 'english')\n",
    "dtm = vectorizer.fit_transform(train.full_text)\n",
    "mdl = LogisticRegression(C = best_C, solver = 'lbfgs', max_iter=2000) \n",
    "mdl.fit(dtm, train.funny)\n",
    "test_dtm = vectorizer.transform(test.full_text)"
   ]
  },
  {
   "cell_type": "markdown",
   "metadata": {},
   "source": [
    "We will first evaluate the accuracy."
   ]
  },
  {
   "cell_type": "code",
   "execution_count": 34,
   "metadata": {},
   "outputs": [
    {
     "name": "stdout",
     "output_type": "stream",
     "text": [
      "Best linear model has an accuracy of 78.46% on the test data.\n",
      "Best linear model has an accuracy of 80.16% on the train data.\n"
     ]
    }
   ],
   "source": [
    "test_acc = mdl.score(test_dtm, test.funny)\n",
    "train_acc = mdl.score(dtm, train.funny)\n",
    "print(\"Best linear model has an accuracy of {0:.2%} on the test data.\".format(test_acc))\n",
    "print(\"Best linear model has an accuracy of {0:.2%} on the train data.\".format(train_acc))"
   ]
  },
  {
   "cell_type": "markdown",
   "metadata": {},
   "source": [
    "Now that have the accuracy, let's evaluate the the performance of the model using the area under the curve. The area of the curve is our preferred metric. It works better than accuracy when with unbalanced data."
   ]
  },
  {
   "cell_type": "code",
   "execution_count": 29,
   "metadata": {},
   "outputs": [
    {
     "data": {
      "image/png": "[encoded data removed]",
      "text/plain": [
       "<matplotlib.figure.Figure at 0x2b036c76048>"
      ]
     },
     "metadata": {},
     "output_type": "display_data"
    }
   ],
   "source": [
    "y_predicted = mdl.predict_proba(test_dtm)[:, 1]\n",
    "evaluation.roc_plot(test.funny,\n",
    "                    [y_predicted],\n",
    "                    [\"Best Linear\"],\n",
    "                    'reports/figures/ROC_best_linear.svg')"
   ]
  },
  {
   "cell_type": "markdown",
   "metadata": {},
   "source": [
    "# 3 - Save"
   ]
  },
  {
   "cell_type": "code",
   "execution_count": 35,
   "metadata": {},
   "outputs": [
    {
     "data": {
      "text/plain": [
       "['data/processed/dtm_features.pkl']"
      ]
     },
     "execution_count": 35,
     "metadata": {},
     "output_type": "execute_result"
    }
   ],
   "source": [
    "dtm_dict = {'train' : dtm,\n",
    "            'test' : test_dtm,\n",
    "            'vectorizer' : vectorizer}\n",
    "\n",
    "joblib.dump(dtm_dict, 'data/processed/dtm_features.pkl')\n",
    "joblib.dump(mdl, 'models/best_linear.pkl')"
   ]
  }
 ],
 "metadata": {
  "kernelspec": {
   "display_name": "Python 3",
   "language": "python",
   "name": "python3"
  },
  "language_info": {
   "codemirror_mode": {
    "name": "ipython",
    "version": 3
   },
   "file_extension": ".py",
   "mimetype": "text/x-python",
   "name": "python",
   "nbconvert_exporter": "python",
   "pygments_lexer": "ipython3",
   "version": "3.6.2"
  }
 },
 "nbformat": 4,
 "nbformat_minor": 2
}
