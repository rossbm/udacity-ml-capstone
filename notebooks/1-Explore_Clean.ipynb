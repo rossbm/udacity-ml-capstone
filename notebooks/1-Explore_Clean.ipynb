{
 "cells": [
  {
   "cell_type": "code",
   "execution_count": 3,
   "metadata": {},
   "outputs": [],
   "source": [
    "import pandas as pd\n",
    "import numpy as np\n",
    "import matplotlib.pyplot as plt\n",
    "import os\n",
    "\n",
    "PROJECT_DIR = os.path.join(os.getcwd(), os.pardir)\n",
    "%matplotlib inline"
   ]
  },
  {
   "cell_type": "markdown",
   "metadata": {},
   "source": [
    "# Introduction"
   ]
  },
  {
   "cell_type": "markdown",
   "metadata": {},
   "source": [
    "This notebooks loads up the data, explores it a bit, and does some cleaning. It results the train and test csv files, as well as the pretrained GloVe embeddings."
   ]
  },
  {
   "cell_type": "markdown",
   "metadata": {
    "collapsed": true
   },
   "source": [
    "# Read In"
   ]
  },
  {
   "cell_type": "code",
   "execution_count": 46,
   "metadata": {
    "collapsed": true
   },
   "outputs": [],
   "source": [
    "df = pd.read_csv(os.path.join(PROJECT_DIR,\"data/external/jokes.csv\"),  encoding = \"utf-8\", index_col = \"id\")"
   ]
  },
  {
   "cell_type": "code",
   "execution_count": 47,
   "metadata": {},
   "outputs": [
    {
     "data": {
      "text/html": [
       "<div>\n",
       "<style>\n",
       "    .dataframe thead tr:only-child th {\n",
       "        text-align: right;\n",
       "    }\n",
       "\n",
       "    .dataframe thead th {\n",
       "        text-align: left;\n",
       "    }\n",
       "\n",
       "    .dataframe tbody tr th {\n",
       "        vertical-align: top;\n",
       "    }\n",
       "</style>\n",
       "<table border=\"1\" class=\"dataframe\">\n",
       "  <thead>\n",
       "    <tr style=\"text-align: right;\">\n",
       "      <th></th>\n",
       "      <th>date</th>\n",
       "      <th>downs</th>\n",
       "      <th>score</th>\n",
       "      <th>text</th>\n",
       "      <th>title</th>\n",
       "      <th>ups</th>\n",
       "      <th>upvote_ratio</th>\n",
       "      <th>url</th>\n",
       "    </tr>\n",
       "    <tr>\n",
       "      <th>id</th>\n",
       "      <th></th>\n",
       "      <th></th>\n",
       "      <th></th>\n",
       "      <th></th>\n",
       "      <th></th>\n",
       "      <th></th>\n",
       "      <th></th>\n",
       "      <th></th>\n",
       "    </tr>\n",
       "  </thead>\n",
       "  <tbody>\n",
       "    <tr>\n",
       "      <th>6z8wju</th>\n",
       "      <td>1.505058e+09</td>\n",
       "      <td>0</td>\n",
       "      <td>1</td>\n",
       "      <td>She cant make a Yo Mama Joke, oh wait, that’s ...</td>\n",
       "      <td>Yo Mama So Stupid.....</td>\n",
       "      <td>1</td>\n",
       "      <td>1.0</td>\n",
       "      <td>https://www.reddit.com/r/Jokes/comments/6z8wju...</td>\n",
       "    </tr>\n",
       "    <tr>\n",
       "      <th>6z8vwj</th>\n",
       "      <td>1.505058e+09</td>\n",
       "      <td>0</td>\n",
       "      <td>0</td>\n",
       "      <td>\\nSnacks.</td>\n",
       "      <td>What do cannibals call midgets?</td>\n",
       "      <td>0</td>\n",
       "      <td>0.5</td>\n",
       "      <td>https://www.reddit.com/r/Jokes/comments/6z8vwj...</td>\n",
       "    </tr>\n",
       "    <tr>\n",
       "      <th>6z8vgv</th>\n",
       "      <td>1.505058e+09</td>\n",
       "      <td>0</td>\n",
       "      <td>1</td>\n",
       "      <td>I only come once a year</td>\n",
       "      <td>My wife makes me feel like christmas</td>\n",
       "      <td>1</td>\n",
       "      <td>1.0</td>\n",
       "      <td>https://www.reddit.com/r/Jokes/comments/6z8vgv...</td>\n",
       "    </tr>\n",
       "    <tr>\n",
       "      <th>6z8vea</th>\n",
       "      <td>1.505058e+09</td>\n",
       "      <td>0</td>\n",
       "      <td>1</td>\n",
       "      <td>Pennywise.</td>\n",
       "      <td>What do you call someone who gets their 1p cha...</td>\n",
       "      <td>1</td>\n",
       "      <td>1.0</td>\n",
       "      <td>https://www.reddit.com/r/Jokes/comments/6z8vea...</td>\n",
       "    </tr>\n",
       "    <tr>\n",
       "      <th>6z8v59</th>\n",
       "      <td>1.505058e+09</td>\n",
       "      <td>0</td>\n",
       "      <td>2</td>\n",
       "      <td>A chicken and an egg are lying in bed. The chi...</td>\n",
       "      <td>Who Came First</td>\n",
       "      <td>2</td>\n",
       "      <td>1.0</td>\n",
       "      <td>https://www.reddit.com/r/Jokes/comments/6z8v59...</td>\n",
       "    </tr>\n",
       "  </tbody>\n",
       "</table>\n",
       "</div>"
      ],
      "text/plain": [
       "                date  downs  score  \\\n",
       "id                                   \n",
       "6z8wju  1.505058e+09      0      1   \n",
       "6z8vwj  1.505058e+09      0      0   \n",
       "6z8vgv  1.505058e+09      0      1   \n",
       "6z8vea  1.505058e+09      0      1   \n",
       "6z8v59  1.505058e+09      0      2   \n",
       "\n",
       "                                                     text  \\\n",
       "id                                                          \n",
       "6z8wju  She cant make a Yo Mama Joke, oh wait, that’s ...   \n",
       "6z8vwj                                          \\nSnacks.   \n",
       "6z8vgv                            I only come once a year   \n",
       "6z8vea                                         Pennywise.   \n",
       "6z8v59  A chicken and an egg are lying in bed. The chi...   \n",
       "\n",
       "                                                    title  ups  upvote_ratio  \\\n",
       "id                                                                             \n",
       "6z8wju                             Yo Mama So Stupid.....    1           1.0   \n",
       "6z8vwj                    What do cannibals call midgets?    0           0.5   \n",
       "6z8vgv               My wife makes me feel like christmas    1           1.0   \n",
       "6z8vea  What do you call someone who gets their 1p cha...    1           1.0   \n",
       "6z8v59                                     Who Came First    2           1.0   \n",
       "\n",
       "                                                      url  \n",
       "id                                                         \n",
       "6z8wju  https://www.reddit.com/r/Jokes/comments/6z8wju...  \n",
       "6z8vwj  https://www.reddit.com/r/Jokes/comments/6z8vwj...  \n",
       "6z8vgv  https://www.reddit.com/r/Jokes/comments/6z8vgv...  \n",
       "6z8vea  https://www.reddit.com/r/Jokes/comments/6z8vea...  \n",
       "6z8v59  https://www.reddit.com/r/Jokes/comments/6z8v59...  "
      ]
     },
     "execution_count": 47,
     "metadata": {},
     "output_type": "execute_result"
    }
   ],
   "source": [
    "df.head()"
   ]
  },
  {
   "cell_type": "code",
   "execution_count": 48,
   "metadata": {},
   "outputs": [
    {
     "data": {
      "text/plain": [
       "Index(['date', 'downs', 'score', 'text', 'title', 'ups', 'upvote_ratio',\n",
       "       'url'],\n",
       "      dtype='object')"
      ]
     },
     "execution_count": 48,
     "metadata": {},
     "output_type": "execute_result"
    }
   ],
   "source": [
    "df.columns"
   ]
  },
  {
   "cell_type": "code",
   "execution_count": 49,
   "metadata": {},
   "outputs": [
    {
     "data": {
      "text/plain": [
       "(319747, 8)"
      ]
     },
     "execution_count": 49,
     "metadata": {},
     "output_type": "execute_result"
    }
   ],
   "source": [
    "df.shape"
   ]
  },
  {
   "cell_type": "markdown",
   "metadata": {},
   "source": [
    "Can see that there are 9 columns (including the id column). These columns are:\n",
    "\n",
    "|Variable      | Description |\n",
    "|:-------      | :------------:|\n",
    "| **id**           | Unique identifier assigned by Reddit|\n",
    "| **date**         | Post submission date, in Unix epoch time (seconds\n",
    "| **since**        | January 1, 1970)\n",
    "| **downs**        | Number of downvotes. Due to reddit protections, always equal to 0\n",
    "| **score**        | Net upvotes (fuzzed)\n",
    "| **text**         | Text of submission/post\n",
    "| **title**        | Title of submission/post\n",
    "| **ups**          | Number of upvotes. Due to reddit protections, this is equal to the score variable\n",
    "| **upvote_ratio** | Upvote ratio, ratio of upvotes to total votes\n",
    "| **url**           | Link to original post."
   ]
  },
  {
   "cell_type": "markdown",
   "metadata": {},
   "source": [
    "There are 319,747 records. A decent amount of data"
   ]
  },
  {
   "cell_type": "markdown",
   "metadata": {},
   "source": [
    "# Analyze scores"
   ]
  },
  {
   "cell_type": "code",
   "execution_count": 50,
   "metadata": {},
   "outputs": [
    {
     "data": {
      "text/plain": [
       "array([  0.00000000e+00,   0.00000000e+00,   0.00000000e+00,\n",
       "         0.00000000e+00,   4.00000000e+00,   2.00000000e+01,\n",
       "         1.13000000e+02,   3.21700000e+02,   2.58354000e+03,\n",
       "         9.80860000e+04])"
      ]
     },
     "execution_count": 50,
     "metadata": {},
     "output_type": "execute_result"
    }
   ],
   "source": [
    "np.percentile(df.ups, q = [1, 5, 10, 25, 50, 75, 90, 95, 99, 100])"
   ]
  },
  {
   "cell_type": "code",
   "execution_count": 51,
   "metadata": {},
   "outputs": [
    {
     "data": {
      "image/png": "[encoded data removed]",
      "text/plain": [
       "<matplotlib.figure.Figure at 0x157a3e81cf8>"
      ]
     },
     "metadata": {},
     "output_type": "display_data"
    }
   ],
   "source": [
    "plt.hist(df.upvote_ratio, 50, normed=1, facecolor='g', alpha=0.75)\n",
    "\n",
    "plt.xlabel('Net upvotrs (fuzzed)')\n",
    "plt.ylabel('Probability')\n",
    "plt.title('Histogram of upvotes')\n",
    "plt.grid(True)\n",
    "plt.show()"
   ]
  },
  {
   "cell_type": "code",
   "execution_count": 52,
   "metadata": {},
   "outputs": [
    {
     "data": {
      "image/png": "[encoded data removed]",
      "text/plain": [
       "<matplotlib.figure.Figure at 0x157860d2d68>"
      ]
     },
     "metadata": {},
     "output_type": "display_data"
    }
   ],
   "source": [
    "plt.hist(df.ups, 50, normed=1, facecolor='g', alpha=0.75)\n",
    "\n",
    "plt.xlabel('Net upvotrs (fuzzed)')\n",
    "plt.ylabel('Probability')\n",
    "plt.title('Histogram of upvotes')\n",
    "plt.grid(True)\n",
    "plt.show()"
   ]
  },
  {
   "cell_type": "markdown",
   "metadata": {},
   "source": [
    "# Analyze lengths "
   ]
  },
  {
   "cell_type": "code",
   "execution_count": 53,
   "metadata": {
    "collapsed": true
   },
   "outputs": [],
   "source": [
    "text_length = df.text.str.len()"
   ]
  },
  {
   "cell_type": "code",
   "execution_count": 54,
   "metadata": {},
   "outputs": [
    {
     "data": {
      "text/html": [
       "<div>\n",
       "<style>\n",
       "    .dataframe thead tr:only-child th {\n",
       "        text-align: right;\n",
       "    }\n",
       "\n",
       "    .dataframe thead th {\n",
       "        text-align: left;\n",
       "    }\n",
       "\n",
       "    .dataframe tbody tr th {\n",
       "        vertical-align: top;\n",
       "    }\n",
       "</style>\n",
       "<table border=\"1\" class=\"dataframe\">\n",
       "  <thead>\n",
       "    <tr style=\"text-align: right;\">\n",
       "      <th></th>\n",
       "      <th>date</th>\n",
       "      <th>downs</th>\n",
       "      <th>score</th>\n",
       "      <th>text</th>\n",
       "      <th>title</th>\n",
       "      <th>ups</th>\n",
       "      <th>upvote_ratio</th>\n",
       "      <th>url</th>\n",
       "    </tr>\n",
       "    <tr>\n",
       "      <th>id</th>\n",
       "      <th></th>\n",
       "      <th></th>\n",
       "      <th></th>\n",
       "      <th></th>\n",
       "      <th></th>\n",
       "      <th></th>\n",
       "      <th></th>\n",
       "      <th></th>\n",
       "    </tr>\n",
       "  </thead>\n",
       "  <tbody>\n",
       "    <tr>\n",
       "      <th>6z7zds</th>\n",
       "      <td>1.505047e+09</td>\n",
       "      <td>0</td>\n",
       "      <td>1</td>\n",
       "      <td>NaN</td>\n",
       "      <td>I hate it when people don't finish their jokes...</td>\n",
       "      <td>1</td>\n",
       "      <td>0.56</td>\n",
       "      <td>https://www.reddit.com/r/Jokes/comments/6z7zds...</td>\n",
       "    </tr>\n",
       "    <tr>\n",
       "      <th>6z7xeo</th>\n",
       "      <td>1.505046e+09</td>\n",
       "      <td>0</td>\n",
       "      <td>1</td>\n",
       "      <td>NaN</td>\n",
       "      <td>20 insane ways to get your app blocked. You wo...</td>\n",
       "      <td>1</td>\n",
       "      <td>0.60</td>\n",
       "      <td>https://www.reddit.com/r/Jokes/comments/6z7xeo...</td>\n",
       "    </tr>\n",
       "    <tr>\n",
       "      <th>6z1pi5</th>\n",
       "      <td>1.504964e+09</td>\n",
       "      <td>0</td>\n",
       "      <td>1</td>\n",
       "      <td>NaN</td>\n",
       "      <td>Opinions Are Like Assholes. Keep your thoughts...</td>\n",
       "      <td>1</td>\n",
       "      <td>0.60</td>\n",
       "      <td>https://www.reddit.com/r/Jokes/comments/6z1pi5...</td>\n",
       "    </tr>\n",
       "    <tr>\n",
       "      <th>6yxzh9</th>\n",
       "      <td>1.504909e+09</td>\n",
       "      <td>0</td>\n",
       "      <td>0</td>\n",
       "      <td>c4</td>\n",
       "      <td>What's a terrorist's favourite chess opening?</td>\n",
       "      <td>1</td>\n",
       "      <td>0.56</td>\n",
       "      <td>https://www.reddit.com/r/Jokes/comments/6yxzh9...</td>\n",
       "    </tr>\n",
       "    <tr>\n",
       "      <th>6y8lw8</th>\n",
       "      <td>1.504624e+09</td>\n",
       "      <td>0</td>\n",
       "      <td>0</td>\n",
       "      <td>Pi</td>\n",
       "      <td>What does 3.14159265 in the bathroom?</td>\n",
       "      <td>0</td>\n",
       "      <td>0.45</td>\n",
       "      <td>https://www.reddit.com/r/Jokes/comments/6y8lw8...</td>\n",
       "    </tr>\n",
       "  </tbody>\n",
       "</table>\n",
       "</div>"
      ],
      "text/plain": [
       "                date  downs  score text  \\\n",
       "id                                        \n",
       "6z7zds  1.505047e+09      0      1  NaN   \n",
       "6z7xeo  1.505046e+09      0      1  NaN   \n",
       "6z1pi5  1.504964e+09      0      1  NaN   \n",
       "6yxzh9  1.504909e+09      0      0   c4   \n",
       "6y8lw8  1.504624e+09      0      0   Pi   \n",
       "\n",
       "                                                    title  ups  upvote_ratio  \\\n",
       "id                                                                             \n",
       "6z7zds  I hate it when people don't finish their jokes...    1          0.56   \n",
       "6z7xeo  20 insane ways to get your app blocked. You wo...    1          0.60   \n",
       "6z1pi5  Opinions Are Like Assholes. Keep your thoughts...    1          0.60   \n",
       "6yxzh9      What's a terrorist's favourite chess opening?    1          0.56   \n",
       "6y8lw8              What does 3.14159265 in the bathroom?    0          0.45   \n",
       "\n",
       "                                                      url  \n",
       "id                                                         \n",
       "6z7zds  https://www.reddit.com/r/Jokes/comments/6z7zds...  \n",
       "6z7xeo  https://www.reddit.com/r/Jokes/comments/6z7xeo...  \n",
       "6z1pi5  https://www.reddit.com/r/Jokes/comments/6z1pi5...  \n",
       "6yxzh9  https://www.reddit.com/r/Jokes/comments/6yxzh9...  \n",
       "6y8lw8  https://www.reddit.com/r/Jokes/comments/6y8lw8...  "
      ]
     },
     "execution_count": 54,
     "metadata": {},
     "output_type": "execute_result"
    }
   ],
   "source": [
    "df[~(text_length >= 4)].head()"
   ]
  },
  {
   "cell_type": "markdown",
   "metadata": {},
   "source": [
    "Can see that there are some posts with non-existent lengths (no text). How many?"
   ]
  },
  {
   "cell_type": "code",
   "execution_count": 55,
   "metadata": {},
   "outputs": [
    {
     "name": "stdout",
     "output_type": "stream",
     "text": [
      "There are 4504 posts with no text\n"
     ]
    }
   ],
   "source": [
    "missing_text = pd.isnull(text_length)\n",
    "print(\"There are {} posts with no text\".format(np.sum(missing_text)))"
   ]
  },
  {
   "cell_type": "markdown",
   "metadata": {},
   "source": [
    "Obviosuly, should drop these. Some of them might be real jokes, but few."
   ]
  },
  {
   "cell_type": "code",
   "execution_count": null,
   "metadata": {
    "collapsed": true
   },
   "outputs": [],
   "source": []
  },
  {
   "cell_type": "code",
   "execution_count": null,
   "metadata": {
    "collapsed": true
   },
   "outputs": [],
   "source": []
  },
  {
   "cell_type": "code",
   "execution_count": 39,
   "metadata": {
    "collapsed": true
   },
   "outputs": [],
   "source": [
    "df = df[pd.notnull(text_length)]\n",
    "text_length = df.text.str.len()"
   ]
  },
  {
   "cell_type": "code",
   "execution_count": 27,
   "metadata": {},
   "outputs": [
    {
     "data": {
      "text/plain": [
       "array([  5.00000000e+00,   9.00000000e+00,   1.30000000e+01,\n",
       "         2.40000000e+01,   4.50000000e+01,   1.43000000e+02,\n",
       "         6.42000000e+02,   1.00400000e+03,   1.91500000e+03,\n",
       "         3.99140000e+04])"
      ]
     },
     "execution_count": 27,
     "metadata": {},
     "output_type": "execute_result"
    }
   ],
   "source": [
    "np.percentile(text_length, q = [1, 5, 10, 25, 50, 75, 90, 95, 99, 100])"
   ]
  },
  {
   "cell_type": "code",
   "execution_count": 40,
   "metadata": {},
   "outputs": [
    {
     "data": {
      "image/png": "[encoded data removed]",
      "text/plain": [
       "<matplotlib.figure.Figure at 0x1578570bb38>"
      ]
     },
     "metadata": {},
     "output_type": "display_data"
    }
   ],
   "source": [
    "# the histogram of the data\n",
    "plt.hist(text_length.values, 50, normed=1, facecolor='g', alpha=0.75)\n",
    "\n",
    "plt.xlabel('Length')\n",
    "plt.ylabel('Probability')\n",
    "plt.title('Histogram of text length')\n",
    "plt.grid(True)\n",
    "plt.show()"
   ]
  },
  {
   "cell_type": "code",
   "execution_count": null,
   "metadata": {
    "collapsed": true
   },
   "outputs": [],
   "source": []
  }
 ],
 "metadata": {
  "kernelspec": {
   "display_name": "Python 3",
   "language": "python",
   "name": "python3"
  },
  "language_info": {
   "codemirror_mode": {
    "name": "ipython",
    "version": 3
   },
   "file_extension": ".py",
   "mimetype": "text/x-python",
   "name": "python",
   "nbconvert_exporter": "python",
   "pygments_lexer": "ipython3",
   "version": "3.6.2"
  }
 },
 "nbformat": 4,
 "nbformat_minor": 2
}
