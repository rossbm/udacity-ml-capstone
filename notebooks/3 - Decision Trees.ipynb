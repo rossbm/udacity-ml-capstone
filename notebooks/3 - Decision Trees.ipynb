{
 "cells": [
  {
   "cell_type": "markdown",
   "metadata": {},
   "source": [
    "# 1 - Introduction"
   ]
  },
  {
   "cell_type": "markdown",
   "metadata": {},
   "source": [
    "This notebook explores whether non-linear models can outperform the baseline linear logistic regression model. Decision trees are an efficient method for of accounting for non-linearities. They are a particularly good choice for this project since they can naturally produce probability estimates. Probability estimates are needed for computing the area under the curve, my preferred performance metric. I will start by developing single tree models. I will then investigate whether Random Forests or Boosted Trees, models that grow multiple trees, outperform the single tree model."
   ]
  },
  {
   "cell_type": "markdown",
   "metadata": {},
   "source": [
    "## 1.1 - Load Packages and Global Variables"
   ]
  },
  {
   "cell_type": "code",
   "execution_count": 1,
   "metadata": {
    "collapsed": true
   },
   "outputs": [],
   "source": [
    "%matplotlib inline"
   ]
  },
  {
   "cell_type": "code",
   "execution_count": 1,
   "metadata": {
    "collapsed": true
   },
   "outputs": [],
   "source": [
    "import os\n",
    "import time\n",
    "from datetime import datetime\n",
    "import luigi\n",
    "from sklearn.externals import joblib\n",
    "from sklearn.ensemble import GradientBoostingClassifier, RandomForestClassifier\n",
    "from sklearn.tree import DecisionTreeClassifier, export_graphviz\n",
    "from sklearn.metrics import log_loss, roc_auc_score\n",
    "import numpy as np\n",
    "import pandas as pd\n",
    "import graphviz\n",
    "from sklearn.model_selection import RandomizedSearchCV, train_test_split\n",
    "from scipy.stats import distributions\n",
    "from IPython.display import SVG\n",
    "import xgboost as xgb\n",
    "from itertools import product\n",
    "from IPython.display import HTML"
   ]
  },
  {
   "cell_type": "code",
   "execution_count": 2,
   "metadata": {
    "collapsed": true
   },
   "outputs": [],
   "source": [
    "PROJECT_DIR = os.path.join(os.getcwd(), os.pardir)\n",
    "os.chdir(PROJECT_DIR)"
   ]
  },
  {
   "cell_type": "code",
   "execution_count": 3,
   "metadata": {
    "collapsed": true
   },
   "outputs": [],
   "source": [
    "from src import evaluation"
   ]
  },
  {
   "cell_type": "markdown",
   "metadata": {},
   "source": [
    "## 1.2 - Load the Data"
   ]
  },
  {
   "cell_type": "markdown",
   "metadata": {},
   "source": [
    "Load the cleaned test and train set, and complain if they are not available."
   ]
  },
  {
   "cell_type": "code",
   "execution_count": 4,
   "metadata": {
    "collapsed": true
   },
   "outputs": [],
   "source": [
    "#Load train data (needed for labels)\n",
    "try:\n",
    "    train = joblib.load('data/interim/train.pkl')\n",
    "except FileNotFoundError:\n",
    "    #if file not present, complain\n",
    "    print(\"Train file not found, maybe you should run Notebook 1?\")"
   ]
  },
  {
   "cell_type": "code",
   "execution_count": 5,
   "metadata": {
    "collapsed": true
   },
   "outputs": [],
   "source": [
    "#Load test data (needed for labels)\n",
    "try:\n",
    "    test = joblib.load('data/interim/test.pkl')\n",
    "except FileNotFoundError:\n",
    "    #if file not present, complain\n",
    "    print(\"Test file not found, maybe you should run Notebook 1?\")"
   ]
  },
  {
   "cell_type": "markdown",
   "metadata": {},
   "source": [
    "Load the document term matrix and complain if it is not available."
   ]
  },
  {
   "cell_type": "code",
   "execution_count": 6,
   "metadata": {
    "collapsed": true
   },
   "outputs": [],
   "source": [
    "#Load document term matrix\n",
    "try:\n",
    "    features = joblib.load('data/processed/dtm_features.pkl')\n",
    "except FileNotFoundError:\n",
    "    #if file not present, complain\n",
    "    print(\"Document term matrix file not found, maybe you should run Notebook 2?\")"
   ]
  },
  {
   "cell_type": "markdown",
   "metadata": {
    "collapsed": true
   },
   "source": [
    "Load the benchmark linear model and complain if it is not available."
   ]
  },
  {
   "cell_type": "code",
   "execution_count": 7,
   "metadata": {
    "collapsed": true
   },
   "outputs": [],
   "source": [
    "#Load benchmark linear model\n",
    "try:\n",
    "    lin_mdl = joblib.load('models/best_linear.pkl')\n",
    "except FileNotFoundError:\n",
    "    #if file not present, complain\n",
    "    print(\"Benchmark linear not found, maybe you should run Notebook 2?\")"
   ]
  },
  {
   "cell_type": "markdown",
   "metadata": {},
   "source": [
    "# 2 - Basic Trees"
   ]
  },
  {
   "cell_type": "markdown",
   "metadata": {
    "collapsed": true
   },
   "source": [
    "We will start with the \"basic\" decision tree model, which consists of a single decision tree with many splits."
   ]
  },
  {
   "cell_type": "markdown",
   "metadata": {},
   "source": [
    "We will first assess the results of training a decision treee model using sklearn's default Models composed of a single fully grown decision trees are prone to overfitting. Therefore we will engage in hyperparameter tuning to produce optimal results"
   ]
  },
  {
   "cell_type": "markdown",
   "metadata": {},
   "source": [
    "The sklearn implementation of decision trees uses the CART algorithm. The CART algorithm creates splits based on numeric criteria."
   ]
  },
  {
   "cell_type": "markdown",
   "metadata": {},
   "source": [
    "# 2.1 - Untuned Model"
   ]
  },
  {
   "cell_type": "markdown",
   "metadata": {
    "collapsed": true
   },
   "source": [
    "Before starting to tune the hyperparameters of the decison tree, let us train and assess a decision tree model using the default sklearn settings."
   ]
  },
  {
   "cell_type": "code",
   "execution_count": 9,
   "metadata": {},
   "outputs": [
    {
     "name": "stdout",
     "output_type": "stream",
     "text": [
      "Wall time: 10min 26s\n"
     ]
    }
   ],
   "source": [
    "%%time\n",
    "dt_base = DecisionTreeClassifier(max_depth = None, random_state = 99)\n",
    "dt_base.fit(features[\"train\"], train.funny)"
   ]
  },
  {
   "cell_type": "markdown",
   "metadata": {},
   "source": [
    "### 2.1.1 - Perfomance"
   ]
  },
  {
   "cell_type": "markdown",
   "metadata": {},
   "source": [
    "Let us evaluate the performance on the test set."
   ]
  },
  {
   "cell_type": "code",
   "execution_count": 10,
   "metadata": {},
   "outputs": [
    {
     "data": {
      "text/plain": [
       "0.61717664659993587"
      ]
     },
     "execution_count": 10,
     "metadata": {},
     "output_type": "execute_result"
    }
   ],
   "source": [
    "dt_base.score(features[\"test\"], test.funny)"
   ]
  },
  {
   "cell_type": "markdown",
   "metadata": {},
   "source": [
    "The above accuracy is quite low, lower than the linear model. This is not good. Let us calculate the AUC and compare it to the benchmark lienar model"
   ]
  },
  {
   "cell_type": "code",
   "execution_count": 11,
   "metadata": {},
   "outputs": [
    {
     "data": {
      "image/png": "[encoded data removed]",
      "text/plain": [
       "<matplotlib.figure.Figure at 0x2af0ba032b0>"
      ]
     },
     "metadata": {},
     "output_type": "display_data"
    }
   ],
   "source": [
    "dt_base_probs = dt_base.predict_proba(features[\"test\"]) [:, 1]\n",
    "lin_probs = lin_mdl.predict_proba(features[\"test\"]) [:, 1]\n",
    "evaluation.roc_plot(test.funny,\n",
    "                    [dt_base_probs, lin_probs],\n",
    "                    [\"Untuned Tree\", \"Benchmark Linear\"],\n",
    "                    'reports/figures/ROC_dt_base.svg')"
   ]
  },
  {
   "cell_type": "markdown",
   "metadata": {},
   "source": [
    "We can see that the initial, unoptimized, decision tree model significantly underperforms the best linear model. This is not surprising, since decision trees have a tendency to overfit. This tendency to overfit can also be observed from the relatively long time that it takes to fit the model. The number of terminal nodes (leaves) is an also an indication of how hard the model is fitting to the data. "
   ]
  },
  {
   "cell_type": "code",
   "execution_count": 12,
   "metadata": {},
   "outputs": [
    {
     "data": {
      "text/plain": [
       "0.98553755807622045"
      ]
     },
     "execution_count": 12,
     "metadata": {},
     "output_type": "execute_result"
    }
   ],
   "source": [
    "#difference between train and test scores indicate overfitting\n",
    "dt_base.score(features[\"train\"], train.funny)"
   ]
  },
  {
   "cell_type": "code",
   "execution_count": 13,
   "metadata": {},
   "outputs": [
    {
     "name": "stdout",
     "output_type": "stream",
     "text": [
      "There are 41056 terminal nodes\n",
      "There are an average of 4.79 observations in a terminal node.\n"
     ]
    }
   ],
   "source": [
    "unique_leaves = np.unique(dt_base.apply(features[\"train\"]))\n",
    "num_leaves = len(unique_leaves)\n",
    "print(\"There are {} terminal nodes\".format(num_leaves))\n",
    "obs_per_leaf = features[\"train\"].shape[0] / len(unique_leaves)\n",
    "print(\"There are an average of {:0.2f} observations in a terminal node.\".format(obs_per_leaf))"
   ]
  },
  {
   "cell_type": "markdown",
   "metadata": {},
   "source": [
    "### 2.1.2 - Visualization"
   ]
  },
  {
   "cell_type": "markdown",
   "metadata": {},
   "source": [
    "Let's visualize the very upper portion of the tree."
   ]
  },
  {
   "cell_type": "code",
   "execution_count": 14,
   "metadata": {
    "collapsed": true
   },
   "outputs": [],
   "source": [
    "tree_dot = export_graphviz(dt_base,\n",
    "                           out_file=None,\n",
    "                           feature_names=features[\"vectorizer\"].get_feature_names(),\n",
    "                           label='all',\n",
    "                           filled=True,\n",
    "                           class_names=[\"Unfunny\", \"Funny\"],\n",
    "                           proportion=True,\n",
    "                           max_depth=3)"
   ]
  },
  {
   "cell_type": "code",
   "execution_count": 15,
   "metadata": {},
   "outputs": [
    {
     "data": {
      "text/html": [
       "<?xml version=\"1.0\" encoding=\"UTF-8\" standalone=\"no\"?>\n",
       "<!DOCTYPE svg PUBLIC \"-//W3C//DTD SVG 1.1//EN\"\n",
       " \"http://www.w3.org/Graphics/SVG/1.1/DTD/svg11.dtd\">\n",
       "<!-- Generated by graphviz version 2.38.0 (20140413.2041)\n",
       " -->\n",
       "<!-- Title: Tree Pages: 1 -->\n",
       "<svg width=\"1232pt\" height=\"520pt\"\n",
       " viewBox=\"0.00 0.00 1232.00 520.00\" xmlns=\"http://www.w3.org/2000/svg\" xmlns:xlink=\"http://www.w3.org/1999/xlink\">\n",
       "<g id=\"graph0\" class=\"graph\" transform=\"scale(1 1) rotate(0) translate(4 516)\">\n",
       "<title>Tree</title>\n",
       "<polygon fill=\"white\" stroke=\"none\" points=\"-4,4 -4,-516 1228,-516 1228,4 -4,4\"/>\n",
       "<!-- 0 -->\n",
       "<g id=\"node1\" class=\"node\"><title>0</title>\n",
       "<polygon fill=\"#e58139\" fill-opacity=\"0.050980\" stroke=\"black\" points=\"641,-512 502,-512 502,-429 641,-429 641,-512\"/>\n",
       "<text text-anchor=\"middle\" x=\"571.5\" y=\"-496.8\" font-family=\"Times New Roman,serif\" font-size=\"14.00\">says &lt;= 0.008</text>\n",
       "<text text-anchor=\"middle\" x=\"571.5\" y=\"-481.8\" font-family=\"Times New Roman,serif\" font-size=\"14.00\">gini = 0.5</text>\n",
       "<text text-anchor=\"middle\" x=\"571.5\" y=\"-466.8\" font-family=\"Times New Roman,serif\" font-size=\"14.00\">samples = 100.0%</text>\n",
       "<text text-anchor=\"middle\" x=\"571.5\" y=\"-451.8\" font-family=\"Times New Roman,serif\" font-size=\"14.00\">value = [0.514, 0.486]</text>\n",
       "<text text-anchor=\"middle\" x=\"571.5\" y=\"-436.8\" font-family=\"Times New Roman,serif\" font-size=\"14.00\">class = Unfunny</text>\n",
       "</g>\n",
       "<!-- 1 -->\n",
       "<g id=\"node2\" class=\"node\"><title>1</title>\n",
       "<polygon fill=\"#e58139\" fill-opacity=\"0.152941\" stroke=\"black\" points=\"526,-393 387,-393 387,-310 526,-310 526,-393\"/>\n",
       "<text text-anchor=\"middle\" x=\"456.5\" y=\"-377.8\" font-family=\"Times New Roman,serif\" font-size=\"14.00\">said &lt;= 0.006</text>\n",
       "<text text-anchor=\"middle\" x=\"456.5\" y=\"-362.8\" font-family=\"Times New Roman,serif\" font-size=\"14.00\">gini = 0.497</text>\n",
       "<text text-anchor=\"middle\" x=\"456.5\" y=\"-347.8\" font-family=\"Times New Roman,serif\" font-size=\"14.00\">samples = 87.7%</text>\n",
       "<text text-anchor=\"middle\" x=\"456.5\" y=\"-332.8\" font-family=\"Times New Roman,serif\" font-size=\"14.00\">value = [0.541, 0.459]</text>\n",
       "<text text-anchor=\"middle\" x=\"456.5\" y=\"-317.8\" font-family=\"Times New Roman,serif\" font-size=\"14.00\">class = Unfunny</text>\n",
       "</g>\n",
       "<!-- 0&#45;&gt;1 -->\n",
       "<g id=\"edge1\" class=\"edge\"><title>0&#45;&gt;1</title>\n",
       "<path fill=\"none\" stroke=\"black\" d=\"M531.601,-428.907C522.503,-419.651 512.754,-409.732 503.393,-400.209\"/>\n",
       "<polygon fill=\"black\" stroke=\"black\" points=\"505.834,-397.699 496.328,-393.021 500.842,-402.606 505.834,-397.699\"/>\n",
       "<text text-anchor=\"middle\" x=\"496.113\" y=\"-414.32\" font-family=\"Times New Roman,serif\" font-size=\"14.00\">True</text>\n",
       "</g>\n",
       "<!-- 74976 -->\n",
       "<g id=\"node17\" class=\"node\"><title>74976</title>\n",
       "<polygon fill=\"#399de5\" fill-opacity=\"0.533333\" stroke=\"black\" points=\"756,-393 617,-393 617,-310 756,-310 756,-393\"/>\n",
       "<text text-anchor=\"middle\" x=\"686.5\" y=\"-377.8\" font-family=\"Times New Roman,serif\" font-size=\"14.00\">asks &lt;= 0.008</text>\n",
       "<text text-anchor=\"middle\" x=\"686.5\" y=\"-362.8\" font-family=\"Times New Roman,serif\" font-size=\"14.00\">gini = 0.434</text>\n",
       "<text text-anchor=\"middle\" x=\"686.5\" y=\"-347.8\" font-family=\"Times New Roman,serif\" font-size=\"14.00\">samples = 12.3%</text>\n",
       "<text text-anchor=\"middle\" x=\"686.5\" y=\"-332.8\" font-family=\"Times New Roman,serif\" font-size=\"14.00\">value = [0.318, 0.682]</text>\n",
       "<text text-anchor=\"middle\" x=\"686.5\" y=\"-317.8\" font-family=\"Times New Roman,serif\" font-size=\"14.00\">class = Funny</text>\n",
       "</g>\n",
       "<!-- 0&#45;&gt;74976 -->\n",
       "<g id=\"edge16\" class=\"edge\"><title>0&#45;&gt;74976</title>\n",
       "<path fill=\"none\" stroke=\"black\" d=\"M611.399,-428.907C620.497,-419.651 630.246,-409.732 639.607,-400.209\"/>\n",
       "<polygon fill=\"black\" stroke=\"black\" points=\"642.158,-402.606 646.672,-393.021 637.166,-397.699 642.158,-402.606\"/>\n",
       "<text text-anchor=\"middle\" x=\"646.887\" y=\"-414.32\" font-family=\"Times New Roman,serif\" font-size=\"14.00\">False</text>\n",
       "</g>\n",
       "<!-- 2 -->\n",
       "<g id=\"node3\" class=\"node\"><title>2</title>\n",
       "<polygon fill=\"#e58139\" fill-opacity=\"0.215686\" stroke=\"black\" points=\"289,-274 164,-274 164,-191 289,-191 289,-274\"/>\n",
       "<text text-anchor=\"middle\" x=\"226.5\" y=\"-258.8\" font-family=\"Times New Roman,serif\" font-size=\"14.00\">wife &lt;= 0.019</text>\n",
       "<text text-anchor=\"middle\" x=\"226.5\" y=\"-243.8\" font-family=\"Times New Roman,serif\" font-size=\"14.00\">gini = 0.493</text>\n",
       "<text text-anchor=\"middle\" x=\"226.5\" y=\"-228.8\" font-family=\"Times New Roman,serif\" font-size=\"14.00\">samples = 79.8%</text>\n",
       "<text text-anchor=\"middle\" x=\"226.5\" y=\"-213.8\" font-family=\"Times New Roman,serif\" font-size=\"14.00\">value = [0.56, 0.44]</text>\n",
       "<text text-anchor=\"middle\" x=\"226.5\" y=\"-198.8\" font-family=\"Times New Roman,serif\" font-size=\"14.00\">class = Unfunny</text>\n",
       "</g>\n",
       "<!-- 1&#45;&gt;2 -->\n",
       "<g id=\"edge2\" class=\"edge\"><title>1&#45;&gt;2</title>\n",
       "<path fill=\"none\" stroke=\"black\" d=\"M386.868,-315.079C358.832,-300.817 326.51,-284.375 298.263,-270.005\"/>\n",
       "<polygon fill=\"black\" stroke=\"black\" points=\"299.745,-266.833 289.245,-265.418 296.571,-273.072 299.745,-266.833\"/>\n",
       "</g>\n",
       "<!-- 69891 -->\n",
       "<g id=\"node10\" class=\"node\"><title>69891</title>\n",
       "<polygon fill=\"#399de5\" fill-opacity=\"0.462745\" stroke=\"black\" points=\"526,-274 387,-274 387,-191 526,-191 526,-274\"/>\n",
       "<text text-anchor=\"middle\" x=\"456.5\" y=\"-258.8\" font-family=\"Times New Roman,serif\" font-size=\"14.00\">replied &lt;= 0.005</text>\n",
       "<text text-anchor=\"middle\" x=\"456.5\" y=\"-243.8\" font-family=\"Times New Roman,serif\" font-size=\"14.00\">gini = 0.455</text>\n",
       "<text text-anchor=\"middle\" x=\"456.5\" y=\"-228.8\" font-family=\"Times New Roman,serif\" font-size=\"14.00\">samples = 7.9%</text>\n",
       "<text text-anchor=\"middle\" x=\"456.5\" y=\"-213.8\" font-family=\"Times New Roman,serif\" font-size=\"14.00\">value = [0.349, 0.651]</text>\n",
       "<text text-anchor=\"middle\" x=\"456.5\" y=\"-198.8\" font-family=\"Times New Roman,serif\" font-size=\"14.00\">class = Funny</text>\n",
       "</g>\n",
       "<!-- 1&#45;&gt;69891 -->\n",
       "<g id=\"edge9\" class=\"edge\"><title>1&#45;&gt;69891</title>\n",
       "<path fill=\"none\" stroke=\"black\" d=\"M456.5,-309.907C456.5,-301.649 456.5,-292.864 456.5,-284.302\"/>\n",
       "<polygon fill=\"black\" stroke=\"black\" points=\"460,-284.021 456.5,-274.021 453,-284.021 460,-284.021\"/>\n",
       "</g>\n",
       "<!-- 3 -->\n",
       "<g id=\"node4\" class=\"node\"><title>3</title>\n",
       "<polygon fill=\"#e58139\" fill-opacity=\"0.235294\" stroke=\"black\" points=\"139,-155 0,-155 0,-72 139,-72 139,-155\"/>\n",
       "<text text-anchor=\"middle\" x=\"69.5\" y=\"-139.8\" font-family=\"Times New Roman,serif\" font-size=\"14.00\">asks &lt;= 0.011</text>\n",
       "<text text-anchor=\"middle\" x=\"69.5\" y=\"-124.8\" font-family=\"Times New Roman,serif\" font-size=\"14.00\">gini = 0.491</text>\n",
       "<text text-anchor=\"middle\" x=\"69.5\" y=\"-109.8\" font-family=\"Times New Roman,serif\" font-size=\"14.00\">samples = 77.1%</text>\n",
       "<text text-anchor=\"middle\" x=\"69.5\" y=\"-94.8\" font-family=\"Times New Roman,serif\" font-size=\"14.00\">value = [0.566, 0.434]</text>\n",
       "<text text-anchor=\"middle\" x=\"69.5\" y=\"-79.8\" font-family=\"Times New Roman,serif\" font-size=\"14.00\">class = Unfunny</text>\n",
       "</g>\n",
       "<!-- 2&#45;&gt;3 -->\n",
       "<g id=\"edge3\" class=\"edge\"><title>2&#45;&gt;3</title>\n",
       "<path fill=\"none\" stroke=\"black\" d=\"M172.03,-190.907C159.121,-181.288 145.254,-170.953 132.019,-161.09\"/>\n",
       "<polygon fill=\"black\" stroke=\"black\" points=\"133.984,-158.19 123.874,-155.021 129.801,-163.803 133.984,-158.19\"/>\n",
       "</g>\n",
       "<!-- 67958 -->\n",
       "<g id=\"node7\" class=\"node\"><title>67958</title>\n",
       "<polygon fill=\"#399de5\" fill-opacity=\"0.384314\" stroke=\"black\" points=\"296,-155 157,-155 157,-72 296,-72 296,-155\"/>\n",
       "<text text-anchor=\"middle\" x=\"226.5\" y=\"-139.8\" font-family=\"Times New Roman,serif\" font-size=\"14.00\">wife &lt;= 0.133</text>\n",
       "<text text-anchor=\"middle\" x=\"226.5\" y=\"-124.8\" font-family=\"Times New Roman,serif\" font-size=\"14.00\">gini = 0.472</text>\n",
       "<text text-anchor=\"middle\" x=\"226.5\" y=\"-109.8\" font-family=\"Times New Roman,serif\" font-size=\"14.00\">samples = 2.6%</text>\n",
       "<text text-anchor=\"middle\" x=\"226.5\" y=\"-94.8\" font-family=\"Times New Roman,serif\" font-size=\"14.00\">value = [0.381, 0.619]</text>\n",
       "<text text-anchor=\"middle\" x=\"226.5\" y=\"-79.8\" font-family=\"Times New Roman,serif\" font-size=\"14.00\">class = Funny</text>\n",
       "</g>\n",
       "<!-- 2&#45;&gt;67958 -->\n",
       "<g id=\"edge6\" class=\"edge\"><title>2&#45;&gt;67958</title>\n",
       "<path fill=\"none\" stroke=\"black\" d=\"M226.5,-190.907C226.5,-182.649 226.5,-173.864 226.5,-165.302\"/>\n",
       "<polygon fill=\"black\" stroke=\"black\" points=\"230,-165.021 226.5,-155.021 223,-165.021 230,-165.021\"/>\n",
       "</g>\n",
       "<!-- 4 -->\n",
       "<g id=\"node5\" class=\"node\"><title>4</title>\n",
       "<polygon fill=\"#c0c0c0\" stroke=\"black\" points=\"76.5,-36 22.5,-36 22.5,-0 76.5,-0 76.5,-36\"/>\n",
       "<text text-anchor=\"middle\" x=\"49.5\" y=\"-14.3\" font-family=\"Times New Roman,serif\" font-size=\"14.00\">(...)</text>\n",
       "</g>\n",
       "<!-- 3&#45;&gt;4 -->\n",
       "<g id=\"edge4\" class=\"edge\"><title>3&#45;&gt;4</title>\n",
       "<path fill=\"none\" stroke=\"black\" d=\"M60.7859,-71.7615C58.9414,-63.1387 57.0377,-54.2385 55.3311,-46.2606\"/>\n",
       "<polygon fill=\"black\" stroke=\"black\" points=\"58.7374,-45.4518 53.223,-36.4051 51.8922,-46.916 58.7374,-45.4518\"/>\n",
       "</g>\n",
       "<!-- 66651 -->\n",
       "<g id=\"node6\" class=\"node\"><title>66651</title>\n",
       "<polygon fill=\"#c0c0c0\" stroke=\"black\" points=\"148.5,-36 94.5,-36 94.5,-0 148.5,-0 148.5,-36\"/>\n",
       "<text text-anchor=\"middle\" x=\"121.5\" y=\"-14.3\" font-family=\"Times New Roman,serif\" font-size=\"14.00\">(...)</text>\n",
       "</g>\n",
       "<!-- 3&#45;&gt;66651 -->\n",
       "<g id=\"edge5\" class=\"edge\"><title>3&#45;&gt;66651</title>\n",
       "<path fill=\"none\" stroke=\"black\" d=\"M92.1567,-71.7615C97.1678,-62.7512 102.347,-53.4379 106.934,-45.1906\"/>\n",
       "<polygon fill=\"black\" stroke=\"black\" points=\"110.018,-46.8456 111.82,-36.4051 103.901,-43.4433 110.018,-46.8456\"/>\n",
       "</g>\n",
       "<!-- 67959 -->\n",
       "<g id=\"node8\" class=\"node\"><title>67959</title>\n",
       "<polygon fill=\"#c0c0c0\" stroke=\"black\" points=\"221.5,-36 167.5,-36 167.5,-0 221.5,-0 221.5,-36\"/>\n",
       "<text text-anchor=\"middle\" x=\"194.5\" y=\"-14.3\" font-family=\"Times New Roman,serif\" font-size=\"14.00\">(...)</text>\n",
       "</g>\n",
       "<!-- 67958&#45;&gt;67959 -->\n",
       "<g id=\"edge7\" class=\"edge\"><title>67958&#45;&gt;67959</title>\n",
       "<path fill=\"none\" stroke=\"black\" d=\"M212.557,-71.7615C209.573,-63.0419 206.492,-54.0385 203.738,-45.9921\"/>\n",
       "<polygon fill=\"black\" stroke=\"black\" points=\"207.006,-44.733 200.457,-36.4051 200.384,-46.9997 207.006,-44.733\"/>\n",
       "</g>\n",
       "<!-- 68936 -->\n",
       "<g id=\"node9\" class=\"node\"><title>68936</title>\n",
       "<polygon fill=\"#c0c0c0\" stroke=\"black\" points=\"293.5,-36 239.5,-36 239.5,-0 293.5,-0 293.5,-36\"/>\n",
       "<text text-anchor=\"middle\" x=\"266.5\" y=\"-14.3\" font-family=\"Times New Roman,serif\" font-size=\"14.00\">(...)</text>\n",
       "</g>\n",
       "<!-- 67958&#45;&gt;68936 -->\n",
       "<g id=\"edge8\" class=\"edge\"><title>67958&#45;&gt;68936</title>\n",
       "<path fill=\"none\" stroke=\"black\" d=\"M243.928,-71.7615C247.7,-62.945 251.596,-53.8384 255.067,-45.7242\"/>\n",
       "<polygon fill=\"black\" stroke=\"black\" points=\"258.339,-46.9758 259.054,-36.4051 251.903,-44.2224 258.339,-46.9758\"/>\n",
       "</g>\n",
       "<!-- 69892 -->\n",
       "<g id=\"node11\" class=\"node\"><title>69892</title>\n",
       "<polygon fill=\"#399de5\" fill-opacity=\"0.380392\" stroke=\"black\" points=\"453,-155 314,-155 314,-72 453,-72 453,-155\"/>\n",
       "<text text-anchor=\"middle\" x=\"383.5\" y=\"-139.8\" font-family=\"Times New Roman,serif\" font-size=\"14.00\">said &lt;= 0.042</text>\n",
       "<text text-anchor=\"middle\" x=\"383.5\" y=\"-124.8\" font-family=\"Times New Roman,serif\" font-size=\"14.00\">gini = 0.472</text>\n",
       "<text text-anchor=\"middle\" x=\"383.5\" y=\"-109.8\" font-family=\"Times New Roman,serif\" font-size=\"14.00\">samples = 6.2%</text>\n",
       "<text text-anchor=\"middle\" x=\"383.5\" y=\"-94.8\" font-family=\"Times New Roman,serif\" font-size=\"14.00\">value = [0.382, 0.618]</text>\n",
       "<text text-anchor=\"middle\" x=\"383.5\" y=\"-79.8\" font-family=\"Times New Roman,serif\" font-size=\"14.00\">class = Funny</text>\n",
       "</g>\n",
       "<!-- 69891&#45;&gt;69892 -->\n",
       "<g id=\"edge10\" class=\"edge\"><title>69891&#45;&gt;69892</title>\n",
       "<path fill=\"none\" stroke=\"black\" d=\"M431.173,-190.907C425.681,-182.105 419.815,-172.703 414.143,-163.612\"/>\n",
       "<polygon fill=\"black\" stroke=\"black\" points=\"417.045,-161.652 408.782,-155.021 411.106,-165.358 417.045,-161.652\"/>\n",
       "</g>\n",
       "<!-- 74153 -->\n",
       "<g id=\"node14\" class=\"node\"><title>74153</title>\n",
       "<polygon fill=\"#399de5\" fill-opacity=\"0.701961\" stroke=\"black\" points=\"596,-155 471,-155 471,-72 596,-72 596,-155\"/>\n",
       "<text text-anchor=\"middle\" x=\"533.5\" y=\"-139.8\" font-family=\"Times New Roman,serif\" font-size=\"14.00\">replied &lt;= 0.081</text>\n",
       "<text text-anchor=\"middle\" x=\"533.5\" y=\"-124.8\" font-family=\"Times New Roman,serif\" font-size=\"14.00\">gini = 0.354</text>\n",
       "<text text-anchor=\"middle\" x=\"533.5\" y=\"-109.8\" font-family=\"Times New Roman,serif\" font-size=\"14.00\">samples = 1.7%</text>\n",
       "<text text-anchor=\"middle\" x=\"533.5\" y=\"-94.8\" font-family=\"Times New Roman,serif\" font-size=\"14.00\">value = [0.23, 0.77]</text>\n",
       "<text text-anchor=\"middle\" x=\"533.5\" y=\"-79.8\" font-family=\"Times New Roman,serif\" font-size=\"14.00\">class = Funny</text>\n",
       "</g>\n",
       "<!-- 69891&#45;&gt;74153 -->\n",
       "<g id=\"edge13\" class=\"edge\"><title>69891&#45;&gt;74153</title>\n",
       "<path fill=\"none\" stroke=\"black\" d=\"M483.215,-190.907C489.008,-182.105 495.195,-172.703 501.178,-163.612\"/>\n",
       "<polygon fill=\"black\" stroke=\"black\" points=\"504.259,-165.298 506.832,-155.021 498.411,-161.45 504.259,-165.298\"/>\n",
       "</g>\n",
       "<!-- 69893 -->\n",
       "<g id=\"node12\" class=\"node\"><title>69893</title>\n",
       "<polygon fill=\"#c0c0c0\" stroke=\"black\" points=\"366.5,-36 312.5,-36 312.5,-0 366.5,-0 366.5,-36\"/>\n",
       "<text text-anchor=\"middle\" x=\"339.5\" y=\"-14.3\" font-family=\"Times New Roman,serif\" font-size=\"14.00\">(...)</text>\n",
       "</g>\n",
       "<!-- 69892&#45;&gt;69893 -->\n",
       "<g id=\"edge11\" class=\"edge\"><title>69892&#45;&gt;69893</title>\n",
       "<path fill=\"none\" stroke=\"black\" d=\"M364.329,-71.7615C360.134,-62.8481 355.8,-53.6382 351.95,-45.4571\"/>\n",
       "<polygon fill=\"black\" stroke=\"black\" points=\"355.116,-43.963 347.691,-36.4051 348.782,-46.9436 355.116,-43.963\"/>\n",
       "</g>\n",
       "<!-- 70344 -->\n",
       "<g id=\"node13\" class=\"node\"><title>70344</title>\n",
       "<polygon fill=\"#c0c0c0\" stroke=\"black\" points=\"438.5,-36 384.5,-36 384.5,-0 438.5,-0 438.5,-36\"/>\n",
       "<text text-anchor=\"middle\" x=\"411.5\" y=\"-14.3\" font-family=\"Times New Roman,serif\" font-size=\"14.00\">(...)</text>\n",
       "</g>\n",
       "<!-- 69892&#45;&gt;70344 -->\n",
       "<g id=\"edge12\" class=\"edge\"><title>69892&#45;&gt;70344</title>\n",
       "<path fill=\"none\" stroke=\"black\" d=\"M395.7,-71.7615C398.311,-63.0419 401.007,-54.0385 403.417,-45.9921\"/>\n",
       "<polygon fill=\"black\" stroke=\"black\" points=\"406.772,-46.9889 406.288,-36.4051 400.066,-44.9807 406.772,-46.9889\"/>\n",
       "</g>\n",
       "<!-- 74154 -->\n",
       "<g id=\"node15\" class=\"node\"><title>74154</title>\n",
       "<polygon fill=\"#c0c0c0\" stroke=\"black\" points=\"513.5,-36 459.5,-36 459.5,-0 513.5,-0 513.5,-36\"/>\n",
       "<text text-anchor=\"middle\" x=\"486.5\" y=\"-14.3\" font-family=\"Times New Roman,serif\" font-size=\"14.00\">(...)</text>\n",
       "</g>\n",
       "<!-- 74153&#45;&gt;74154 -->\n",
       "<g id=\"edge14\" class=\"edge\"><title>74153&#45;&gt;74154</title>\n",
       "<path fill=\"none\" stroke=\"black\" d=\"M513.022,-71.7615C508.541,-62.8481 503.912,-53.6382 499.799,-45.4571\"/>\n",
       "<polygon fill=\"black\" stroke=\"black\" points=\"502.868,-43.7679 495.249,-36.4051 496.613,-46.9118 502.868,-43.7679\"/>\n",
       "</g>\n",
       "<!-- 74679 -->\n",
       "<g id=\"node16\" class=\"node\"><title>74679</title>\n",
       "<polygon fill=\"#c0c0c0\" stroke=\"black\" points=\"585.5,-36 531.5,-36 531.5,-0 585.5,-0 585.5,-36\"/>\n",
       "<text text-anchor=\"middle\" x=\"558.5\" y=\"-14.3\" font-family=\"Times New Roman,serif\" font-size=\"14.00\">(...)</text>\n",
       "</g>\n",
       "<!-- 74153&#45;&gt;74679 -->\n",
       "<g id=\"edge15\" class=\"edge\"><title>74153&#45;&gt;74679</title>\n",
       "<path fill=\"none\" stroke=\"black\" d=\"M544.393,-71.7615C546.698,-63.1387 549.078,-54.2385 551.211,-46.2606\"/>\n",
       "<polygon fill=\"black\" stroke=\"black\" points=\"554.644,-46.9698 553.846,-36.4051 547.882,-45.1616 554.644,-46.9698\"/>\n",
       "</g>\n",
       "<!-- 74977 -->\n",
       "<g id=\"node18\" class=\"node\"><title>74977</title>\n",
       "<polygon fill=\"#399de5\" fill-opacity=\"0.458824\" stroke=\"black\" points=\"756,-274 617,-274 617,-191 756,-191 756,-274\"/>\n",
       "<text text-anchor=\"middle\" x=\"686.5\" y=\"-258.8\" font-family=\"Times New Roman,serif\" font-size=\"14.00\">says &lt;= 0.039</text>\n",
       "<text text-anchor=\"middle\" x=\"686.5\" y=\"-243.8\" font-family=\"Times New Roman,serif\" font-size=\"14.00\">gini = 0.455</text>\n",
       "<text text-anchor=\"middle\" x=\"686.5\" y=\"-228.8\" font-family=\"Times New Roman,serif\" font-size=\"14.00\">samples = 8.3%</text>\n",
       "<text text-anchor=\"middle\" x=\"686.5\" y=\"-213.8\" font-family=\"Times New Roman,serif\" font-size=\"14.00\">value = [0.351, 0.649]</text>\n",
       "<text text-anchor=\"middle\" x=\"686.5\" y=\"-198.8\" font-family=\"Times New Roman,serif\" font-size=\"14.00\">class = Funny</text>\n",
       "</g>\n",
       "<!-- 74976&#45;&gt;74977 -->\n",
       "<g id=\"edge17\" class=\"edge\"><title>74976&#45;&gt;74977</title>\n",
       "<path fill=\"none\" stroke=\"black\" d=\"M686.5,-309.907C686.5,-301.649 686.5,-292.864 686.5,-284.302\"/>\n",
       "<polygon fill=\"black\" stroke=\"black\" points=\"690,-284.021 686.5,-274.021 683,-284.021 690,-284.021\"/>\n",
       "</g>\n",
       "<!-- 80092 -->\n",
       "<g id=\"node25\" class=\"node\"><title>80092</title>\n",
       "<polygon fill=\"#399de5\" fill-opacity=\"0.662745\" stroke=\"black\" points=\"1067,-274 928,-274 928,-191 1067,-191 1067,-274\"/>\n",
       "<text text-anchor=\"middle\" x=\"997.5\" y=\"-258.8\" font-family=\"Times New Roman,serif\" font-size=\"14.00\">asks &lt;= 0.037</text>\n",
       "<text text-anchor=\"middle\" x=\"997.5\" y=\"-243.8\" font-family=\"Times New Roman,serif\" font-size=\"14.00\">gini = 0.376</text>\n",
       "<text text-anchor=\"middle\" x=\"997.5\" y=\"-228.8\" font-family=\"Times New Roman,serif\" font-size=\"14.00\">samples = 4.1%</text>\n",
       "<text text-anchor=\"middle\" x=\"997.5\" y=\"-213.8\" font-family=\"Times New Roman,serif\" font-size=\"14.00\">value = [0.251, 0.749]</text>\n",
       "<text text-anchor=\"middle\" x=\"997.5\" y=\"-198.8\" font-family=\"Times New Roman,serif\" font-size=\"14.00\">class = Funny</text>\n",
       "</g>\n",
       "<!-- 74976&#45;&gt;80092 -->\n",
       "<g id=\"edge24\" class=\"edge\"><title>74976&#45;&gt;80092</title>\n",
       "<path fill=\"none\" stroke=\"black\" d=\"M756.294,-324.243C804.413,-306.141 868.453,-282.048 918.454,-263.238\"/>\n",
       "<polygon fill=\"black\" stroke=\"black\" points=\"919.811,-266.466 927.938,-259.669 917.346,-259.915 919.811,-266.466\"/>\n",
       "</g>\n",
       "<!-- 74978 -->\n",
       "<g id=\"node19\" class=\"node\"><title>74978</title>\n",
       "<polygon fill=\"#399de5\" fill-opacity=\"0.670588\" stroke=\"black\" points=\"753,-155 614,-155 614,-72 753,-72 753,-155\"/>\n",
       "<text text-anchor=\"middle\" x=\"683.5\" y=\"-139.8\" font-family=\"Times New Roman,serif\" font-size=\"14.00\">computer &lt;= 0.047</text>\n",
       "<text text-anchor=\"middle\" x=\"683.5\" y=\"-124.8\" font-family=\"Times New Roman,serif\" font-size=\"14.00\">gini = 0.372</text>\n",
       "<text text-anchor=\"middle\" x=\"683.5\" y=\"-109.8\" font-family=\"Times New Roman,serif\" font-size=\"14.00\">samples = 1.4%</text>\n",
       "<text text-anchor=\"middle\" x=\"683.5\" y=\"-94.8\" font-family=\"Times New Roman,serif\" font-size=\"14.00\">value = [0.247, 0.753]</text>\n",
       "<text text-anchor=\"middle\" x=\"683.5\" y=\"-79.8\" font-family=\"Times New Roman,serif\" font-size=\"14.00\">class = Funny</text>\n",
       "</g>\n",
       "<!-- 74977&#45;&gt;74978 -->\n",
       "<g id=\"edge18\" class=\"edge\"><title>74977&#45;&gt;74978</title>\n",
       "<path fill=\"none\" stroke=\"black\" d=\"M685.459,-190.907C685.245,-182.558 685.017,-173.671 684.795,-165.02\"/>\n",
       "<polygon fill=\"black\" stroke=\"black\" points=\"688.294,-164.928 684.539,-155.021 681.297,-165.107 688.294,-164.928\"/>\n",
       "</g>\n",
       "<!-- 75657 -->\n",
       "<g id=\"node22\" class=\"node\"><title>75657</title>\n",
       "<polygon fill=\"#399de5\" fill-opacity=\"0.407843\" stroke=\"black\" points=\"910,-155 771,-155 771,-72 910,-72 910,-155\"/>\n",
       "<text text-anchor=\"middle\" x=\"840.5\" y=\"-139.8\" font-family=\"Times New Roman,serif\" font-size=\"14.00\">bar says &lt;= 0.188</text>\n",
       "<text text-anchor=\"middle\" x=\"840.5\" y=\"-124.8\" font-family=\"Times New Roman,serif\" font-size=\"14.00\">gini = 0.467</text>\n",
       "<text text-anchor=\"middle\" x=\"840.5\" y=\"-109.8\" font-family=\"Times New Roman,serif\" font-size=\"14.00\">samples = 6.8%</text>\n",
       "<text text-anchor=\"middle\" x=\"840.5\" y=\"-94.8\" font-family=\"Times New Roman,serif\" font-size=\"14.00\">value = [0.372, 0.628]</text>\n",
       "<text text-anchor=\"middle\" x=\"840.5\" y=\"-79.8\" font-family=\"Times New Roman,serif\" font-size=\"14.00\">class = Funny</text>\n",
       "</g>\n",
       "<!-- 74977&#45;&gt;75657 -->\n",
       "<g id=\"edge21\" class=\"edge\"><title>74977&#45;&gt;75657</title>\n",
       "<path fill=\"none\" stroke=\"black\" d=\"M739.93,-190.907C752.591,-181.288 766.194,-170.953 779.176,-161.09\"/>\n",
       "<polygon fill=\"black\" stroke=\"black\" points=\"781.32,-163.857 787.165,-155.021 777.085,-158.283 781.32,-163.857\"/>\n",
       "</g>\n",
       "<!-- 74979 -->\n",
       "<g id=\"node20\" class=\"node\"><title>74979</title>\n",
       "<polygon fill=\"#c0c0c0\" stroke=\"black\" points=\"662.5,-36 608.5,-36 608.5,-0 662.5,-0 662.5,-36\"/>\n",
       "<text text-anchor=\"middle\" x=\"635.5\" y=\"-14.3\" font-family=\"Times New Roman,serif\" font-size=\"14.00\">(...)</text>\n",
       "</g>\n",
       "<!-- 74978&#45;&gt;74979 -->\n",
       "<g id=\"edge19\" class=\"edge\"><title>74978&#45;&gt;74979</title>\n",
       "<path fill=\"none\" stroke=\"black\" d=\"M662.586,-71.7615C658.01,-62.8481 653.282,-53.6382 649.082,-45.4571\"/>\n",
       "<polygon fill=\"black\" stroke=\"black\" points=\"652.116,-43.7028 644.435,-36.4051 645.889,-46.8998 652.116,-43.7028\"/>\n",
       "</g>\n",
       "<!-- 75650 -->\n",
       "<g id=\"node21\" class=\"node\"><title>75650</title>\n",
       "<polygon fill=\"#c0c0c0\" stroke=\"black\" points=\"734.5,-36 680.5,-36 680.5,-0 734.5,-0 734.5,-36\"/>\n",
       "<text text-anchor=\"middle\" x=\"707.5\" y=\"-14.3\" font-family=\"Times New Roman,serif\" font-size=\"14.00\">(...)</text>\n",
       "</g>\n",
       "<!-- 74978&#45;&gt;75650 -->\n",
       "<g id=\"edge20\" class=\"edge\"><title>74978&#45;&gt;75650</title>\n",
       "<path fill=\"none\" stroke=\"black\" d=\"M693.957,-71.7615C696.17,-63.1387 698.455,-54.2385 700.503,-46.2606\"/>\n",
       "<polygon fill=\"black\" stroke=\"black\" points=\"703.936,-46.9613 703.032,-36.4051 697.156,-45.2209 703.936,-46.9613\"/>\n",
       "</g>\n",
       "<!-- 75658 -->\n",
       "<g id=\"node23\" class=\"node\"><title>75658</title>\n",
       "<polygon fill=\"#c0c0c0\" stroke=\"black\" points=\"816.5,-36 762.5,-36 762.5,-0 816.5,-0 816.5,-36\"/>\n",
       "<text text-anchor=\"middle\" x=\"789.5\" y=\"-14.3\" font-family=\"Times New Roman,serif\" font-size=\"14.00\">(...)</text>\n",
       "</g>\n",
       "<!-- 75657&#45;&gt;75658 -->\n",
       "<g id=\"edge22\" class=\"edge\"><title>75657&#45;&gt;75658</title>\n",
       "<path fill=\"none\" stroke=\"black\" d=\"M818.279,-71.7615C813.364,-62.7512 808.284,-53.4379 803.786,-45.1906\"/>\n",
       "<polygon fill=\"black\" stroke=\"black\" points=\"806.855,-43.5081 798.994,-36.4051 800.71,-46.8601 806.855,-43.5081\"/>\n",
       "</g>\n",
       "<!-- 80051 -->\n",
       "<g id=\"node24\" class=\"node\"><title>80051</title>\n",
       "<polygon fill=\"#c0c0c0\" stroke=\"black\" points=\"888.5,-36 834.5,-36 834.5,-0 888.5,-0 888.5,-36\"/>\n",
       "<text text-anchor=\"middle\" x=\"861.5\" y=\"-14.3\" font-family=\"Times New Roman,serif\" font-size=\"14.00\">(...)</text>\n",
       "</g>\n",
       "<!-- 75657&#45;&gt;80051 -->\n",
       "<g id=\"edge23\" class=\"edge\"><title>75657&#45;&gt;80051</title>\n",
       "<path fill=\"none\" stroke=\"black\" d=\"M849.65,-71.7615C851.586,-63.1387 853.585,-54.2385 855.377,-46.2606\"/>\n",
       "<polygon fill=\"black\" stroke=\"black\" points=\"858.814,-46.9291 857.591,-36.4051 851.984,-45.395 858.814,-46.9291\"/>\n",
       "</g>\n",
       "<!-- 80093 -->\n",
       "<g id=\"node26\" class=\"node\"><title>80093</title>\n",
       "<polygon fill=\"#399de5\" fill-opacity=\"0.772549\" stroke=\"black\" points=\"1067,-155 928,-155 928,-72 1067,-72 1067,-155\"/>\n",
       "<text text-anchor=\"middle\" x=\"997.5\" y=\"-139.8\" font-family=\"Times New Roman,serif\" font-size=\"14.00\">cave &lt;= 0.012</text>\n",
       "<text text-anchor=\"middle\" x=\"997.5\" y=\"-124.8\" font-family=\"Times New Roman,serif\" font-size=\"14.00\">gini = 0.303</text>\n",
       "<text text-anchor=\"middle\" x=\"997.5\" y=\"-109.8\" font-family=\"Times New Roman,serif\" font-size=\"14.00\">samples = 1.2%</text>\n",
       "<text text-anchor=\"middle\" x=\"997.5\" y=\"-94.8\" font-family=\"Times New Roman,serif\" font-size=\"14.00\">value = [0.186, 0.814]</text>\n",
       "<text text-anchor=\"middle\" x=\"997.5\" y=\"-79.8\" font-family=\"Times New Roman,serif\" font-size=\"14.00\">class = Funny</text>\n",
       "</g>\n",
       "<!-- 80092&#45;&gt;80093 -->\n",
       "<g id=\"edge25\" class=\"edge\"><title>80092&#45;&gt;80093</title>\n",
       "<path fill=\"none\" stroke=\"black\" d=\"M997.5,-190.907C997.5,-182.649 997.5,-173.864 997.5,-165.302\"/>\n",
       "<polygon fill=\"black\" stroke=\"black\" points=\"1001,-165.021 997.5,-155.021 994,-165.021 1001,-165.021\"/>\n",
       "</g>\n",
       "<!-- 80542 -->\n",
       "<g id=\"node29\" class=\"node\"><title>80542</title>\n",
       "<polygon fill=\"#399de5\" fill-opacity=\"0.615686\" stroke=\"black\" points=\"1224,-155 1085,-155 1085,-72 1224,-72 1224,-155\"/>\n",
       "<text text-anchor=\"middle\" x=\"1154.5\" y=\"-139.8\" font-family=\"Times New Roman,serif\" font-size=\"14.00\">walk &lt;= 0.065</text>\n",
       "<text text-anchor=\"middle\" x=\"1154.5\" y=\"-124.8\" font-family=\"Times New Roman,serif\" font-size=\"14.00\">gini = 0.401</text>\n",
       "<text text-anchor=\"middle\" x=\"1154.5\" y=\"-109.8\" font-family=\"Times New Roman,serif\" font-size=\"14.00\">samples = 2.9%</text>\n",
       "<text text-anchor=\"middle\" x=\"1154.5\" y=\"-94.8\" font-family=\"Times New Roman,serif\" font-size=\"14.00\">value = [0.278, 0.722]</text>\n",
       "<text text-anchor=\"middle\" x=\"1154.5\" y=\"-79.8\" font-family=\"Times New Roman,serif\" font-size=\"14.00\">class = Funny</text>\n",
       "</g>\n",
       "<!-- 80092&#45;&gt;80542 -->\n",
       "<g id=\"edge28\" class=\"edge\"><title>80092&#45;&gt;80542</title>\n",
       "<path fill=\"none\" stroke=\"black\" d=\"M1051.97,-190.907C1064.88,-181.288 1078.75,-170.953 1091.98,-161.09\"/>\n",
       "<polygon fill=\"black\" stroke=\"black\" points=\"1094.2,-163.803 1100.13,-155.021 1090.02,-158.19 1094.2,-163.803\"/>\n",
       "</g>\n",
       "<!-- 80094 -->\n",
       "<g id=\"node27\" class=\"node\"><title>80094</title>\n",
       "<polygon fill=\"#c0c0c0\" stroke=\"black\" points=\"980.5,-36 926.5,-36 926.5,-0 980.5,-0 980.5,-36\"/>\n",
       "<text text-anchor=\"middle\" x=\"953.5\" y=\"-14.3\" font-family=\"Times New Roman,serif\" font-size=\"14.00\">(...)</text>\n",
       "</g>\n",
       "<!-- 80093&#45;&gt;80094 -->\n",
       "<g id=\"edge26\" class=\"edge\"><title>80093&#45;&gt;80094</title>\n",
       "<path fill=\"none\" stroke=\"black\" d=\"M978.329,-71.7615C974.134,-62.8481 969.8,-53.6382 965.95,-45.4571\"/>\n",
       "<polygon fill=\"black\" stroke=\"black\" points=\"969.116,-43.963 961.691,-36.4051 962.782,-46.9436 969.116,-43.963\"/>\n",
       "</g>\n",
       "<!-- 80539 -->\n",
       "<g id=\"node28\" class=\"node\"><title>80539</title>\n",
       "<polygon fill=\"#c0c0c0\" stroke=\"black\" points=\"1052.5,-36 998.5,-36 998.5,-0 1052.5,-0 1052.5,-36\"/>\n",
       "<text text-anchor=\"middle\" x=\"1025.5\" y=\"-14.3\" font-family=\"Times New Roman,serif\" font-size=\"14.00\">(...)</text>\n",
       "</g>\n",
       "<!-- 80093&#45;&gt;80539 -->\n",
       "<g id=\"edge27\" class=\"edge\"><title>80093&#45;&gt;80539</title>\n",
       "<path fill=\"none\" stroke=\"black\" d=\"M1009.7,-71.7615C1012.31,-63.0419 1015.01,-54.0385 1017.42,-45.9921\"/>\n",
       "<polygon fill=\"black\" stroke=\"black\" points=\"1020.77,-46.9889 1020.29,-36.4051 1014.07,-44.9807 1020.77,-46.9889\"/>\n",
       "</g>\n",
       "<!-- 80543 -->\n",
       "<g id=\"node30\" class=\"node\"><title>80543</title>\n",
       "<polygon fill=\"#c0c0c0\" stroke=\"black\" points=\"1145.5,-36 1091.5,-36 1091.5,-0 1145.5,-0 1145.5,-36\"/>\n",
       "<text text-anchor=\"middle\" x=\"1118.5\" y=\"-14.3\" font-family=\"Times New Roman,serif\" font-size=\"14.00\">(...)</text>\n",
       "</g>\n",
       "<!-- 80542&#45;&gt;80543 -->\n",
       "<g id=\"edge29\" class=\"edge\"><title>80542&#45;&gt;80543</title>\n",
       "<path fill=\"none\" stroke=\"black\" d=\"M1138.81,-71.7615C1135.46,-63.0419 1131.99,-54.0385 1128.89,-45.9921\"/>\n",
       "<polygon fill=\"black\" stroke=\"black\" points=\"1132.06,-44.4797 1125.2,-36.4051 1125.53,-46.9949 1132.06,-44.4797\"/>\n",
       "</g>\n",
       "<!-- 82064 -->\n",
       "<g id=\"node31\" class=\"node\"><title>82064</title>\n",
       "<polygon fill=\"#c0c0c0\" stroke=\"black\" points=\"1217.5,-36 1163.5,-36 1163.5,-0 1217.5,-0 1217.5,-36\"/>\n",
       "<text text-anchor=\"middle\" x=\"1190.5\" y=\"-14.3\" font-family=\"Times New Roman,serif\" font-size=\"14.00\">(...)</text>\n",
       "</g>\n",
       "<!-- 80542&#45;&gt;82064 -->\n",
       "<g id=\"edge30\" class=\"edge\"><title>80542&#45;&gt;82064</title>\n",
       "<path fill=\"none\" stroke=\"black\" d=\"M1170.19,-71.7615C1173.54,-63.0419 1177.01,-54.0385 1180.11,-45.9921\"/>\n",
       "<polygon fill=\"black\" stroke=\"black\" points=\"1183.47,-46.9949 1183.8,-36.4051 1176.94,-44.4797 1183.47,-46.9949\"/>\n",
       "</g>\n",
       "</g>\n",
       "</svg>\n"
      ],
      "text/plain": [
       "<IPython.core.display.HTML object>"
      ]
     },
     "metadata": {},
     "output_type": "display_data"
    }
   ],
   "source": [
    "tree_graph = graphviz.Source(tree_dot,\n",
    "                             format='svg',\n",
    "                             engine=\"dot\",\n",
    "                             filename=\"reports/figures/tree_visual\")\n",
    "display(HTML(open(tree_graph.render()).read()))"
   ]
  },
  {
   "cell_type": "markdown",
   "metadata": {},
   "source": [
    "From the above visualization, one can see that jokes with dialogue are funny."
   ]
  },
  {
   "cell_type": "markdown",
   "metadata": {},
   "source": [
    "### 2.1.3 Feature Importance"
   ]
  },
  {
   "cell_type": "markdown",
   "metadata": {},
   "source": [
    "Finally, let us examine the most important features"
   ]
  },
  {
   "cell_type": "code",
   "execution_count": 16,
   "metadata": {},
   "outputs": [
    {
     "data": {
      "text/plain": [
       "array(['goes', 'called', 'want', 'thought', 'going', 'years', 'really',\n",
       "       'girl', 'old', 'think', 'friend', 'girlfriend', 'new', 'tell',\n",
       "       'night', 've', 'woman', 'good', 'told', 'went', 'today', 'replies',\n",
       "       'trump', 'common', 'sex', 'guy', 'replied', 'bar', 'time', 'make',\n",
       "       'day', 'black', 'say', 'difference', 'll', 'people', 'man', 'got',\n",
       "       'don', 'does', 'know', 'asked', 'joke', 'like', 'just', 'did',\n",
       "       'asks', 'wife', 'said', 'says'],\n",
       "      dtype='<U58')"
      ]
     },
     "execution_count": 16,
     "metadata": {},
     "output_type": "execute_result"
    }
   ],
   "source": [
    "top_base_features = np.argsort(dt_base.feature_importances_)[-50:]\n",
    "np.array(features[\"vectorizer\"].get_feature_names())[top_base_features]"
   ]
  },
  {
   "cell_type": "markdown",
   "metadata": {},
   "source": [
    "One can see a fair of amount of synomoms or similar words above. This suggests more processing of features could be done. However this is time consuming. More advanced and efficient techniques for dealing with semantically similary words will be explored when training neural networks models."
   ]
  },
  {
   "cell_type": "markdown",
   "metadata": {},
   "source": [
    "## 2.2 - Tuning"
   ]
  },
  {
   "cell_type": "markdown",
   "metadata": {},
   "source": [
    "As the preceding section shows, the basic, untuned, decision tree model underperforms the linear model by signifcant margin. In this section, we will try and improve the performance of the basic decision tree by evaluating the perfomance of the basic decision tree under various combinations of hyperparameters. The hyperparameters that we will try help reduce overfitting by stopping growth once the tree has become too complex. As an added bonus, a less complex decision tree will faster to train."
   ]
  },
  {
   "cell_type": "markdown",
   "metadata": {},
   "source": [
    "### 2.1.1 - Random Search "
   ]
  },
  {
   "cell_type": "markdown",
   "metadata": {},
   "source": [
    "Rather than engaging in an exhaustive grid search for the optimal set of hyperparameters, we will instead try a randomized search. For each iteration, a randomized search samples the specified hyperparameters from a distribution. This can be much more efficient than an exhaustive grid search.\n",
    "\n",
    "See http://www.jmlr.org/papers/v13/bergstra12a.html"
   ]
  },
  {
   "cell_type": "code",
   "execution_count": 21,
   "metadata": {
    "collapsed": true
   },
   "outputs": [],
   "source": [
    "#for min_impurity_decrease sample from the uniform distrubion\n",
    "#lower bound is loc, and upper bound is scale + loc\n",
    "#want lower bound of 0, and upper bound of 0.0005\n",
    "min_impurity_decrease = distributions.uniform(loc = 0, scale = 5*(1e-4))\n",
    "#for min_samples_split provide a list of integer rangin from 1 to 14\n",
    "#it will be sampled from, and will be equivalent to randomly samping from a uniform distribution\n",
    "min_samples_split = [i for i in range(2,15)]\n",
    "\n",
    "to_search = {'min_impurity_decrease':min_impurity_decrease,\n",
    "            'min_samples_split':min_samples_split}"
   ]
  },
  {
   "cell_type": "code",
   "execution_count": 22,
   "metadata": {
    "scrolled": true
   },
   "outputs": [
    {
     "name": "stdout",
     "output_type": "stream",
     "text": [
      "Fitting 5 folds for each of 100 candidates, totalling 500 fits\n"
     ]
    },
    {
     "name": "stderr",
     "output_type": "stream",
     "text": [
      "[Parallel(n_jobs=10)]: Done  30 tasks      | elapsed:   56.9s\n",
      "[Parallel(n_jobs=10)]: Done 180 tasks      | elapsed: 10.2min\n",
      "[Parallel(n_jobs=10)]: Done 430 tasks      | elapsed: 39.5min\n",
      "[Parallel(n_jobs=10)]: Done 500 out of 500 | elapsed: 52.3min finished\n"
     ]
    },
    {
     "name": "stdout",
     "output_type": "stream",
     "text": [
      "Wall time: 53min 45s\n"
     ]
    }
   ],
   "source": [
    "%%time\n",
    "dt_best = RandomizedSearchCV(estimator = DecisionTreeClassifier(),\n",
    "                  param_distributions=to_search,\n",
    "                  n_jobs=10,\n",
    "                  n_iter=100,        \n",
    "                  cv=5,\n",
    "                  verbose=1,\n",
    "                  random_state=11222017)\n",
    "dt_best.fit(features[\"train\"], train.funny)"
   ]
  },
  {
   "cell_type": "markdown",
   "metadata": {},
   "source": [
    "### 2.1.2 Results"
   ]
  },
  {
   "cell_type": "markdown",
   "metadata": {},
   "source": [
    "Now that we have the results, let us analyze them. \n",
    "\n",
    "First, let's see if we can visually detect any pattern in the best performing hyperparameter sets."
   ]
  },
  {
   "cell_type": "code",
   "execution_count": 23,
   "metadata": {},
   "outputs": [
    {
     "data": {
      "text/html": [
       "<div>\n",
       "<style>\n",
       "    .dataframe thead tr:only-child th {\n",
       "        text-align: right;\n",
       "    }\n",
       "\n",
       "    .dataframe thead th {\n",
       "        text-align: left;\n",
       "    }\n",
       "\n",
       "    .dataframe tbody tr th {\n",
       "        vertical-align: top;\n",
       "    }\n",
       "</style>\n",
       "<table border=\"1\" class=\"dataframe\">\n",
       "  <thead>\n",
       "    <tr style=\"text-align: right;\">\n",
       "      <th></th>\n",
       "      <th>mean_test_score</th>\n",
       "      <th>mean_train_score</th>\n",
       "      <th>param_min_impurity_decrease</th>\n",
       "      <th>param_min_samples_split</th>\n",
       "      <th>rank_test_score</th>\n",
       "    </tr>\n",
       "  </thead>\n",
       "  <tbody>\n",
       "    <tr>\n",
       "      <th>79</th>\n",
       "      <td>0.625468</td>\n",
       "      <td>0.692659</td>\n",
       "      <td>0.000028</td>\n",
       "      <td>12</td>\n",
       "      <td>1</td>\n",
       "    </tr>\n",
       "    <tr>\n",
       "      <th>55</th>\n",
       "      <td>0.625381</td>\n",
       "      <td>0.763940</td>\n",
       "      <td>0.000019</td>\n",
       "      <td>4</td>\n",
       "      <td>2</td>\n",
       "    </tr>\n",
       "    <tr>\n",
       "      <th>93</th>\n",
       "      <td>0.625300</td>\n",
       "      <td>0.711053</td>\n",
       "      <td>0.000025</td>\n",
       "      <td>6</td>\n",
       "      <td>3</td>\n",
       "    </tr>\n",
       "    <tr>\n",
       "      <th>48</th>\n",
       "      <td>0.625249</td>\n",
       "      <td>0.717009</td>\n",
       "      <td>0.000024</td>\n",
       "      <td>3</td>\n",
       "      <td>4</td>\n",
       "    </tr>\n",
       "    <tr>\n",
       "      <th>82</th>\n",
       "      <td>0.625188</td>\n",
       "      <td>0.715097</td>\n",
       "      <td>0.000024</td>\n",
       "      <td>4</td>\n",
       "      <td>5</td>\n",
       "    </tr>\n",
       "    <tr>\n",
       "      <th>13</th>\n",
       "      <td>0.624272</td>\n",
       "      <td>0.671674</td>\n",
       "      <td>0.000033</td>\n",
       "      <td>2</td>\n",
       "      <td>6</td>\n",
       "    </tr>\n",
       "    <tr>\n",
       "      <th>91</th>\n",
       "      <td>0.623941</td>\n",
       "      <td>0.788358</td>\n",
       "      <td>0.000017</td>\n",
       "      <td>3</td>\n",
       "      <td>7</td>\n",
       "    </tr>\n",
       "    <tr>\n",
       "      <th>71</th>\n",
       "      <td>0.623376</td>\n",
       "      <td>0.786821</td>\n",
       "      <td>0.000017</td>\n",
       "      <td>5</td>\n",
       "      <td>8</td>\n",
       "    </tr>\n",
       "    <tr>\n",
       "      <th>39</th>\n",
       "      <td>0.622491</td>\n",
       "      <td>0.802241</td>\n",
       "      <td>0.000015</td>\n",
       "      <td>12</td>\n",
       "      <td>9</td>\n",
       "    </tr>\n",
       "    <tr>\n",
       "      <th>42</th>\n",
       "      <td>0.621590</td>\n",
       "      <td>0.643602</td>\n",
       "      <td>0.000045</td>\n",
       "      <td>12</td>\n",
       "      <td>10</td>\n",
       "    </tr>\n",
       "    <tr>\n",
       "      <th>72</th>\n",
       "      <td>0.620664</td>\n",
       "      <td>0.825159</td>\n",
       "      <td>0.000014</td>\n",
       "      <td>12</td>\n",
       "      <td>11</td>\n",
       "    </tr>\n",
       "    <tr>\n",
       "      <th>69</th>\n",
       "      <td>0.620648</td>\n",
       "      <td>0.640004</td>\n",
       "      <td>0.000048</td>\n",
       "      <td>2</td>\n",
       "      <td>12</td>\n",
       "    </tr>\n",
       "    <tr>\n",
       "      <th>94</th>\n",
       "      <td>0.619290</td>\n",
       "      <td>0.849967</td>\n",
       "      <td>0.000012</td>\n",
       "      <td>12</td>\n",
       "      <td>13</td>\n",
       "    </tr>\n",
       "    <tr>\n",
       "      <th>2</th>\n",
       "      <td>0.616343</td>\n",
       "      <td>0.957744</td>\n",
       "      <td>0.000007</td>\n",
       "      <td>4</td>\n",
       "      <td>14</td>\n",
       "    </tr>\n",
       "    <tr>\n",
       "      <th>66</th>\n",
       "      <td>0.614659</td>\n",
       "      <td>0.623951</td>\n",
       "      <td>0.000072</td>\n",
       "      <td>4</td>\n",
       "      <td>15</td>\n",
       "    </tr>\n",
       "    <tr>\n",
       "      <th>68</th>\n",
       "      <td>0.614058</td>\n",
       "      <td>0.622811</td>\n",
       "      <td>0.000074</td>\n",
       "      <td>10</td>\n",
       "      <td>16</td>\n",
       "    </tr>\n",
       "    <tr>\n",
       "      <th>20</th>\n",
       "      <td>0.610690</td>\n",
       "      <td>0.616930</td>\n",
       "      <td>0.000089</td>\n",
       "      <td>5</td>\n",
       "      <td>17</td>\n",
       "    </tr>\n",
       "    <tr>\n",
       "      <th>17</th>\n",
       "      <td>0.608822</td>\n",
       "      <td>0.614351</td>\n",
       "      <td>0.000099</td>\n",
       "      <td>6</td>\n",
       "      <td>18</td>\n",
       "    </tr>\n",
       "    <tr>\n",
       "      <th>23</th>\n",
       "      <td>0.608445</td>\n",
       "      <td>0.613692</td>\n",
       "      <td>0.000103</td>\n",
       "      <td>14</td>\n",
       "      <td>19</td>\n",
       "    </tr>\n",
       "    <tr>\n",
       "      <th>63</th>\n",
       "      <td>0.608339</td>\n",
       "      <td>0.613301</td>\n",
       "      <td>0.000104</td>\n",
       "      <td>5</td>\n",
       "      <td>20</td>\n",
       "    </tr>\n",
       "  </tbody>\n",
       "</table>\n",
       "</div>"
      ],
      "text/plain": [
       "    mean_test_score  mean_train_score  param_min_impurity_decrease  \\\n",
       "79         0.625468          0.692659                     0.000028   \n",
       "55         0.625381          0.763940                     0.000019   \n",
       "93         0.625300          0.711053                     0.000025   \n",
       "48         0.625249          0.717009                     0.000024   \n",
       "82         0.625188          0.715097                     0.000024   \n",
       "13         0.624272          0.671674                     0.000033   \n",
       "91         0.623941          0.788358                     0.000017   \n",
       "71         0.623376          0.786821                     0.000017   \n",
       "39         0.622491          0.802241                     0.000015   \n",
       "42         0.621590          0.643602                     0.000045   \n",
       "72         0.620664          0.825159                     0.000014   \n",
       "69         0.620648          0.640004                     0.000048   \n",
       "94         0.619290          0.849967                     0.000012   \n",
       "2          0.616343          0.957744                     0.000007   \n",
       "66         0.614659          0.623951                     0.000072   \n",
       "68         0.614058          0.622811                     0.000074   \n",
       "20         0.610690          0.616930                     0.000089   \n",
       "17         0.608822          0.614351                     0.000099   \n",
       "23         0.608445          0.613692                     0.000103   \n",
       "63         0.608339          0.613301                     0.000104   \n",
       "\n",
       "    param_min_samples_split  rank_test_score  \n",
       "79                       12                1  \n",
       "55                        4                2  \n",
       "93                        6                3  \n",
       "48                        3                4  \n",
       "82                        4                5  \n",
       "13                        2                6  \n",
       "91                        3                7  \n",
       "71                        5                8  \n",
       "39                       12                9  \n",
       "42                       12               10  \n",
       "72                       12               11  \n",
       "69                        2               12  \n",
       "94                       12               13  \n",
       "2                         4               14  \n",
       "66                        4               15  \n",
       "68                       10               16  \n",
       "20                        5               17  \n",
       "17                        6               18  \n",
       "23                       14               19  \n",
       "63                        5               20  "
      ]
     },
     "execution_count": 23,
     "metadata": {},
     "output_type": "execute_result"
    }
   ],
   "source": [
    "results = pd.DataFrame(dt_best.cv_results_).sort_values(\"rank_test_score\", ascending = True)\n",
    "results = results.loc[:, [\"mean_test_score\",\n",
    "                         \"mean_train_score\",\n",
    "                         \"param_min_impurity_decrease\",\n",
    "                         \"param_min_samples_split\",\n",
    "                         \"rank_test_score\"]]\n",
    "results = results.astype(dtype={'param_min_impurity_decrease':np.float,\n",
    "                                'param_min_samples_split':int})\n",
    "results.head(20)"
   ]
  },
  {
   "cell_type": "markdown",
   "metadata": {},
   "source": [
    "It is hard to detect a pattern from the above tables, but it does seem the hyperparameters that allow for more complexity produce more accurate models. Let's verify this hunch."
   ]
  },
  {
   "cell_type": "code",
   "execution_count": 24,
   "metadata": {},
   "outputs": [
    {
     "data": {
      "text/plain": [
       "<matplotlib.axes._subplots.AxesSubplot at 0x2af24236748>"
      ]
     },
     "execution_count": 24,
     "metadata": {},
     "output_type": "execute_result"
    },
    {
     "data": {
      "image/png": "[encoded data removed]",
      "text/plain": [
       "<matplotlib.figure.Figure at 0x2af2e16bcc0>"
      ]
     },
     "metadata": {},
     "output_type": "display_data"
    }
   ],
   "source": [
    "results.plot(x=\"param_min_impurity_decrease\",\n",
    "             y = \"mean_test_score\", \n",
    "             kind=\"scatter\",\n",
    "             xlim=(1e-6,1e-4))"
   ]
  },
  {
   "cell_type": "markdown",
   "metadata": {},
   "source": [
    "The above plot is more enlighting; it suggests a \"sweet\" point for the __min_impurity_decrease__ around 0.0002. Finally let us analyze the variance vs bias tradeoff by plotting the train accuracy against test accuracy."
   ]
  },
  {
   "cell_type": "code",
   "execution_count": 25,
   "metadata": {},
   "outputs": [
    {
     "data": {
      "text/plain": [
       "<matplotlib.axes._subplots.AxesSubplot at 0x2af29b40128>"
      ]
     },
     "execution_count": 25,
     "metadata": {},
     "output_type": "execute_result"
    },
    {
     "data": {
      "image/png": "[encoded data removed]",
      "text/plain": [
       "<matplotlib.figure.Figure at 0x2af24a5b4e0>"
      ]
     },
     "metadata": {},
     "output_type": "display_data"
    }
   ],
   "source": [
    "results.plot(x=\"param_min_samples_split\",\n",
    "             y = \"mean_test_score\", \n",
    "             kind=\"scatter\")"
   ]
  },
  {
   "cell_type": "markdown",
   "metadata": {},
   "source": [
    "Again, the above plot indicates there is a \"sweet\" point for the test results in terms of fitting to the train data set. The test accuracy increases with the train accuracy up to a certain point and then starts decreasing.\n",
    "\n",
    "Now that we have analyzed the relationship between the cross validation results and the hyperparameter settings, let us analyze the performance of the best set of hyperparameters. "
   ]
  },
  {
   "cell_type": "code",
   "execution_count": 26,
   "metadata": {},
   "outputs": [
    {
     "name": "stdout",
     "output_type": "stream",
     "text": [
      "0.631496455669\n"
     ]
    }
   ],
   "source": [
    "dt_best_score = dt_best.score(features[\"test\"], test.funny)\n",
    "print(dt_best_score)"
   ]
  },
  {
   "cell_type": "markdown",
   "metadata": {},
   "source": [
    "The above score on test is a fairly substansial improvement on the untuned decision tree. Let us verify that the spread between the train and test error is reduced because of increased regularization."
   ]
  },
  {
   "cell_type": "code",
   "execution_count": 27,
   "metadata": {},
   "outputs": [
    {
     "data": {
      "text/plain": [
       "0.67260532596471412"
      ]
     },
     "execution_count": 27,
     "metadata": {},
     "output_type": "execute_result"
    }
   ],
   "source": [
    "dt_best.score(features[\"train\"], train.funny)"
   ]
  },
  {
   "cell_type": "markdown",
   "metadata": {},
   "source": [
    "As one can see, performance on the train set is better than on the test. However the difference is not huge. Due to regualrization."
   ]
  },
  {
   "cell_type": "markdown",
   "metadata": {},
   "source": [
    "The sklearn RandomizedSearchCV automatically refits to the best results. Therefore we can be confident that a well tuned basic decsion tree underperforms an optimized linear model to a noticeable degree. Let us verify these results using our preferred metric, Area Under the Curve:   "
   ]
  },
  {
   "cell_type": "code",
   "execution_count": 28,
   "metadata": {
    "scrolled": true
   },
   "outputs": [
    {
     "data": {
      "image/png": "[encoded data removed]",
      "text/plain": [
       "<matplotlib.figure.Figure at 0x2af3b3488d0>"
      ]
     },
     "metadata": {},
     "output_type": "display_data"
    }
   ],
   "source": [
    "#lets look at area under the curve\n",
    "dt_best_preds = dt_best.predict_proba(features[\"test\"]) [:, 1]\n",
    "lin_probs = lin_mdl.predict_proba(features[\"test\"]) [:, 1]\n",
    "evaluation.roc_plot(test.funny,\n",
    "                    [dt_best_preds, lin_probs],\n",
    "                    [\"Best Tree\", \"Best Linear\"],\n",
    "                    'reports/figures/ROC_dt_best.svg')"
   ]
  },
  {
   "cell_type": "markdown",
   "metadata": {},
   "source": [
    "Here with the ROC curve, we again can see an improvement. Closer to linear benchmarkc, but sitll undr performs by a fair amount."
   ]
  },
  {
   "cell_type": "code",
   "execution_count": 29,
   "metadata": {},
   "outputs": [
    {
     "data": {
      "text/plain": [
       "['models/best_tree.pkl']"
      ]
     },
     "execution_count": 29,
     "metadata": {},
     "output_type": "execute_result"
    }
   ],
   "source": [
    "#save the best model\n",
    "joblib.dump(dt_best,\"models/best_tree.pkl\")"
   ]
  },
  {
   "cell_type": "markdown",
   "metadata": {},
   "source": [
    "The Area Under the Curve metric is consistent with the accuracy. Underperfomance compared to the linear model."
   ]
  },
  {
   "cell_type": "markdown",
   "metadata": {
    "collapsed": true
   },
   "source": [
    "# 3 - Bagged Trees (Random Forest)"
   ]
  },
  {
   "cell_type": "markdown",
   "metadata": {},
   "source": [
    "After having tried basic decision trees, we will now try the random forest algorithm. An advantage of random forests is that they do not require many hyperparameters."
   ]
  },
  {
   "cell_type": "markdown",
   "metadata": {},
   "source": [
    "\"The random forests algorithm, which is also an ensemble-of-trees method, is generally regarded to be among the very best\n",
    "commonly used classifiers (Manuel Fern´andez-Delgado and Amorim, 2014)\" from \"AdaBoost and Random Forests: the Power of Interpolation\""
   ]
  },
  {
   "cell_type": "markdown",
   "metadata": {},
   "source": [
    "## 3.1 Hyperparameter search"
   ]
  },
  {
   "cell_type": "markdown",
   "metadata": {},
   "source": [
    "Despite random forests not needing too many hyperparmeters, they still require some tuning of hyperparameters in order to obtain optimal results.\n",
    "\n",
    "Rather than using k-fold cross validation to determine the best parameters, I will use the out of bag (oob) error to evaluate ther performance of different hyperparameters. The out of bag errors metric is good because the random fforest alorithm naturally produces a hold out set, similar to k-fold cross validation. \n",
    "\n",
    "The morst import parameters are the numer of trees (n_estimators) and the number of features that are considered at each split (max_features). For max_features, I will try the default (and widely used) square-root of the number of features, as well as the built in log2 of the number of fetures. For the number of trees, I will start with the default number of 10 and increase up to 750."
   ]
  },
  {
   "cell_type": "markdown",
   "metadata": {},
   "source": [
    ">_\"The study of error estimates for bagged classifiers in Breiman [1996b], gives empirical evidence to show that the out-   of-bag estimate is as accurate as using a test set of the same size as the training set. Therefore, using the out-of-bag error estimate removes the need for a set aside test set.\"_"
   ]
  },
  {
   "cell_type": "code",
   "execution_count": 30,
   "metadata": {},
   "outputs": [
    {
     "name": "stdout",
     "output_type": "stream",
     "text": [
      "Starting log2\n",
      "Fitting log2 with 50 estimators\n",
      "Actual number of estimators: 50\n",
      "Score of 0.6702695550839911\n",
      "elapsed time: 21.393663418293 minutes\n",
      "Fitting log2 with 100 estimators\n",
      "Actual number of estimators: 100\n",
      "Score of 0.6833885470894463\n",
      "elapsed time: 42.201670877138774 minutes\n",
      "Fitting log2 with 150 estimators\n",
      "Actual number of estimators: 150\n",
      "Score of 0.6888030573663293\n",
      "elapsed time: 63.743607934315996 minutes\n",
      "Fitting log2 with 200 estimators\n",
      "Actual number of estimators: 200\n",
      "Score of 0.6913423812649803\n",
      "elapsed time: 86.1814141790072 minutes\n",
      "Fitting log2 with 250 estimators\n",
      "Actual number of estimators: 250\n",
      "Score of 0.6930471377901266\n",
      "elapsed time: 109.55987888971964 minutes\n",
      "Fitting log2 with 300 estimators\n",
      "Actual number of estimators: 300\n",
      "Score of 0.6946246736790681\n",
      "elapsed time: 133.8201431910197 minutes\n",
      "Fitting log2 with 350 estimators\n",
      "Actual number of estimators: 350\n",
      "Score of 0.6946043183772753\n",
      "elapsed time: 158.87407474915187 minutes\n",
      "Fitting log2 with 400 estimators\n",
      "Actual number of estimators: 400\n",
      "Score of 0.6956678828959488\n",
      "elapsed time: 184.89187304576237 minutes\n",
      "Fitting log2 with 450 estimators\n",
      "Actual number of estimators: 450\n",
      "Score of 0.6961513213135276\n",
      "elapsed time: 211.75784927606583 minutes\n",
      "Fitting log2 with 500 estimators\n",
      "Actual number of estimators: 500\n",
      "Score of 0.6967823356691042\n",
      "elapsed time: 239.77869112888973 minutes\n",
      "Fitting log2 with 550 estimators\n",
      "Actual number of estimators: 550\n",
      "Score of 0.6973522841193024\n",
      "elapsed time: 268.64966702858607 minutes\n",
      "Fitting log2 with 600 estimators\n",
      "Actual number of estimators: 600\n",
      "Score of 0.6974133500246809\n",
      "elapsed time: 298.32147128582 minutes\n",
      "Fitting log2 with 650 estimators\n",
      "Actual number of estimators: 650\n",
      "Score of 0.6984362039397687\n",
      "elapsed time: 328.5888367811839 minutes\n",
      "Done log2 after 328.5888367811839 minutes\n",
      "Starting sqrt\n",
      "Fitting sqrt with 50 estimators\n",
      "Actual number of estimators: 50\n",
      "Score of 0.6752667816741218\n",
      "elapsed time: 343.4180407325427 minutes\n",
      "\n",
      "Fitting sqrt with 100 estimators\n",
      "Actual number of estimators: 100\n",
      "Score of 0.6831697275951738\n",
      "elapsed time: 358.46679153839744 minutes\n",
      "\n",
      "Fitting sqrt with 150 estimators\n",
      "Actual number of estimators: 150\n",
      "Score of 0.6859431374644418\n",
      "elapsed time: 373.72621175448097 minutes\n",
      "\n",
      "Fitting sqrt with 200 estimators\n",
      "Actual number of estimators: 200\n",
      "Score of 0.6874494297971085\n",
      "elapsed time: 389.37200442155205 minutes\n",
      "\n",
      "Fitting sqrt with 250 estimators\n",
      "Actual number of estimators: 250\n",
      "Score of 0.6883959513304734\n",
      "elapsed time: 405.6713570912679 minutes\n",
      "\n",
      "Fitting sqrt with 300 estimators\n",
      "Actual number of estimators: 300\n",
      "Score of 0.6884824613630928\n",
      "elapsed time: 421.7361247976621 minutes\n",
      "\n",
      "Fitting sqrt with 350 estimators\n",
      "Actual number of estimators: 350\n",
      "Score of 0.6890676762896356\n",
      "elapsed time: 437.9553991039594 minutes\n",
      "\n",
      "Fitting sqrt with 400 estimators\n",
      "Actual number of estimators: 400\n",
      "Score of 0.6891796304494959\n",
      "elapsed time: 454.4931476910909 minutes\n",
      "\n",
      "Fitting sqrt with 450 estimators\n",
      "Actual number of estimators: 450\n",
      "Score of 0.6893933611183203\n",
      "elapsed time: 471.28472376267115 minutes\n",
      "\n",
      "Fitting sqrt with 500 estimators\n",
      "Actual number of estimators: 500\n",
      "Score of 0.6894238940710095\n",
      "elapsed time: 488.38361034790677 minutes\n",
      "\n",
      "Fitting sqrt with 550 estimators\n",
      "Actual number of estimators: 550\n",
      "Score of 0.6896121806125928\n",
      "elapsed time: 505.6146201928457 minutes\n",
      "\n",
      "Fitting sqrt with 600 estimators\n",
      "Actual number of estimators: 600\n",
      "Score of 0.6899785760448631\n",
      "elapsed time: 523.2039106965065 minutes\n",
      "\n",
      "Fitting sqrt with 650 estimators\n",
      "Actual number of estimators: 650\n",
      "Score of 0.6898920660122437\n",
      "elapsed time: 541.0269757390022 minutes\n",
      "\n",
      "Wall time: 9h 1min 1s\n"
     ]
    }
   ],
   "source": [
    "%%time\n",
    "#want to fit rf model with warm start again and again\n",
    "#each time adding 50 trees\n",
    "#do for 5 hours\n",
    "#then switch to sqrt\n",
    "results = []\n",
    "start_time = time.time()\n",
    "elapsed_time = time.time() - start_time\n",
    "rf_log2 =  RandomForestClassifier(max_features=\"log2\",\n",
    "                                 n_estimators = 50,\n",
    "                                 n_jobs=10,\n",
    "                                 oob_score = True,\n",
    "                                 warm_start = True,\n",
    "                                 random_state=11202017)\n",
    "rf_sqrt =  RandomForestClassifier(max_features=\"sqrt\",\n",
    "                                 n_estimators = 50,\n",
    "                                 n_jobs=10,\n",
    "                                 oob_score = True,\n",
    "                                 warm_start = True,\n",
    "                                 random_state=11202017)\n",
    "print(\"Starting log2\")\n",
    "log2_n_estimators = 50\n",
    "while ((time.time() - start_time)/(60*60) < 5):\n",
    "    print(\"Fitting log2 with {} estimators\".format(log2_n_estimators))\n",
    "    rf_log2.set_params(n_estimators=log2_n_estimators)\n",
    "    rf_log2.fit(features[\"train\"], train.funny)\n",
    "    n_estimators_check = len(rf_log2.estimators_)\n",
    "    print(\"Actual number of estimators: {}\".format(n_estimators_check))\n",
    "    score = rf_log2.oob_score_\n",
    "    print(\"Score of {}\".format(score))\n",
    "    results.append((log2_n_estimators, \"log2\", score))\n",
    "    print(\"elapsed time: {} minutes\".format((time.time() - start_time)/60))\n",
    "    log2_n_estimators += 50\n",
    "\n",
    "print(\"Done log2 after {} minutes\".format((time.time() - start_time)/60))\n",
    "print(\"Starting sqrt\")\n",
    "sqrt_n_estimators = 50\n",
    "while sqrt_n_estimators < log2_n_estimators:\n",
    "    print(\"Fitting sqrt with {} estimators\".format(sqrt_n_estimators))\n",
    "    rf_sqrt.set_params(n_estimators=sqrt_n_estimators)\n",
    "    rf_sqrt.fit(features[\"train\"], train.funny)\n",
    "    n_estimators_check = len(rf_sqrt.estimators_)\n",
    "    print(\"Actual number of estimators: {}\".format(n_estimators_check))\n",
    "    score = rf_sqrt.oob_score_\n",
    "    print(\"Score of {}\".format(score))\n",
    "    results.append((sqrt_n_estimators, \"sqrt\", score))\n",
    "    print(\"elapsed time: {} minutes\\n\".format((time.time() - start_time)/60))\n",
    "    sqrt_n_estimators += 50"
   ]
  },
  {
   "cell_type": "markdown",
   "metadata": {},
   "source": [
    "Let us put the results into a pandas dataframe."
   ]
  },
  {
   "cell_type": "code",
   "execution_count": 31,
   "metadata": {
    "scrolled": true
   },
   "outputs": [
    {
     "data": {
      "text/html": [
       "<div>\n",
       "<style>\n",
       "    .dataframe thead tr:only-child th {\n",
       "        text-align: right;\n",
       "    }\n",
       "\n",
       "    .dataframe thead th {\n",
       "        text-align: left;\n",
       "    }\n",
       "\n",
       "    .dataframe tbody tr th {\n",
       "        vertical-align: top;\n",
       "    }\n",
       "</style>\n",
       "<table border=\"1\" class=\"dataframe\">\n",
       "  <thead>\n",
       "    <tr style=\"text-align: right;\">\n",
       "      <th></th>\n",
       "      <th>n_estimators</th>\n",
       "      <th>max_features</th>\n",
       "      <th>oob_score</th>\n",
       "    </tr>\n",
       "  </thead>\n",
       "  <tbody>\n",
       "    <tr>\n",
       "      <th>12</th>\n",
       "      <td>650</td>\n",
       "      <td>log2</td>\n",
       "      <td>0.698436</td>\n",
       "    </tr>\n",
       "    <tr>\n",
       "      <th>11</th>\n",
       "      <td>600</td>\n",
       "      <td>log2</td>\n",
       "      <td>0.697413</td>\n",
       "    </tr>\n",
       "    <tr>\n",
       "      <th>10</th>\n",
       "      <td>550</td>\n",
       "      <td>log2</td>\n",
       "      <td>0.697352</td>\n",
       "    </tr>\n",
       "    <tr>\n",
       "      <th>9</th>\n",
       "      <td>500</td>\n",
       "      <td>log2</td>\n",
       "      <td>0.696782</td>\n",
       "    </tr>\n",
       "    <tr>\n",
       "      <th>8</th>\n",
       "      <td>450</td>\n",
       "      <td>log2</td>\n",
       "      <td>0.696151</td>\n",
       "    </tr>\n",
       "    <tr>\n",
       "      <th>7</th>\n",
       "      <td>400</td>\n",
       "      <td>log2</td>\n",
       "      <td>0.695668</td>\n",
       "    </tr>\n",
       "    <tr>\n",
       "      <th>5</th>\n",
       "      <td>300</td>\n",
       "      <td>log2</td>\n",
       "      <td>0.694625</td>\n",
       "    </tr>\n",
       "    <tr>\n",
       "      <th>6</th>\n",
       "      <td>350</td>\n",
       "      <td>log2</td>\n",
       "      <td>0.694604</td>\n",
       "    </tr>\n",
       "    <tr>\n",
       "      <th>4</th>\n",
       "      <td>250</td>\n",
       "      <td>log2</td>\n",
       "      <td>0.693047</td>\n",
       "    </tr>\n",
       "    <tr>\n",
       "      <th>3</th>\n",
       "      <td>200</td>\n",
       "      <td>log2</td>\n",
       "      <td>0.691342</td>\n",
       "    </tr>\n",
       "    <tr>\n",
       "      <th>24</th>\n",
       "      <td>600</td>\n",
       "      <td>sqrt</td>\n",
       "      <td>0.689979</td>\n",
       "    </tr>\n",
       "    <tr>\n",
       "      <th>25</th>\n",
       "      <td>650</td>\n",
       "      <td>sqrt</td>\n",
       "      <td>0.689892</td>\n",
       "    </tr>\n",
       "    <tr>\n",
       "      <th>23</th>\n",
       "      <td>550</td>\n",
       "      <td>sqrt</td>\n",
       "      <td>0.689612</td>\n",
       "    </tr>\n",
       "    <tr>\n",
       "      <th>22</th>\n",
       "      <td>500</td>\n",
       "      <td>sqrt</td>\n",
       "      <td>0.689424</td>\n",
       "    </tr>\n",
       "    <tr>\n",
       "      <th>21</th>\n",
       "      <td>450</td>\n",
       "      <td>sqrt</td>\n",
       "      <td>0.689393</td>\n",
       "    </tr>\n",
       "    <tr>\n",
       "      <th>20</th>\n",
       "      <td>400</td>\n",
       "      <td>sqrt</td>\n",
       "      <td>0.689180</td>\n",
       "    </tr>\n",
       "    <tr>\n",
       "      <th>19</th>\n",
       "      <td>350</td>\n",
       "      <td>sqrt</td>\n",
       "      <td>0.689068</td>\n",
       "    </tr>\n",
       "    <tr>\n",
       "      <th>2</th>\n",
       "      <td>150</td>\n",
       "      <td>log2</td>\n",
       "      <td>0.688803</td>\n",
       "    </tr>\n",
       "    <tr>\n",
       "      <th>18</th>\n",
       "      <td>300</td>\n",
       "      <td>sqrt</td>\n",
       "      <td>0.688482</td>\n",
       "    </tr>\n",
       "    <tr>\n",
       "      <th>17</th>\n",
       "      <td>250</td>\n",
       "      <td>sqrt</td>\n",
       "      <td>0.688396</td>\n",
       "    </tr>\n",
       "    <tr>\n",
       "      <th>16</th>\n",
       "      <td>200</td>\n",
       "      <td>sqrt</td>\n",
       "      <td>0.687449</td>\n",
       "    </tr>\n",
       "    <tr>\n",
       "      <th>15</th>\n",
       "      <td>150</td>\n",
       "      <td>sqrt</td>\n",
       "      <td>0.685943</td>\n",
       "    </tr>\n",
       "    <tr>\n",
       "      <th>1</th>\n",
       "      <td>100</td>\n",
       "      <td>log2</td>\n",
       "      <td>0.683389</td>\n",
       "    </tr>\n",
       "    <tr>\n",
       "      <th>14</th>\n",
       "      <td>100</td>\n",
       "      <td>sqrt</td>\n",
       "      <td>0.683170</td>\n",
       "    </tr>\n",
       "    <tr>\n",
       "      <th>13</th>\n",
       "      <td>50</td>\n",
       "      <td>sqrt</td>\n",
       "      <td>0.675267</td>\n",
       "    </tr>\n",
       "    <tr>\n",
       "      <th>0</th>\n",
       "      <td>50</td>\n",
       "      <td>log2</td>\n",
       "      <td>0.670270</td>\n",
       "    </tr>\n",
       "  </tbody>\n",
       "</table>\n",
       "</div>"
      ],
      "text/plain": [
       "    n_estimators max_features  oob_score\n",
       "12           650         log2   0.698436\n",
       "11           600         log2   0.697413\n",
       "10           550         log2   0.697352\n",
       "9            500         log2   0.696782\n",
       "8            450         log2   0.696151\n",
       "7            400         log2   0.695668\n",
       "5            300         log2   0.694625\n",
       "6            350         log2   0.694604\n",
       "4            250         log2   0.693047\n",
       "3            200         log2   0.691342\n",
       "24           600         sqrt   0.689979\n",
       "25           650         sqrt   0.689892\n",
       "23           550         sqrt   0.689612\n",
       "22           500         sqrt   0.689424\n",
       "21           450         sqrt   0.689393\n",
       "20           400         sqrt   0.689180\n",
       "19           350         sqrt   0.689068\n",
       "2            150         log2   0.688803\n",
       "18           300         sqrt   0.688482\n",
       "17           250         sqrt   0.688396\n",
       "16           200         sqrt   0.687449\n",
       "15           150         sqrt   0.685943\n",
       "1            100         log2   0.683389\n",
       "14           100         sqrt   0.683170\n",
       "13            50         sqrt   0.675267\n",
       "0             50         log2   0.670270"
      ]
     },
     "execution_count": 31,
     "metadata": {},
     "output_type": "execute_result"
    }
   ],
   "source": [
    "results = pd.DataFrame(results, columns = [\"n_estimators\", \"max_features\", \"oob_score\"])\n",
    "results.sort_values(\"oob_score\", ascending = False)"
   ]
  },
  {
   "cell_type": "markdown",
   "metadata": {
    "collapsed": true
   },
   "source": [
    "It is clear that the model that uses ln2 to determine the max nuimber of feautres outperfroms the model that uses the sqrt. It also clear that the perofmrance of the model increase with the nmbr of esitmaorrs. The best perofrmaing ln2 model has 500 estmator (the max), same for sqrt.\n",
    "Now let us assess the performance of the best random forest estimator."
   ]
  },
  {
   "cell_type": "code",
   "execution_count": 9,
   "metadata": {},
   "outputs": [
    {
     "name": "stdout",
     "output_type": "stream",
     "text": [
      "The best Random Forest model has an accuracy of 69.554376% on the test set\n",
      "Wall time: 1min 34s\n"
     ]
    }
   ],
   "source": [
    "%%time\n",
    "rf_acc = rf_log2.score(features[\"test\"], test.funny)\n",
    "print(\"The best Random Forest model has an accuracy of {:2%} on the test set\".format(rf_acc))"
   ]
  },
  {
   "cell_type": "code",
   "execution_count": 13,
   "metadata": {},
   "outputs": [
    {
     "ename": "KeyboardInterrupt",
     "evalue": "",
     "output_type": "error",
     "traceback": [
      "\u001b[1;31m---------------------------------------------------------------------------\u001b[0m",
      "\u001b[1;31mKeyboardInterrupt\u001b[0m                         Traceback (most recent call last)",
      "\u001b[1;32m<timed exec>\u001b[0m in \u001b[0;36m<module>\u001b[1;34m()\u001b[0m\n",
      "\u001b[1;32m~\\Anaconda3\\envs\\capstone\\lib\\site-packages\\sklearn\\base.py\u001b[0m in \u001b[0;36mscore\u001b[1;34m(self, X, y, sample_weight)\u001b[0m\n\u001b[0;32m    348\u001b[0m         \"\"\"\n\u001b[0;32m    349\u001b[0m         \u001b[1;32mfrom\u001b[0m \u001b[1;33m.\u001b[0m\u001b[0mmetrics\u001b[0m \u001b[1;32mimport\u001b[0m \u001b[0maccuracy_score\u001b[0m\u001b[1;33m\u001b[0m\u001b[0m\n\u001b[1;32m--> 350\u001b[1;33m         \u001b[1;32mreturn\u001b[0m \u001b[0maccuracy_score\u001b[0m\u001b[1;33m(\u001b[0m\u001b[0my\u001b[0m\u001b[1;33m,\u001b[0m \u001b[0mself\u001b[0m\u001b[1;33m.\u001b[0m\u001b[0mpredict\u001b[0m\u001b[1;33m(\u001b[0m\u001b[0mX\u001b[0m\u001b[1;33m)\u001b[0m\u001b[1;33m,\u001b[0m \u001b[0msample_weight\u001b[0m\u001b[1;33m=\u001b[0m\u001b[0msample_weight\u001b[0m\u001b[1;33m)\u001b[0m\u001b[1;33m\u001b[0m\u001b[0m\n\u001b[0m\u001b[0;32m    351\u001b[0m \u001b[1;33m\u001b[0m\u001b[0m\n\u001b[0;32m    352\u001b[0m \u001b[1;33m\u001b[0m\u001b[0m\n",
      "\u001b[1;32m~\\Anaconda3\\envs\\capstone\\lib\\site-packages\\sklearn\\ensemble\\forest.py\u001b[0m in \u001b[0;36mpredict\u001b[1;34m(self, X)\u001b[0m\n\u001b[0;32m    534\u001b[0m             \u001b[0mThe\u001b[0m \u001b[0mpredicted\u001b[0m \u001b[0mclasses\u001b[0m\u001b[1;33m.\u001b[0m\u001b[1;33m\u001b[0m\u001b[0m\n\u001b[0;32m    535\u001b[0m         \"\"\"\n\u001b[1;32m--> 536\u001b[1;33m         \u001b[0mproba\u001b[0m \u001b[1;33m=\u001b[0m \u001b[0mself\u001b[0m\u001b[1;33m.\u001b[0m\u001b[0mpredict_proba\u001b[0m\u001b[1;33m(\u001b[0m\u001b[0mX\u001b[0m\u001b[1;33m)\u001b[0m\u001b[1;33m\u001b[0m\u001b[0m\n\u001b[0m\u001b[0;32m    537\u001b[0m \u001b[1;33m\u001b[0m\u001b[0m\n\u001b[0;32m    538\u001b[0m         \u001b[1;32mif\u001b[0m \u001b[0mself\u001b[0m\u001b[1;33m.\u001b[0m\u001b[0mn_outputs_\u001b[0m \u001b[1;33m==\u001b[0m \u001b[1;36m1\u001b[0m\u001b[1;33m:\u001b[0m\u001b[1;33m\u001b[0m\u001b[0m\n",
      "\u001b[1;32m~\\Anaconda3\\envs\\capstone\\lib\\site-packages\\sklearn\\ensemble\\forest.py\u001b[0m in \u001b[0;36mpredict_proba\u001b[1;34m(self, X)\u001b[0m\n\u001b[0;32m    584\u001b[0m         Parallel(n_jobs=n_jobs, verbose=self.verbose, backend=\"threading\")(\n\u001b[0;32m    585\u001b[0m             \u001b[0mdelayed\u001b[0m\u001b[1;33m(\u001b[0m\u001b[0maccumulate_prediction\u001b[0m\u001b[1;33m)\u001b[0m\u001b[1;33m(\u001b[0m\u001b[0me\u001b[0m\u001b[1;33m.\u001b[0m\u001b[0mpredict_proba\u001b[0m\u001b[1;33m,\u001b[0m \u001b[0mX\u001b[0m\u001b[1;33m,\u001b[0m \u001b[0mall_proba\u001b[0m\u001b[1;33m)\u001b[0m\u001b[1;33m\u001b[0m\u001b[0m\n\u001b[1;32m--> 586\u001b[1;33m             for e in self.estimators_)\n\u001b[0m\u001b[0;32m    587\u001b[0m \u001b[1;33m\u001b[0m\u001b[0m\n\u001b[0;32m    588\u001b[0m         \u001b[1;32mfor\u001b[0m \u001b[0mproba\u001b[0m \u001b[1;32min\u001b[0m \u001b[0mall_proba\u001b[0m\u001b[1;33m:\u001b[0m\u001b[1;33m\u001b[0m\u001b[0m\n",
      "\u001b[1;32m~\\Anaconda3\\envs\\capstone\\lib\\site-packages\\sklearn\\externals\\joblib\\parallel.py\u001b[0m in \u001b[0;36m__call__\u001b[1;34m(self, iterable)\u001b[0m\n\u001b[0;32m    787\u001b[0m                 \u001b[1;31m# consumption.\u001b[0m\u001b[1;33m\u001b[0m\u001b[1;33m\u001b[0m\u001b[0m\n\u001b[0;32m    788\u001b[0m                 \u001b[0mself\u001b[0m\u001b[1;33m.\u001b[0m\u001b[0m_iterating\u001b[0m \u001b[1;33m=\u001b[0m \u001b[1;32mFalse\u001b[0m\u001b[1;33m\u001b[0m\u001b[0m\n\u001b[1;32m--> 789\u001b[1;33m             \u001b[0mself\u001b[0m\u001b[1;33m.\u001b[0m\u001b[0mretrieve\u001b[0m\u001b[1;33m(\u001b[0m\u001b[1;33m)\u001b[0m\u001b[1;33m\u001b[0m\u001b[0m\n\u001b[0m\u001b[0;32m    790\u001b[0m             \u001b[1;31m# Make sure that we get a last message telling us we are done\u001b[0m\u001b[1;33m\u001b[0m\u001b[1;33m\u001b[0m\u001b[0m\n\u001b[0;32m    791\u001b[0m             \u001b[0melapsed_time\u001b[0m \u001b[1;33m=\u001b[0m \u001b[0mtime\u001b[0m\u001b[1;33m.\u001b[0m\u001b[0mtime\u001b[0m\u001b[1;33m(\u001b[0m\u001b[1;33m)\u001b[0m \u001b[1;33m-\u001b[0m \u001b[0mself\u001b[0m\u001b[1;33m.\u001b[0m\u001b[0m_start_time\u001b[0m\u001b[1;33m\u001b[0m\u001b[0m\n",
      "\u001b[1;32m~\\Anaconda3\\envs\\capstone\\lib\\site-packages\\sklearn\\externals\\joblib\\parallel.py\u001b[0m in \u001b[0;36mretrieve\u001b[1;34m(self)\u001b[0m\n\u001b[0;32m    697\u001b[0m             \u001b[1;32mtry\u001b[0m\u001b[1;33m:\u001b[0m\u001b[1;33m\u001b[0m\u001b[0m\n\u001b[0;32m    698\u001b[0m                 \u001b[1;32mif\u001b[0m \u001b[0mgetattr\u001b[0m\u001b[1;33m(\u001b[0m\u001b[0mself\u001b[0m\u001b[1;33m.\u001b[0m\u001b[0m_backend\u001b[0m\u001b[1;33m,\u001b[0m \u001b[1;34m'supports_timeout'\u001b[0m\u001b[1;33m,\u001b[0m \u001b[1;32mFalse\u001b[0m\u001b[1;33m)\u001b[0m\u001b[1;33m:\u001b[0m\u001b[1;33m\u001b[0m\u001b[0m\n\u001b[1;32m--> 699\u001b[1;33m                     \u001b[0mself\u001b[0m\u001b[1;33m.\u001b[0m\u001b[0m_output\u001b[0m\u001b[1;33m.\u001b[0m\u001b[0mextend\u001b[0m\u001b[1;33m(\u001b[0m\u001b[0mjob\u001b[0m\u001b[1;33m.\u001b[0m\u001b[0mget\u001b[0m\u001b[1;33m(\u001b[0m\u001b[0mtimeout\u001b[0m\u001b[1;33m=\u001b[0m\u001b[0mself\u001b[0m\u001b[1;33m.\u001b[0m\u001b[0mtimeout\u001b[0m\u001b[1;33m)\u001b[0m\u001b[1;33m)\u001b[0m\u001b[1;33m\u001b[0m\u001b[0m\n\u001b[0m\u001b[0;32m    700\u001b[0m                 \u001b[1;32melse\u001b[0m\u001b[1;33m:\u001b[0m\u001b[1;33m\u001b[0m\u001b[0m\n\u001b[0;32m    701\u001b[0m                     \u001b[0mself\u001b[0m\u001b[1;33m.\u001b[0m\u001b[0m_output\u001b[0m\u001b[1;33m.\u001b[0m\u001b[0mextend\u001b[0m\u001b[1;33m(\u001b[0m\u001b[0mjob\u001b[0m\u001b[1;33m.\u001b[0m\u001b[0mget\u001b[0m\u001b[1;33m(\u001b[0m\u001b[1;33m)\u001b[0m\u001b[1;33m)\u001b[0m\u001b[1;33m\u001b[0m\u001b[0m\n",
      "\u001b[1;32m~\\Anaconda3\\envs\\capstone\\lib\\multiprocessing\\pool.py\u001b[0m in \u001b[0;36mget\u001b[1;34m(self, timeout)\u001b[0m\n\u001b[0;32m    636\u001b[0m \u001b[1;33m\u001b[0m\u001b[0m\n\u001b[0;32m    637\u001b[0m     \u001b[1;32mdef\u001b[0m \u001b[0mget\u001b[0m\u001b[1;33m(\u001b[0m\u001b[0mself\u001b[0m\u001b[1;33m,\u001b[0m \u001b[0mtimeout\u001b[0m\u001b[1;33m=\u001b[0m\u001b[1;32mNone\u001b[0m\u001b[1;33m)\u001b[0m\u001b[1;33m:\u001b[0m\u001b[1;33m\u001b[0m\u001b[0m\n\u001b[1;32m--> 638\u001b[1;33m         \u001b[0mself\u001b[0m\u001b[1;33m.\u001b[0m\u001b[0mwait\u001b[0m\u001b[1;33m(\u001b[0m\u001b[0mtimeout\u001b[0m\u001b[1;33m)\u001b[0m\u001b[1;33m\u001b[0m\u001b[0m\n\u001b[0m\u001b[0;32m    639\u001b[0m         \u001b[1;32mif\u001b[0m \u001b[1;32mnot\u001b[0m \u001b[0mself\u001b[0m\u001b[1;33m.\u001b[0m\u001b[0mready\u001b[0m\u001b[1;33m(\u001b[0m\u001b[1;33m)\u001b[0m\u001b[1;33m:\u001b[0m\u001b[1;33m\u001b[0m\u001b[0m\n\u001b[0;32m    640\u001b[0m             \u001b[1;32mraise\u001b[0m \u001b[0mTimeoutError\u001b[0m\u001b[1;33m\u001b[0m\u001b[0m\n",
      "\u001b[1;32m~\\Anaconda3\\envs\\capstone\\lib\\multiprocessing\\pool.py\u001b[0m in \u001b[0;36mwait\u001b[1;34m(self, timeout)\u001b[0m\n\u001b[0;32m    633\u001b[0m \u001b[1;33m\u001b[0m\u001b[0m\n\u001b[0;32m    634\u001b[0m     \u001b[1;32mdef\u001b[0m \u001b[0mwait\u001b[0m\u001b[1;33m(\u001b[0m\u001b[0mself\u001b[0m\u001b[1;33m,\u001b[0m \u001b[0mtimeout\u001b[0m\u001b[1;33m=\u001b[0m\u001b[1;32mNone\u001b[0m\u001b[1;33m)\u001b[0m\u001b[1;33m:\u001b[0m\u001b[1;33m\u001b[0m\u001b[0m\n\u001b[1;32m--> 635\u001b[1;33m         \u001b[0mself\u001b[0m\u001b[1;33m.\u001b[0m\u001b[0m_event\u001b[0m\u001b[1;33m.\u001b[0m\u001b[0mwait\u001b[0m\u001b[1;33m(\u001b[0m\u001b[0mtimeout\u001b[0m\u001b[1;33m)\u001b[0m\u001b[1;33m\u001b[0m\u001b[0m\n\u001b[0m\u001b[0;32m    636\u001b[0m \u001b[1;33m\u001b[0m\u001b[0m\n\u001b[0;32m    637\u001b[0m     \u001b[1;32mdef\u001b[0m \u001b[0mget\u001b[0m\u001b[1;33m(\u001b[0m\u001b[0mself\u001b[0m\u001b[1;33m,\u001b[0m \u001b[0mtimeout\u001b[0m\u001b[1;33m=\u001b[0m\u001b[1;32mNone\u001b[0m\u001b[1;33m)\u001b[0m\u001b[1;33m:\u001b[0m\u001b[1;33m\u001b[0m\u001b[0m\n",
      "\u001b[1;32m~\\Anaconda3\\envs\\capstone\\lib\\threading.py\u001b[0m in \u001b[0;36mwait\u001b[1;34m(self, timeout)\u001b[0m\n\u001b[0;32m    549\u001b[0m             \u001b[0msignaled\u001b[0m \u001b[1;33m=\u001b[0m \u001b[0mself\u001b[0m\u001b[1;33m.\u001b[0m\u001b[0m_flag\u001b[0m\u001b[1;33m\u001b[0m\u001b[0m\n\u001b[0;32m    550\u001b[0m             \u001b[1;32mif\u001b[0m \u001b[1;32mnot\u001b[0m \u001b[0msignaled\u001b[0m\u001b[1;33m:\u001b[0m\u001b[1;33m\u001b[0m\u001b[0m\n\u001b[1;32m--> 551\u001b[1;33m                 \u001b[0msignaled\u001b[0m \u001b[1;33m=\u001b[0m \u001b[0mself\u001b[0m\u001b[1;33m.\u001b[0m\u001b[0m_cond\u001b[0m\u001b[1;33m.\u001b[0m\u001b[0mwait\u001b[0m\u001b[1;33m(\u001b[0m\u001b[0mtimeout\u001b[0m\u001b[1;33m)\u001b[0m\u001b[1;33m\u001b[0m\u001b[0m\n\u001b[0m\u001b[0;32m    552\u001b[0m             \u001b[1;32mreturn\u001b[0m \u001b[0msignaled\u001b[0m\u001b[1;33m\u001b[0m\u001b[0m\n\u001b[0;32m    553\u001b[0m \u001b[1;33m\u001b[0m\u001b[0m\n",
      "\u001b[1;32m~\\Anaconda3\\envs\\capstone\\lib\\threading.py\u001b[0m in \u001b[0;36mwait\u001b[1;34m(self, timeout)\u001b[0m\n\u001b[0;32m    293\u001b[0m         \u001b[1;32mtry\u001b[0m\u001b[1;33m:\u001b[0m    \u001b[1;31m# restore state no matter what (e.g., KeyboardInterrupt)\u001b[0m\u001b[1;33m\u001b[0m\u001b[0m\n\u001b[0;32m    294\u001b[0m             \u001b[1;32mif\u001b[0m \u001b[0mtimeout\u001b[0m \u001b[1;32mis\u001b[0m \u001b[1;32mNone\u001b[0m\u001b[1;33m:\u001b[0m\u001b[1;33m\u001b[0m\u001b[0m\n\u001b[1;32m--> 295\u001b[1;33m                 \u001b[0mwaiter\u001b[0m\u001b[1;33m.\u001b[0m\u001b[0macquire\u001b[0m\u001b[1;33m(\u001b[0m\u001b[1;33m)\u001b[0m\u001b[1;33m\u001b[0m\u001b[0m\n\u001b[0m\u001b[0;32m    296\u001b[0m                 \u001b[0mgotit\u001b[0m \u001b[1;33m=\u001b[0m \u001b[1;32mTrue\u001b[0m\u001b[1;33m\u001b[0m\u001b[0m\n\u001b[0;32m    297\u001b[0m             \u001b[1;32melse\u001b[0m\u001b[1;33m:\u001b[0m\u001b[1;33m\u001b[0m\u001b[0m\n",
      "\u001b[1;31mKeyboardInterrupt\u001b[0m: "
     ]
    }
   ],
   "source": [
    "%%time\n",
    "rf_acc_train = rf_log2.score(features[\"train\"], train.funny)\n",
    "print(\"Compare to a train accuracy of {:2%}\".format(rf_acc_train))"
   ]
  },
  {
   "cell_type": "code",
   "execution_count": 34,
   "metadata": {},
   "outputs": [
    {
     "data": {
      "image/png": "[encoded data removed]",
      "text/plain": [
       "<matplotlib.figure.Figure at 0x2af3b1349b0>"
      ]
     },
     "metadata": {},
     "output_type": "display_data"
    }
   ],
   "source": [
    "#AUC\n",
    "rf_probs = rf_log2.predict_proba(features[\"test\"])[:,1]\n",
    "evaluation.roc_plot(test.funny,\n",
    "                    [dt_best_preds, lin_probs, rf_probs],\n",
    "                    [\"Best Tree\", \"Best Linear\", \"Best Random Forest\"],\n",
    "                    'reports/figures/ROC_rf.svg')"
   ]
  },
  {
   "cell_type": "markdown",
   "metadata": {},
   "source": [
    "One can see that the random forest model outperforms the benchmark linear model, however slightly."
   ]
  },
  {
   "cell_type": "code",
   "execution_count": 35,
   "metadata": {},
   "outputs": [
    {
     "data": {
      "text/plain": [
       "['models/best_rf.pkl']"
      ]
     },
     "execution_count": 35,
     "metadata": {},
     "output_type": "execute_result"
    }
   ],
   "source": [
    "#save best model\n",
    "joblib.dump(rf_log2, \"models/best_rf.pkl\")"
   ]
  },
  {
   "cell_type": "markdown",
   "metadata": {},
   "source": [
    "##  Feature importance"
   ]
  },
  {
   "cell_type": "markdown",
   "metadata": {
    "collapsed": true
   },
   "source": [
    "Now, let us examine the feature importance of Randome forest."
   ]
  },
  {
   "cell_type": "code",
   "execution_count": 39,
   "metadata": {},
   "outputs": [
    {
     "data": {
      "text/plain": [
       "array(['little', 'night', 'went', 'women', 'didn', 'friend', 'today',\n",
       "       'called', 'girl', 'replies', 'bar', 'new', 'jokes', 'favorite',\n",
       "       'want', 'going', 'trump', 'girlfriend', 'think', 'really', 've',\n",
       "       'woman', 'hear', 'sex', 'tell', 'guy', 'good', 'told', 'asks', 'll',\n",
       "       'black', 'asked', 'make', 'day', 'time', 'difference', 'got',\n",
       "       'people', 'wife', 'joke', 'said', 'man', 'know', 'don', 'say',\n",
       "       'says', 'just', 'like', 'does', 'did'],\n",
       "      dtype='<U58')"
      ]
     },
     "execution_count": 39,
     "metadata": {},
     "output_type": "execute_result"
    }
   ],
   "source": [
    "top_rf_features = np.argsort(rf_log2.feature_importances_)[-50:]\n",
    "np.array(features[\"vectorizer\"].get_feature_names())[top_rf_features]"
   ]
  },
  {
   "cell_type": "code",
   "execution_count": null,
   "metadata": {
    "collapsed": true
   },
   "outputs": [],
   "source": []
  },
  {
   "cell_type": "code",
   "execution_count": 8,
   "metadata": {
    "collapsed": true
   },
   "outputs": [],
   "source": [
    "rf_log2 = joblib.load('models/best_rf.pkl')"
   ]
  },
  {
   "cell_type": "code",
   "execution_count": null,
   "metadata": {
    "collapsed": true
   },
   "outputs": [],
   "source": []
  }
 ],
 "metadata": {
  "kernelspec": {
   "display_name": "Python 3",
   "language": "python",
   "name": "python3"
  },
  "language_info": {
   "codemirror_mode": {
    "name": "ipython",
    "version": 3
   },
   "file_extension": ".py",
   "mimetype": "text/x-python",
   "name": "python",
   "nbconvert_exporter": "python",
   "pygments_lexer": "ipython3",
   "version": "3.6.2"
  }
 },
 "nbformat": 4,
 "nbformat_minor": 2
}
