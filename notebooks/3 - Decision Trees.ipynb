{
 "cells": [
  {
   "cell_type": "markdown",
   "metadata": {},
   "source": [
    "# 1 - Introduction"
   ]
  },
  {
   "cell_type": "markdown",
   "metadata": {},
   "source": [
    "This notebook explores whether non-linear models can outperform the baseline linear logistic regression model. Decision trees are an efficient method for of accounting for non-linearities. They are a particularly good choice for this project since they can naturally produce probability estimates. Probability estimates are needed for computing the area under the curve, my preferred performance metric. I will start by developing single tree models. I will then investigate whether Random Forests or Boosted Trees, models that grow multiple trees, outperform the single tree model."
   ]
  },
  {
   "cell_type": "markdown",
   "metadata": {},
   "source": [
    "## 1.1 - Load Packages and Global Variables"
   ]
  },
  {
   "cell_type": "code",
   "execution_count": 1,
   "metadata": {
    "collapsed": true
   },
   "outputs": [],
   "source": [
    "%matplotlib inline"
   ]
  },
  {
   "cell_type": "code",
   "execution_count": 2,
   "metadata": {
    "collapsed": true
   },
   "outputs": [],
   "source": [
    "import os\n",
    "import time\n",
    "from datetime import datetime\n",
    "import luigi\n",
    "from sklearn.externals import joblib\n",
    "from sklearn.ensemble import GradientBoostingClassifier, RandomForestClassifier\n",
    "from sklearn.tree import DecisionTreeClassifier, export_graphviz\n",
    "from sklearn.metrics import log_loss, roc_auc_score\n",
    "import numpy as np\n",
    "import pandas as pd\n",
    "import graphviz\n",
    "from sklearn.model_selection import RandomizedSearchCV, train_test_split\n",
    "from scipy.stats import distributions\n",
    "from IPython.display import SVG\n",
    "import xgboost as xgb\n",
    "from itertools import product\n",
    "from IPython.display import HTML"
   ]
  },
  {
   "cell_type": "code",
   "execution_count": 3,
   "metadata": {
    "collapsed": true
   },
   "outputs": [],
   "source": [
    "PROJECT_DIR = os.path.join(os.getcwd(), os.pardir)\n",
    "os.chdir(PROJECT_DIR)"
   ]
  },
  {
   "cell_type": "code",
   "execution_count": 4,
   "metadata": {
    "collapsed": true
   },
   "outputs": [],
   "source": [
    "from src.features.dtm import CreateDTM\n",
    "from src.visualization import evaluation"
   ]
  },
  {
   "cell_type": "code",
   "execution_count": 5,
   "metadata": {
    "collapsed": true
   },
   "outputs": [],
   "source": [
    "import imp\n",
    "evaluation = imp.reload(evaluation)"
   ]
  },
  {
   "cell_type": "markdown",
   "metadata": {},
   "source": [
    "## 1.2 - Load the Data"
   ]
  },
  {
   "cell_type": "markdown",
   "metadata": {},
   "source": [
    "The following Luigi task ensures that the document-term matrices for both train and test are available."
   ]
  },
  {
   "cell_type": "code",
   "execution_count": 6,
   "metadata": {},
   "outputs": [
    {
     "name": "stderr",
     "output_type": "stream",
     "text": [
      "DEBUG: Checking if CreateDTM() is complete\n",
      "INFO: Informed scheduler that task   CreateDTM__99914b932b   has status   DONE\n",
      "INFO: Done scheduling tasks\n",
      "INFO: Running Worker with 1 processes\n",
      "DEBUG: Asking scheduler for work...\n",
      "DEBUG: Done\n",
      "DEBUG: There are no more tasks to run at this time\n",
      "INFO: Worker Worker(salt=436753127, workers=1, host=DESKTOP-6UJS098, username=wertu, pid=9256) was stopped. Shutting down Keep-Alive thread\n",
      "INFO: \n",
      "===== Luigi Execution Summary =====\n",
      "\n",
      "Scheduled 1 tasks of which:\n",
      "* 1 present dependencies were encountered:\n",
      "    - 1 CreateDTM()\n",
      "\n",
      "Did not run any tasks\n",
      "This progress looks :) because there were no failed tasks or missing external dependencies\n",
      "\n",
      "===== Luigi Execution Summary =====\n",
      "\n"
     ]
    },
    {
     "data": {
      "text/plain": [
       "True"
      ]
     },
     "execution_count": 6,
     "metadata": {},
     "output_type": "execute_result"
    }
   ],
   "source": [
    "luigi.build([CreateDTM()], local_scheduler = True)"
   ]
  },
  {
   "cell_type": "markdown",
   "metadata": {},
   "source": [
    "Now that we have ensured that the data exists, load it:"
   ]
  },
  {
   "cell_type": "code",
   "execution_count": 7,
   "metadata": {
    "collapsed": true
   },
   "outputs": [],
   "source": [
    "features = joblib.load(\"data/processed/dtm_features.pkl\")\n",
    "train = joblib.load(\"data/interim/train.pkl\")\n",
    "test = joblib.load(\"data/interim/test.pkl\")\n",
    "lin_mdl = joblib.load(\"models/best_linear.pkl\")"
   ]
  },
  {
   "cell_type": "markdown",
   "metadata": {},
   "source": [
    "# 2 - Basic Trees"
   ]
  },
  {
   "cell_type": "markdown",
   "metadata": {
    "collapsed": true
   },
   "source": [
    "We will start with the \"basic\" decision tree model, which consists of a single decision tree with many splits."
   ]
  },
  {
   "cell_type": "markdown",
   "metadata": {},
   "source": [
    "We will first assess the results of training a decision treee model using sklearn's default Models composed of a single fully grown decision trees are prone to overfitting. Therefore we will engage in hyperparameter tuning to produce optimal results"
   ]
  },
  {
   "cell_type": "markdown",
   "metadata": {},
   "source": [
    "The sklearn implementation of decision trees uses the CART algorithm. The CART algorithm creates splits based on numeric criteria."
   ]
  },
  {
   "cell_type": "markdown",
   "metadata": {},
   "source": [
    "# 2.1 - Untuned Model"
   ]
  },
  {
   "cell_type": "markdown",
   "metadata": {
    "collapsed": true
   },
   "source": [
    "Before starting to tune the hyperparameters of the decison tree, let us train and assess a decision tree model using the default sklearn settings."
   ]
  },
  {
   "cell_type": "code",
   "execution_count": 8,
   "metadata": {},
   "outputs": [
    {
     "name": "stdout",
     "output_type": "stream",
     "text": [
      "Wall time: 11min 57s\n"
     ]
    }
   ],
   "source": [
    "%%time\n",
    "dt_base = DecisionTreeClassifier(max_depth = None, random_state = 99)\n",
    "dt_base.fit(features[\"train\"], train.funny)"
   ]
  },
  {
   "cell_type": "markdown",
   "metadata": {},
   "source": [
    "### 2.1.1 - Perfomance"
   ]
  },
  {
   "cell_type": "markdown",
   "metadata": {},
   "source": [
    "Let us evaluate the performance on the test set."
   ]
  },
  {
   "cell_type": "code",
   "execution_count": 9,
   "metadata": {},
   "outputs": [
    {
     "data": {
      "text/plain": [
       "0.62311057367428957"
      ]
     },
     "execution_count": 9,
     "metadata": {},
     "output_type": "execute_result"
    }
   ],
   "source": [
    "dt_base.score(features[\"test\"], test.funny)"
   ]
  },
  {
   "cell_type": "markdown",
   "metadata": {},
   "source": [
    "The above accuracy is quite low, lower than the linear model. This is not good. Let us calculate the AUC and compare it to the benchmark lienar model"
   ]
  },
  {
   "cell_type": "code",
   "execution_count": 10,
   "metadata": {},
   "outputs": [
    {
     "data": {
      "image/png": "[encoded data removed]",
      "text/plain": [
       "<matplotlib.figure.Figure at 0x27ab106c940>"
      ]
     },
     "metadata": {},
     "output_type": "display_data"
    }
   ],
   "source": [
    "dt_base_probs = dt_base.predict_proba(features[\"test\"]) [:, 1]\n",
    "lin_probs = lin_mdl.predict_proba(features[\"test\"]) [:, 1]\n",
    "evaluation.roc_plot(test.funny,\n",
    "                    [dt_base_probs, lin_probs],\n",
    "                    [\"Untuned Tree\", \"Benchmark Linear\"],\n",
    "                    'reports/figures/ROC_dt_base.svg')"
   ]
  },
  {
   "cell_type": "markdown",
   "metadata": {},
   "source": [
    "We can see that the initial, unoptimized, decision tree model significantly underperforms the best linear model. This is not surprising, since decision trees have a tendency to overfit. This tendency to overfit can also be observed from the relatively long time that it takes to fit the model. The number of terminal nodes (leaves) is an also an indication of how hard the model is fitting to the data. "
   ]
  },
  {
   "cell_type": "code",
   "execution_count": 11,
   "metadata": {},
   "outputs": [
    {
     "data": {
      "text/plain": [
       "0.98509745340731258"
      ]
     },
     "execution_count": 11,
     "metadata": {},
     "output_type": "execute_result"
    }
   ],
   "source": [
    "#difference between train and test scores indicate overfitting\n",
    "dt_base.score(features[\"train\"], train.funny)"
   ]
  },
  {
   "cell_type": "code",
   "execution_count": 12,
   "metadata": {},
   "outputs": [
    {
     "name": "stdout",
     "output_type": "stream",
     "text": [
      "There are 41026 terminal nodes\n",
      "There are an average of 4.80 observations in a terminal node.\n"
     ]
    }
   ],
   "source": [
    "unique_leaves = np.unique(dt_base.apply(features[\"train\"]))\n",
    "num_leaves = len(unique_leaves)\n",
    "print(\"There are {} terminal nodes\".format(num_leaves))\n",
    "obs_per_leaf = features[\"train\"].shape[0] / len(unique_leaves)\n",
    "print(\"There are an average of {:0.2f} observations in a terminal node.\".format(obs_per_leaf))"
   ]
  },
  {
   "cell_type": "markdown",
   "metadata": {},
   "source": [
    "### 2.1.2 - Visualization"
   ]
  },
  {
   "cell_type": "markdown",
   "metadata": {},
   "source": [
    "Let's visualize the very upper portion of the tree."
   ]
  },
  {
   "cell_type": "code",
   "execution_count": 13,
   "metadata": {
    "collapsed": true
   },
   "outputs": [],
   "source": [
    "tree_dot = export_graphviz(dt_base,\n",
    "                           out_file=None,\n",
    "                           feature_names=features[\"vectorizer\"].get_feature_names(),\n",
    "                           label='all',\n",
    "                           filled=True,\n",
    "                           class_names=[\"Unfunny\", \"Funny\"],\n",
    "                           proportion=True,\n",
    "                           max_depth=3)"
   ]
  },
  {
   "cell_type": "code",
   "execution_count": 14,
   "metadata": {},
   "outputs": [
    {
     "data": {
      "text/html": [
       "<?xml version=\"1.0\" encoding=\"UTF-8\" standalone=\"no\"?>\n",
       "<!DOCTYPE svg PUBLIC \"-//W3C//DTD SVG 1.1//EN\"\n",
       " \"http://www.w3.org/Graphics/SVG/1.1/DTD/svg11.dtd\">\n",
       "<!-- Generated by graphviz version 2.38.0 (20140413.2041)\n",
       " -->\n",
       "<!-- Title: Tree Pages: 1 -->\n",
       "<svg width=\"1246pt\" height=\"520pt\"\n",
       " viewBox=\"0.00 0.00 1246.00 520.00\" xmlns=\"http://www.w3.org/2000/svg\" xmlns:xlink=\"http://www.w3.org/1999/xlink\">\n",
       "<g id=\"graph0\" class=\"graph\" transform=\"scale(1 1) rotate(0) translate(4 516)\">\n",
       "<title>Tree</title>\n",
       "<polygon fill=\"white\" stroke=\"none\" points=\"-4,4 -4,-516 1242,-516 1242,4 -4,4\"/>\n",
       "<!-- 0 -->\n",
       "<g id=\"node1\" class=\"node\"><title>0</title>\n",
       "<polygon fill=\"#e58139\" fill-opacity=\"0.054902\" stroke=\"black\" points=\"688,-512 549,-512 549,-429 688,-429 688,-512\"/>\n",
       "<text text-anchor=\"middle\" x=\"618.5\" y=\"-496.8\" font-family=\"Times New Roman,serif\" font-size=\"14.00\">says &lt;= 0.007</text>\n",
       "<text text-anchor=\"middle\" x=\"618.5\" y=\"-481.8\" font-family=\"Times New Roman,serif\" font-size=\"14.00\">gini = 0.5</text>\n",
       "<text text-anchor=\"middle\" x=\"618.5\" y=\"-466.8\" font-family=\"Times New Roman,serif\" font-size=\"14.00\">samples = 100.0%</text>\n",
       "<text text-anchor=\"middle\" x=\"618.5\" y=\"-451.8\" font-family=\"Times New Roman,serif\" font-size=\"14.00\">value = [0.514, 0.486]</text>\n",
       "<text text-anchor=\"middle\" x=\"618.5\" y=\"-436.8\" font-family=\"Times New Roman,serif\" font-size=\"14.00\">class = Unfunny</text>\n",
       "</g>\n",
       "<!-- 1 -->\n",
       "<g id=\"node2\" class=\"node\"><title>1</title>\n",
       "<polygon fill=\"#e58139\" fill-opacity=\"0.152941\" stroke=\"black\" points=\"571,-393 432,-393 432,-310 571,-310 571,-393\"/>\n",
       "<text text-anchor=\"middle\" x=\"501.5\" y=\"-377.8\" font-family=\"Times New Roman,serif\" font-size=\"14.00\">said &lt;= 0.006</text>\n",
       "<text text-anchor=\"middle\" x=\"501.5\" y=\"-362.8\" font-family=\"Times New Roman,serif\" font-size=\"14.00\">gini = 0.497</text>\n",
       "<text text-anchor=\"middle\" x=\"501.5\" y=\"-347.8\" font-family=\"Times New Roman,serif\" font-size=\"14.00\">samples = 87.7%</text>\n",
       "<text text-anchor=\"middle\" x=\"501.5\" y=\"-332.8\" font-family=\"Times New Roman,serif\" font-size=\"14.00\">value = [0.542, 0.458]</text>\n",
       "<text text-anchor=\"middle\" x=\"501.5\" y=\"-317.8\" font-family=\"Times New Roman,serif\" font-size=\"14.00\">class = Unfunny</text>\n",
       "</g>\n",
       "<!-- 0&#45;&gt;1 -->\n",
       "<g id=\"edge1\" class=\"edge\"><title>0&#45;&gt;1</title>\n",
       "<path fill=\"none\" stroke=\"black\" d=\"M577.907,-428.907C568.651,-419.651 558.732,-409.732 549.209,-400.209\"/>\n",
       "<polygon fill=\"black\" stroke=\"black\" points=\"551.567,-397.617 542.021,-393.021 546.617,-402.567 551.567,-397.617\"/>\n",
       "<text text-anchor=\"middle\" x=\"542.021\" y=\"-414.321\" font-family=\"Times New Roman,serif\" font-size=\"14.00\">True</text>\n",
       "</g>\n",
       "<!-- 74884 -->\n",
       "<g id=\"node17\" class=\"node\"><title>74884</title>\n",
       "<polygon fill=\"#399de5\" fill-opacity=\"0.537255\" stroke=\"black\" points=\"806,-393 667,-393 667,-310 806,-310 806,-393\"/>\n",
       "<text text-anchor=\"middle\" x=\"736.5\" y=\"-377.8\" font-family=\"Times New Roman,serif\" font-size=\"14.00\">asks &lt;= 0.007</text>\n",
       "<text text-anchor=\"middle\" x=\"736.5\" y=\"-362.8\" font-family=\"Times New Roman,serif\" font-size=\"14.00\">gini = 0.433</text>\n",
       "<text text-anchor=\"middle\" x=\"736.5\" y=\"-347.8\" font-family=\"Times New Roman,serif\" font-size=\"14.00\">samples = 12.3%</text>\n",
       "<text text-anchor=\"middle\" x=\"736.5\" y=\"-332.8\" font-family=\"Times New Roman,serif\" font-size=\"14.00\">value = [0.317, 0.683]</text>\n",
       "<text text-anchor=\"middle\" x=\"736.5\" y=\"-317.8\" font-family=\"Times New Roman,serif\" font-size=\"14.00\">class = Funny</text>\n",
       "</g>\n",
       "<!-- 0&#45;&gt;74884 -->\n",
       "<g id=\"edge16\" class=\"edge\"><title>0&#45;&gt;74884</title>\n",
       "<path fill=\"none\" stroke=\"black\" d=\"M659.44,-428.907C668.775,-419.651 678.779,-409.732 688.383,-400.209\"/>\n",
       "<polygon fill=\"black\" stroke=\"black\" points=\"690.996,-402.547 695.633,-393.021 686.067,-397.576 690.996,-402.547\"/>\n",
       "<text text-anchor=\"middle\" x=\"695.526\" y=\"-414.321\" font-family=\"Times New Roman,serif\" font-size=\"14.00\">False</text>\n",
       "</g>\n",
       "<!-- 2 -->\n",
       "<g id=\"node3\" class=\"node\"><title>2</title>\n",
       "<polygon fill=\"#e58139\" fill-opacity=\"0.215686\" stroke=\"black\" points=\"296,-274 157,-274 157,-191 296,-191 296,-274\"/>\n",
       "<text text-anchor=\"middle\" x=\"226.5\" y=\"-258.8\" font-family=\"Times New Roman,serif\" font-size=\"14.00\">wife &lt;= 0.015</text>\n",
       "<text text-anchor=\"middle\" x=\"226.5\" y=\"-243.8\" font-family=\"Times New Roman,serif\" font-size=\"14.00\">gini = 0.493</text>\n",
       "<text text-anchor=\"middle\" x=\"226.5\" y=\"-228.8\" font-family=\"Times New Roman,serif\" font-size=\"14.00\">samples = 79.8%</text>\n",
       "<text text-anchor=\"middle\" x=\"226.5\" y=\"-213.8\" font-family=\"Times New Roman,serif\" font-size=\"14.00\">value = [0.561, 0.439]</text>\n",
       "<text text-anchor=\"middle\" x=\"226.5\" y=\"-198.8\" font-family=\"Times New Roman,serif\" font-size=\"14.00\">class = Unfunny</text>\n",
       "</g>\n",
       "<!-- 1&#45;&gt;2 -->\n",
       "<g id=\"edge2\" class=\"edge\"><title>1&#45;&gt;2</title>\n",
       "<path fill=\"none\" stroke=\"black\" d=\"M431.75,-320.825C393.301,-304.466 345.43,-284.099 305.592,-267.15\"/>\n",
       "<polygon fill=\"black\" stroke=\"black\" points=\"306.747,-263.838 296.175,-263.144 304.007,-270.279 306.747,-263.838\"/>\n",
       "</g>\n",
       "<!-- 69847 -->\n",
       "<g id=\"node10\" class=\"node\"><title>69847</title>\n",
       "<polygon fill=\"#399de5\" fill-opacity=\"0.462745\" stroke=\"black\" points=\"571,-274 432,-274 432,-191 571,-191 571,-274\"/>\n",
       "<text text-anchor=\"middle\" x=\"501.5\" y=\"-258.8\" font-family=\"Times New Roman,serif\" font-size=\"14.00\">said &lt;= 0.045</text>\n",
       "<text text-anchor=\"middle\" x=\"501.5\" y=\"-243.8\" font-family=\"Times New Roman,serif\" font-size=\"14.00\">gini = 0.455</text>\n",
       "<text text-anchor=\"middle\" x=\"501.5\" y=\"-228.8\" font-family=\"Times New Roman,serif\" font-size=\"14.00\">samples = 7.9%</text>\n",
       "<text text-anchor=\"middle\" x=\"501.5\" y=\"-213.8\" font-family=\"Times New Roman,serif\" font-size=\"14.00\">value = [0.349, 0.651]</text>\n",
       "<text text-anchor=\"middle\" x=\"501.5\" y=\"-198.8\" font-family=\"Times New Roman,serif\" font-size=\"14.00\">class = Funny</text>\n",
       "</g>\n",
       "<!-- 1&#45;&gt;69847 -->\n",
       "<g id=\"edge9\" class=\"edge\"><title>1&#45;&gt;69847</title>\n",
       "<path fill=\"none\" stroke=\"black\" d=\"M501.5,-309.907C501.5,-301.649 501.5,-292.864 501.5,-284.302\"/>\n",
       "<polygon fill=\"black\" stroke=\"black\" points=\"505,-284.021 501.5,-274.021 498,-284.021 505,-284.021\"/>\n",
       "</g>\n",
       "<!-- 3 -->\n",
       "<g id=\"node4\" class=\"node\"><title>3</title>\n",
       "<polygon fill=\"#e58139\" fill-opacity=\"0.235294\" stroke=\"black\" points=\"139,-155 0,-155 0,-72 139,-72 139,-155\"/>\n",
       "<text text-anchor=\"middle\" x=\"69.5\" y=\"-139.8\" font-family=\"Times New Roman,serif\" font-size=\"14.00\">asks &lt;= 0.011</text>\n",
       "<text text-anchor=\"middle\" x=\"69.5\" y=\"-124.8\" font-family=\"Times New Roman,serif\" font-size=\"14.00\">gini = 0.491</text>\n",
       "<text text-anchor=\"middle\" x=\"69.5\" y=\"-109.8\" font-family=\"Times New Roman,serif\" font-size=\"14.00\">samples = 77.2%</text>\n",
       "<text text-anchor=\"middle\" x=\"69.5\" y=\"-94.8\" font-family=\"Times New Roman,serif\" font-size=\"14.00\">value = [0.567, 0.433]</text>\n",
       "<text text-anchor=\"middle\" x=\"69.5\" y=\"-79.8\" font-family=\"Times New Roman,serif\" font-size=\"14.00\">class = Unfunny</text>\n",
       "</g>\n",
       "<!-- 2&#45;&gt;3 -->\n",
       "<g id=\"edge3\" class=\"edge\"><title>2&#45;&gt;3</title>\n",
       "<path fill=\"none\" stroke=\"black\" d=\"M172.03,-190.907C159.121,-181.288 145.254,-170.953 132.019,-161.09\"/>\n",
       "<polygon fill=\"black\" stroke=\"black\" points=\"133.984,-158.19 123.874,-155.021 129.801,-163.803 133.984,-158.19\"/>\n",
       "</g>\n",
       "<!-- 67900 -->\n",
       "<g id=\"node7\" class=\"node\"><title>67900</title>\n",
       "<polygon fill=\"#399de5\" fill-opacity=\"0.380392\" stroke=\"black\" points=\"296,-155 157,-155 157,-72 296,-72 296,-155\"/>\n",
       "<text text-anchor=\"middle\" x=\"226.5\" y=\"-139.8\" font-family=\"Times New Roman,serif\" font-size=\"14.00\">wife &lt;= 0.103</text>\n",
       "<text text-anchor=\"middle\" x=\"226.5\" y=\"-124.8\" font-family=\"Times New Roman,serif\" font-size=\"14.00\">gini = 0.473</text>\n",
       "<text text-anchor=\"middle\" x=\"226.5\" y=\"-109.8\" font-family=\"Times New Roman,serif\" font-size=\"14.00\">samples = 2.6%</text>\n",
       "<text text-anchor=\"middle\" x=\"226.5\" y=\"-94.8\" font-family=\"Times New Roman,serif\" font-size=\"14.00\">value = [0.383, 0.617]</text>\n",
       "<text text-anchor=\"middle\" x=\"226.5\" y=\"-79.8\" font-family=\"Times New Roman,serif\" font-size=\"14.00\">class = Funny</text>\n",
       "</g>\n",
       "<!-- 2&#45;&gt;67900 -->\n",
       "<g id=\"edge6\" class=\"edge\"><title>2&#45;&gt;67900</title>\n",
       "<path fill=\"none\" stroke=\"black\" d=\"M226.5,-190.907C226.5,-182.649 226.5,-173.864 226.5,-165.302\"/>\n",
       "<polygon fill=\"black\" stroke=\"black\" points=\"230,-165.021 226.5,-155.021 223,-165.021 230,-165.021\"/>\n",
       "</g>\n",
       "<!-- 4 -->\n",
       "<g id=\"node5\" class=\"node\"><title>4</title>\n",
       "<polygon fill=\"#c0c0c0\" stroke=\"black\" points=\"90.5,-36 36.5,-36 36.5,-0 90.5,-0 90.5,-36\"/>\n",
       "<text text-anchor=\"middle\" x=\"63.5\" y=\"-14.3\" font-family=\"Times New Roman,serif\" font-size=\"14.00\">(...)</text>\n",
       "</g>\n",
       "<!-- 3&#45;&gt;4 -->\n",
       "<g id=\"edge4\" class=\"edge\"><title>3&#45;&gt;4</title>\n",
       "<path fill=\"none\" stroke=\"black\" d=\"M66.8858,-71.7615C66.3386,-63.2356 65.7741,-54.4385 65.2666,-46.5299\"/>\n",
       "<polygon fill=\"black\" stroke=\"black\" points=\"68.7502,-46.1604 64.6169,-36.4051 61.7646,-46.6087 68.7502,-46.1604\"/>\n",
       "</g>\n",
       "<!-- 66579 -->\n",
       "<g id=\"node6\" class=\"node\"><title>66579</title>\n",
       "<polygon fill=\"#c0c0c0\" stroke=\"black\" points=\"162.5,-36 108.5,-36 108.5,-0 162.5,-0 162.5,-36\"/>\n",
       "<text text-anchor=\"middle\" x=\"135.5\" y=\"-14.3\" font-family=\"Times New Roman,serif\" font-size=\"14.00\">(...)</text>\n",
       "</g>\n",
       "<!-- 3&#45;&gt;66579 -->\n",
       "<g id=\"edge5\" class=\"edge\"><title>3&#45;&gt;66579</title>\n",
       "<path fill=\"none\" stroke=\"black\" d=\"M98.2566,-71.7615C104.754,-62.5574 111.474,-53.0372 117.387,-44.6601\"/>\n",
       "<polygon fill=\"black\" stroke=\"black\" points=\"120.307,-46.5932 123.214,-36.4051 114.588,-42.5564 120.307,-46.5932\"/>\n",
       "</g>\n",
       "<!-- 67901 -->\n",
       "<g id=\"node8\" class=\"node\"><title>67901</title>\n",
       "<polygon fill=\"#c0c0c0\" stroke=\"black\" points=\"234.5,-36 180.5,-36 180.5,-0 234.5,-0 234.5,-36\"/>\n",
       "<text text-anchor=\"middle\" x=\"207.5\" y=\"-14.3\" font-family=\"Times New Roman,serif\" font-size=\"14.00\">(...)</text>\n",
       "</g>\n",
       "<!-- 67900&#45;&gt;67901 -->\n",
       "<g id=\"edge7\" class=\"edge\"><title>67900&#45;&gt;67901</title>\n",
       "<path fill=\"none\" stroke=\"black\" d=\"M218.222,-71.7615C216.469,-63.1387 214.661,-54.2385 213.04,-46.2606\"/>\n",
       "<polygon fill=\"black\" stroke=\"black\" points=\"216.458,-45.5078 211.037,-36.4051 209.598,-46.9018 216.458,-45.5078\"/>\n",
       "</g>\n",
       "<!-- 68472 -->\n",
       "<g id=\"node9\" class=\"node\"><title>68472</title>\n",
       "<polygon fill=\"#c0c0c0\" stroke=\"black\" points=\"306.5,-36 252.5,-36 252.5,-0 306.5,-0 306.5,-36\"/>\n",
       "<text text-anchor=\"middle\" x=\"279.5\" y=\"-14.3\" font-family=\"Times New Roman,serif\" font-size=\"14.00\">(...)</text>\n",
       "</g>\n",
       "<!-- 67900&#45;&gt;68472 -->\n",
       "<g id=\"edge8\" class=\"edge\"><title>67900&#45;&gt;68472</title>\n",
       "<path fill=\"none\" stroke=\"black\" d=\"M249.592,-71.7615C254.7,-62.7512 259.979,-53.4379 264.654,-45.1906\"/>\n",
       "<polygon fill=\"black\" stroke=\"black\" points=\"267.748,-46.8306 269.634,-36.4051 261.658,-43.3787 267.748,-46.8306\"/>\n",
       "</g>\n",
       "<!-- 69848 -->\n",
       "<g id=\"node11\" class=\"node\"><title>69848</title>\n",
       "<polygon fill=\"#399de5\" fill-opacity=\"0.721569\" stroke=\"black\" points=\"453,-155 314,-155 314,-72 453,-72 453,-155\"/>\n",
       "<text text-anchor=\"middle\" x=\"383.5\" y=\"-139.8\" font-family=\"Times New Roman,serif\" font-size=\"14.00\">like &lt;= 0.031</text>\n",
       "<text text-anchor=\"middle\" x=\"383.5\" y=\"-124.8\" font-family=\"Times New Roman,serif\" font-size=\"14.00\">gini = 0.341</text>\n",
       "<text text-anchor=\"middle\" x=\"383.5\" y=\"-109.8\" font-family=\"Times New Roman,serif\" font-size=\"14.00\">samples = 1.8%</text>\n",
       "<text text-anchor=\"middle\" x=\"383.5\" y=\"-94.8\" font-family=\"Times New Roman,serif\" font-size=\"14.00\">value = [0.218, 0.782]</text>\n",
       "<text text-anchor=\"middle\" x=\"383.5\" y=\"-79.8\" font-family=\"Times New Roman,serif\" font-size=\"14.00\">class = Funny</text>\n",
       "</g>\n",
       "<!-- 69847&#45;&gt;69848 -->\n",
       "<g id=\"edge10\" class=\"edge\"><title>69847&#45;&gt;69848</title>\n",
       "<path fill=\"none\" stroke=\"black\" d=\"M460.56,-190.907C451.225,-181.651 441.221,-171.732 431.617,-162.209\"/>\n",
       "<polygon fill=\"black\" stroke=\"black\" points=\"433.933,-159.576 424.367,-155.021 429.004,-164.547 433.933,-159.576\"/>\n",
       "</g>\n",
       "<!-- 70615 -->\n",
       "<g id=\"node14\" class=\"node\"><title>70615</title>\n",
       "<polygon fill=\"#399de5\" fill-opacity=\"0.368627\" stroke=\"black\" points=\"610,-155 471,-155 471,-72 610,-72 610,-155\"/>\n",
       "<text text-anchor=\"middle\" x=\"540.5\" y=\"-139.8\" font-family=\"Times New Roman,serif\" font-size=\"14.00\">replied &lt;= 0.005</text>\n",
       "<text text-anchor=\"middle\" x=\"540.5\" y=\"-124.8\" font-family=\"Times New Roman,serif\" font-size=\"14.00\">gini = 0.475</text>\n",
       "<text text-anchor=\"middle\" x=\"540.5\" y=\"-109.8\" font-family=\"Times New Roman,serif\" font-size=\"14.00\">samples = 6.1%</text>\n",
       "<text text-anchor=\"middle\" x=\"540.5\" y=\"-94.8\" font-family=\"Times New Roman,serif\" font-size=\"14.00\">value = [0.387, 0.613]</text>\n",
       "<text text-anchor=\"middle\" x=\"540.5\" y=\"-79.8\" font-family=\"Times New Roman,serif\" font-size=\"14.00\">class = Funny</text>\n",
       "</g>\n",
       "<!-- 69847&#45;&gt;70615 -->\n",
       "<g id=\"edge13\" class=\"edge\"><title>69847&#45;&gt;70615</title>\n",
       "<path fill=\"none\" stroke=\"black\" d=\"M515.031,-190.907C517.844,-182.468 520.841,-173.477 523.754,-164.738\"/>\n",
       "<polygon fill=\"black\" stroke=\"black\" points=\"527.151,-165.614 526.993,-155.021 520.51,-163.401 527.151,-165.614\"/>\n",
       "</g>\n",
       "<!-- 69849 -->\n",
       "<g id=\"node12\" class=\"node\"><title>69849</title>\n",
       "<polygon fill=\"#c0c0c0\" stroke=\"black\" points=\"378.5,-36 324.5,-36 324.5,-0 378.5,-0 378.5,-36\"/>\n",
       "<text text-anchor=\"middle\" x=\"351.5\" y=\"-14.3\" font-family=\"Times New Roman,serif\" font-size=\"14.00\">(...)</text>\n",
       "</g>\n",
       "<!-- 69848&#45;&gt;69849 -->\n",
       "<g id=\"edge11\" class=\"edge\"><title>69848&#45;&gt;69849</title>\n",
       "<path fill=\"none\" stroke=\"black\" d=\"M369.557,-71.7615C366.573,-63.0419 363.492,-54.0385 360.738,-45.9921\"/>\n",
       "<polygon fill=\"black\" stroke=\"black\" points=\"364.006,-44.733 357.457,-36.4051 357.384,-46.9997 364.006,-44.733\"/>\n",
       "</g>\n",
       "<!-- 70528 -->\n",
       "<g id=\"node13\" class=\"node\"><title>70528</title>\n",
       "<polygon fill=\"#c0c0c0\" stroke=\"black\" points=\"450.5,-36 396.5,-36 396.5,-0 450.5,-0 450.5,-36\"/>\n",
       "<text text-anchor=\"middle\" x=\"423.5\" y=\"-14.3\" font-family=\"Times New Roman,serif\" font-size=\"14.00\">(...)</text>\n",
       "</g>\n",
       "<!-- 69848&#45;&gt;70528 -->\n",
       "<g id=\"edge12\" class=\"edge\"><title>69848&#45;&gt;70528</title>\n",
       "<path fill=\"none\" stroke=\"black\" d=\"M400.928,-71.7615C404.7,-62.945 408.596,-53.8384 412.067,-45.7242\"/>\n",
       "<polygon fill=\"black\" stroke=\"black\" points=\"415.339,-46.9758 416.054,-36.4051 408.903,-44.2224 415.339,-46.9758\"/>\n",
       "</g>\n",
       "<!-- 70616 -->\n",
       "<g id=\"node15\" class=\"node\"><title>70616</title>\n",
       "<polygon fill=\"#c0c0c0\" stroke=\"black\" points=\"523.5,-36 469.5,-36 469.5,-0 523.5,-0 523.5,-36\"/>\n",
       "<text text-anchor=\"middle\" x=\"496.5\" y=\"-14.3\" font-family=\"Times New Roman,serif\" font-size=\"14.00\">(...)</text>\n",
       "</g>\n",
       "<!-- 70615&#45;&gt;70616 -->\n",
       "<g id=\"edge14\" class=\"edge\"><title>70615&#45;&gt;70616</title>\n",
       "<path fill=\"none\" stroke=\"black\" d=\"M521.329,-71.7615C517.134,-62.8481 512.8,-53.6382 508.95,-45.4571\"/>\n",
       "<polygon fill=\"black\" stroke=\"black\" points=\"512.116,-43.963 504.691,-36.4051 505.782,-46.9436 512.116,-43.963\"/>\n",
       "</g>\n",
       "<!-- 74271 -->\n",
       "<g id=\"node16\" class=\"node\"><title>74271</title>\n",
       "<polygon fill=\"#c0c0c0\" stroke=\"black\" points=\"595.5,-36 541.5,-36 541.5,-0 595.5,-0 595.5,-36\"/>\n",
       "<text text-anchor=\"middle\" x=\"568.5\" y=\"-14.3\" font-family=\"Times New Roman,serif\" font-size=\"14.00\">(...)</text>\n",
       "</g>\n",
       "<!-- 70615&#45;&gt;74271 -->\n",
       "<g id=\"edge15\" class=\"edge\"><title>70615&#45;&gt;74271</title>\n",
       "<path fill=\"none\" stroke=\"black\" d=\"M552.7,-71.7615C555.311,-63.0419 558.007,-54.0385 560.417,-45.9921\"/>\n",
       "<polygon fill=\"black\" stroke=\"black\" points=\"563.772,-46.9889 563.288,-36.4051 557.066,-44.9807 563.772,-46.9889\"/>\n",
       "</g>\n",
       "<!-- 74885 -->\n",
       "<g id=\"node18\" class=\"node\"><title>74885</title>\n",
       "<polygon fill=\"#399de5\" fill-opacity=\"0.462745\" stroke=\"black\" points=\"806,-274 667,-274 667,-191 806,-191 806,-274\"/>\n",
       "<text text-anchor=\"middle\" x=\"736.5\" y=\"-258.8\" font-family=\"Times New Roman,serif\" font-size=\"14.00\">says &lt;= 0.036</text>\n",
       "<text text-anchor=\"middle\" x=\"736.5\" y=\"-243.8\" font-family=\"Times New Roman,serif\" font-size=\"14.00\">gini = 0.454</text>\n",
       "<text text-anchor=\"middle\" x=\"736.5\" y=\"-228.8\" font-family=\"Times New Roman,serif\" font-size=\"14.00\">samples = 8.3%</text>\n",
       "<text text-anchor=\"middle\" x=\"736.5\" y=\"-213.8\" font-family=\"Times New Roman,serif\" font-size=\"14.00\">value = [0.349, 0.651]</text>\n",
       "<text text-anchor=\"middle\" x=\"736.5\" y=\"-198.8\" font-family=\"Times New Roman,serif\" font-size=\"14.00\">class = Funny</text>\n",
       "</g>\n",
       "<!-- 74884&#45;&gt;74885 -->\n",
       "<g id=\"edge17\" class=\"edge\"><title>74884&#45;&gt;74885</title>\n",
       "<path fill=\"none\" stroke=\"black\" d=\"M736.5,-309.907C736.5,-301.649 736.5,-292.864 736.5,-284.302\"/>\n",
       "<polygon fill=\"black\" stroke=\"black\" points=\"740,-284.021 736.5,-274.021 733,-284.021 740,-284.021\"/>\n",
       "</g>\n",
       "<!-- 80042 -->\n",
       "<g id=\"node25\" class=\"node\"><title>80042</title>\n",
       "<polygon fill=\"#399de5\" fill-opacity=\"0.662745\" stroke=\"black\" points=\"1081,-274 942,-274 942,-191 1081,-191 1081,-274\"/>\n",
       "<text text-anchor=\"middle\" x=\"1011.5\" y=\"-258.8\" font-family=\"Times New Roman,serif\" font-size=\"14.00\">asks &lt;= 0.037</text>\n",
       "<text text-anchor=\"middle\" x=\"1011.5\" y=\"-243.8\" font-family=\"Times New Roman,serif\" font-size=\"14.00\">gini = 0.376</text>\n",
       "<text text-anchor=\"middle\" x=\"1011.5\" y=\"-228.8\" font-family=\"Times New Roman,serif\" font-size=\"14.00\">samples = 4.0%</text>\n",
       "<text text-anchor=\"middle\" x=\"1011.5\" y=\"-213.8\" font-family=\"Times New Roman,serif\" font-size=\"14.00\">value = [0.251, 0.749]</text>\n",
       "<text text-anchor=\"middle\" x=\"1011.5\" y=\"-198.8\" font-family=\"Times New Roman,serif\" font-size=\"14.00\">class = Funny</text>\n",
       "</g>\n",
       "<!-- 74884&#45;&gt;80042 -->\n",
       "<g id=\"edge24\" class=\"edge\"><title>74884&#45;&gt;80042</title>\n",
       "<path fill=\"none\" stroke=\"black\" d=\"M806.25,-320.825C844.699,-304.466 892.57,-284.099 932.408,-267.15\"/>\n",
       "<polygon fill=\"black\" stroke=\"black\" points=\"933.993,-270.279 941.825,-263.144 931.253,-263.838 933.993,-270.279\"/>\n",
       "</g>\n",
       "<!-- 74886 -->\n",
       "<g id=\"node19\" class=\"node\"><title>74886</title>\n",
       "<polygon fill=\"#399de5\" fill-opacity=\"0.690196\" stroke=\"black\" points=\"767,-155 628,-155 628,-72 767,-72 767,-155\"/>\n",
       "<text text-anchor=\"middle\" x=\"697.5\" y=\"-139.8\" font-family=\"Times New Roman,serif\" font-size=\"14.00\">screen &lt;= 0.02</text>\n",
       "<text text-anchor=\"middle\" x=\"697.5\" y=\"-124.8\" font-family=\"Times New Roman,serif\" font-size=\"14.00\">gini = 0.362</text>\n",
       "<text text-anchor=\"middle\" x=\"697.5\" y=\"-109.8\" font-family=\"Times New Roman,serif\" font-size=\"14.00\">samples = 1.2%</text>\n",
       "<text text-anchor=\"middle\" x=\"697.5\" y=\"-94.8\" font-family=\"Times New Roman,serif\" font-size=\"14.00\">value = [0.237, 0.763]</text>\n",
       "<text text-anchor=\"middle\" x=\"697.5\" y=\"-79.8\" font-family=\"Times New Roman,serif\" font-size=\"14.00\">class = Funny</text>\n",
       "</g>\n",
       "<!-- 74885&#45;&gt;74886 -->\n",
       "<g id=\"edge18\" class=\"edge\"><title>74885&#45;&gt;74886</title>\n",
       "<path fill=\"none\" stroke=\"black\" d=\"M722.969,-190.907C720.156,-182.468 717.159,-173.477 714.246,-164.738\"/>\n",
       "<polygon fill=\"black\" stroke=\"black\" points=\"717.49,-163.401 711.007,-155.021 710.849,-165.614 717.49,-163.401\"/>\n",
       "</g>\n",
       "<!-- 75481 -->\n",
       "<g id=\"node22\" class=\"node\"><title>75481</title>\n",
       "<polygon fill=\"#399de5\" fill-opacity=\"0.415686\" stroke=\"black\" points=\"924,-155 785,-155 785,-72 924,-72 924,-155\"/>\n",
       "<text text-anchor=\"middle\" x=\"854.5\" y=\"-139.8\" font-family=\"Times New Roman,serif\" font-size=\"14.00\">bar says &lt;= 0.171</text>\n",
       "<text text-anchor=\"middle\" x=\"854.5\" y=\"-124.8\" font-family=\"Times New Roman,serif\" font-size=\"14.00\">gini = 0.466</text>\n",
       "<text text-anchor=\"middle\" x=\"854.5\" y=\"-109.8\" font-family=\"Times New Roman,serif\" font-size=\"14.00\">samples = 7.0%</text>\n",
       "<text text-anchor=\"middle\" x=\"854.5\" y=\"-94.8\" font-family=\"Times New Roman,serif\" font-size=\"14.00\">value = [0.369, 0.631]</text>\n",
       "<text text-anchor=\"middle\" x=\"854.5\" y=\"-79.8\" font-family=\"Times New Roman,serif\" font-size=\"14.00\">class = Funny</text>\n",
       "</g>\n",
       "<!-- 74885&#45;&gt;75481 -->\n",
       "<g id=\"edge21\" class=\"edge\"><title>74885&#45;&gt;75481</title>\n",
       "<path fill=\"none\" stroke=\"black\" d=\"M777.44,-190.907C786.775,-181.651 796.779,-171.732 806.383,-162.209\"/>\n",
       "<polygon fill=\"black\" stroke=\"black\" points=\"808.996,-164.547 813.633,-155.021 804.067,-159.576 808.996,-164.547\"/>\n",
       "</g>\n",
       "<!-- 74887 -->\n",
       "<g id=\"node20\" class=\"node\"><title>74887</title>\n",
       "<polygon fill=\"#c0c0c0\" stroke=\"black\" points=\"668.5,-36 614.5,-36 614.5,-0 668.5,-0 668.5,-36\"/>\n",
       "<text text-anchor=\"middle\" x=\"641.5\" y=\"-14.3\" font-family=\"Times New Roman,serif\" font-size=\"14.00\">(...)</text>\n",
       "</g>\n",
       "<!-- 74886&#45;&gt;74887 -->\n",
       "<g id=\"edge19\" class=\"edge\"><title>74886&#45;&gt;74887</title>\n",
       "<path fill=\"none\" stroke=\"black\" d=\"M673.1,-71.7615C667.704,-62.7512 662.126,-53.4379 657.186,-45.1906\"/>\n",
       "<polygon fill=\"black\" stroke=\"black\" points=\"660.065,-43.1857 651.924,-36.4051 654.06,-46.7825 660.065,-43.1857\"/>\n",
       "</g>\n",
       "<!-- 75470 -->\n",
       "<g id=\"node21\" class=\"node\"><title>75470</title>\n",
       "<polygon fill=\"#c0c0c0\" stroke=\"black\" points=\"740.5,-36 686.5,-36 686.5,-0 740.5,-0 740.5,-36\"/>\n",
       "<text text-anchor=\"middle\" x=\"713.5\" y=\"-14.3\" font-family=\"Times New Roman,serif\" font-size=\"14.00\">(...)</text>\n",
       "</g>\n",
       "<!-- 74886&#45;&gt;75470 -->\n",
       "<g id=\"edge20\" class=\"edge\"><title>74886&#45;&gt;75470</title>\n",
       "<path fill=\"none\" stroke=\"black\" d=\"M704.471,-71.7615C705.93,-63.2356 707.436,-54.4385 708.789,-46.5299\"/>\n",
       "<polygon fill=\"black\" stroke=\"black\" points=\"712.285,-46.8522 710.522,-36.4051 705.385,-45.6714 712.285,-46.8522\"/>\n",
       "</g>\n",
       "<!-- 75482 -->\n",
       "<g id=\"node23\" class=\"node\"><title>75482</title>\n",
       "<polygon fill=\"#c0c0c0\" stroke=\"black\" points=\"815.5,-36 761.5,-36 761.5,-0 815.5,-0 815.5,-36\"/>\n",
       "<text text-anchor=\"middle\" x=\"788.5\" y=\"-14.3\" font-family=\"Times New Roman,serif\" font-size=\"14.00\">(...)</text>\n",
       "</g>\n",
       "<!-- 75481&#45;&gt;75482 -->\n",
       "<g id=\"edge22\" class=\"edge\"><title>75481&#45;&gt;75482</title>\n",
       "<path fill=\"none\" stroke=\"black\" d=\"M825.743,-71.7615C819.246,-62.5574 812.526,-53.0372 806.613,-44.6601\"/>\n",
       "<polygon fill=\"black\" stroke=\"black\" points=\"809.412,-42.5564 800.786,-36.4051 803.693,-46.5932 809.412,-42.5564\"/>\n",
       "</g>\n",
       "<!-- 79989 -->\n",
       "<g id=\"node24\" class=\"node\"><title>79989</title>\n",
       "<polygon fill=\"#c0c0c0\" stroke=\"black\" points=\"887.5,-36 833.5,-36 833.5,-0 887.5,-0 887.5,-36\"/>\n",
       "<text text-anchor=\"middle\" x=\"860.5\" y=\"-14.3\" font-family=\"Times New Roman,serif\" font-size=\"14.00\">(...)</text>\n",
       "</g>\n",
       "<!-- 75481&#45;&gt;79989 -->\n",
       "<g id=\"edge23\" class=\"edge\"><title>75481&#45;&gt;79989</title>\n",
       "<path fill=\"none\" stroke=\"black\" d=\"M857.114,-71.7615C857.661,-63.2356 858.226,-54.4385 858.733,-46.5299\"/>\n",
       "<polygon fill=\"black\" stroke=\"black\" points=\"862.235,-46.6087 859.383,-36.4051 855.25,-46.1604 862.235,-46.6087\"/>\n",
       "</g>\n",
       "<!-- 80043 -->\n",
       "<g id=\"node26\" class=\"node\"><title>80043</title>\n",
       "<polygon fill=\"#399de5\" fill-opacity=\"0.764706\" stroke=\"black\" points=\"1081,-155 942,-155 942,-72 1081,-72 1081,-155\"/>\n",
       "<text text-anchor=\"middle\" x=\"1011.5\" y=\"-139.8\" font-family=\"Times New Roman,serif\" font-size=\"14.00\">know wrong &lt;= 0.02</text>\n",
       "<text text-anchor=\"middle\" x=\"1011.5\" y=\"-124.8\" font-family=\"Times New Roman,serif\" font-size=\"14.00\">gini = 0.31</text>\n",
       "<text text-anchor=\"middle\" x=\"1011.5\" y=\"-109.8\" font-family=\"Times New Roman,serif\" font-size=\"14.00\">samples = 1.3%</text>\n",
       "<text text-anchor=\"middle\" x=\"1011.5\" y=\"-94.8\" font-family=\"Times New Roman,serif\" font-size=\"14.00\">value = [0.191, 0.809]</text>\n",
       "<text text-anchor=\"middle\" x=\"1011.5\" y=\"-79.8\" font-family=\"Times New Roman,serif\" font-size=\"14.00\">class = Funny</text>\n",
       "</g>\n",
       "<!-- 80042&#45;&gt;80043 -->\n",
       "<g id=\"edge25\" class=\"edge\"><title>80042&#45;&gt;80043</title>\n",
       "<path fill=\"none\" stroke=\"black\" d=\"M1011.5,-190.907C1011.5,-182.649 1011.5,-173.864 1011.5,-165.302\"/>\n",
       "<polygon fill=\"black\" stroke=\"black\" points=\"1015,-165.021 1011.5,-155.021 1008,-165.021 1015,-165.021\"/>\n",
       "</g>\n",
       "<!-- 80550 -->\n",
       "<g id=\"node29\" class=\"node\"><title>80550</title>\n",
       "<polygon fill=\"#399de5\" fill-opacity=\"0.611765\" stroke=\"black\" points=\"1238,-155 1099,-155 1099,-72 1238,-72 1238,-155\"/>\n",
       "<text text-anchor=\"middle\" x=\"1168.5\" y=\"-139.8\" font-family=\"Times New Roman,serif\" font-size=\"14.00\">friend says &lt;= 0.15</text>\n",
       "<text text-anchor=\"middle\" x=\"1168.5\" y=\"-124.8\" font-family=\"Times New Roman,serif\" font-size=\"14.00\">gini = 0.402</text>\n",
       "<text text-anchor=\"middle\" x=\"1168.5\" y=\"-109.8\" font-family=\"Times New Roman,serif\" font-size=\"14.00\">samples = 2.8%</text>\n",
       "<text text-anchor=\"middle\" x=\"1168.5\" y=\"-94.8\" font-family=\"Times New Roman,serif\" font-size=\"14.00\">value = [0.279, 0.721]</text>\n",
       "<text text-anchor=\"middle\" x=\"1168.5\" y=\"-79.8\" font-family=\"Times New Roman,serif\" font-size=\"14.00\">class = Funny</text>\n",
       "</g>\n",
       "<!-- 80042&#45;&gt;80550 -->\n",
       "<g id=\"edge28\" class=\"edge\"><title>80042&#45;&gt;80550</title>\n",
       "<path fill=\"none\" stroke=\"black\" d=\"M1065.97,-190.907C1078.88,-181.288 1092.75,-170.953 1105.98,-161.09\"/>\n",
       "<polygon fill=\"black\" stroke=\"black\" points=\"1108.2,-163.803 1114.13,-155.021 1104.02,-158.19 1108.2,-163.803\"/>\n",
       "</g>\n",
       "<!-- 80044 -->\n",
       "<g id=\"node27\" class=\"node\"><title>80044</title>\n",
       "<polygon fill=\"#c0c0c0\" stroke=\"black\" points=\"990.5,-36 936.5,-36 936.5,-0 990.5,-0 990.5,-36\"/>\n",
       "<text text-anchor=\"middle\" x=\"963.5\" y=\"-14.3\" font-family=\"Times New Roman,serif\" font-size=\"14.00\">(...)</text>\n",
       "</g>\n",
       "<!-- 80043&#45;&gt;80044 -->\n",
       "<g id=\"edge26\" class=\"edge\"><title>80043&#45;&gt;80044</title>\n",
       "<path fill=\"none\" stroke=\"black\" d=\"M990.586,-71.7615C986.01,-62.8481 981.282,-53.6382 977.082,-45.4571\"/>\n",
       "<polygon fill=\"black\" stroke=\"black\" points=\"980.116,-43.7028 972.435,-36.4051 973.889,-46.8998 980.116,-43.7028\"/>\n",
       "</g>\n",
       "<!-- 80547 -->\n",
       "<g id=\"node28\" class=\"node\"><title>80547</title>\n",
       "<polygon fill=\"#c0c0c0\" stroke=\"black\" points=\"1062.5,-36 1008.5,-36 1008.5,-0 1062.5,-0 1062.5,-36\"/>\n",
       "<text text-anchor=\"middle\" x=\"1035.5\" y=\"-14.3\" font-family=\"Times New Roman,serif\" font-size=\"14.00\">(...)</text>\n",
       "</g>\n",
       "<!-- 80043&#45;&gt;80547 -->\n",
       "<g id=\"edge27\" class=\"edge\"><title>80043&#45;&gt;80547</title>\n",
       "<path fill=\"none\" stroke=\"black\" d=\"M1021.96,-71.7615C1024.17,-63.1387 1026.45,-54.2385 1028.5,-46.2606\"/>\n",
       "<polygon fill=\"black\" stroke=\"black\" points=\"1031.94,-46.9613 1031.03,-36.4051 1025.16,-45.2209 1031.94,-46.9613\"/>\n",
       "</g>\n",
       "<!-- 80551 -->\n",
       "<g id=\"node30\" class=\"node\"><title>80551</title>\n",
       "<polygon fill=\"#c0c0c0\" stroke=\"black\" points=\"1159.5,-36 1105.5,-36 1105.5,-0 1159.5,-0 1159.5,-36\"/>\n",
       "<text text-anchor=\"middle\" x=\"1132.5\" y=\"-14.3\" font-family=\"Times New Roman,serif\" font-size=\"14.00\">(...)</text>\n",
       "</g>\n",
       "<!-- 80550&#45;&gt;80551 -->\n",
       "<g id=\"edge29\" class=\"edge\"><title>80550&#45;&gt;80551</title>\n",
       "<path fill=\"none\" stroke=\"black\" d=\"M1152.81,-71.7615C1149.46,-63.0419 1145.99,-54.0385 1142.89,-45.9921\"/>\n",
       "<polygon fill=\"black\" stroke=\"black\" points=\"1146.06,-44.4797 1139.2,-36.4051 1139.53,-46.9949 1146.06,-44.4797\"/>\n",
       "</g>\n",
       "<!-- 82048 -->\n",
       "<g id=\"node31\" class=\"node\"><title>82048</title>\n",
       "<polygon fill=\"#c0c0c0\" stroke=\"black\" points=\"1231.5,-36 1177.5,-36 1177.5,-0 1231.5,-0 1231.5,-36\"/>\n",
       "<text text-anchor=\"middle\" x=\"1204.5\" y=\"-14.3\" font-family=\"Times New Roman,serif\" font-size=\"14.00\">(...)</text>\n",
       "</g>\n",
       "<!-- 80550&#45;&gt;82048 -->\n",
       "<g id=\"edge30\" class=\"edge\"><title>80550&#45;&gt;82048</title>\n",
       "<path fill=\"none\" stroke=\"black\" d=\"M1184.19,-71.7615C1187.54,-63.0419 1191.01,-54.0385 1194.11,-45.9921\"/>\n",
       "<polygon fill=\"black\" stroke=\"black\" points=\"1197.47,-46.9949 1197.8,-36.4051 1190.94,-44.4797 1197.47,-46.9949\"/>\n",
       "</g>\n",
       "</g>\n",
       "</svg>\n"
      ],
      "text/plain": [
       "<IPython.core.display.HTML object>"
      ]
     },
     "metadata": {},
     "output_type": "display_data"
    }
   ],
   "source": [
    "tree_graph = graphviz.Source(tree_dot,\n",
    "                             format='svg',\n",
    "                             engine=\"dot\",\n",
    "                             filename=\"reports/figures/tree_visual\")\n",
    "display(HTML(open(tree_graph.render()).read()))"
   ]
  },
  {
   "cell_type": "markdown",
   "metadata": {},
   "source": [
    "From the above visualization, one can see that jokes with dialogue are funny."
   ]
  },
  {
   "cell_type": "markdown",
   "metadata": {},
   "source": [
    "### 2.1.3 Feature Importance"
   ]
  },
  {
   "cell_type": "markdown",
   "metadata": {},
   "source": [
    "Finally, let us examine the most important features"
   ]
  },
  {
   "cell_type": "code",
   "execution_count": 15,
   "metadata": {},
   "outputs": [
    {
     "data": {
      "text/plain": [
       "array(['gets', 'called', 'went', 'jokes', 've', 'favorite', 'sex', 'night',\n",
       "       'really', 'think', 'good', 'friend', 'girl', 'dad', 'little',\n",
       "       'today', 'common', 'old', 'bar', 'going', 'told', 'girlfriend',\n",
       "       'tell', 'trump', 'replies', 'new', 'asked', 'guy', 'day', 'll',\n",
       "       'got', 'make', 'difference', 'black', 'know', 'people', 'time',\n",
       "       'man', 'replied', 'say', 'joke', 'does', 'like', 'don', 'just',\n",
       "       'asks', 'wife', 'did', 'said', 'says'],\n",
       "      dtype='<U59')"
      ]
     },
     "execution_count": 15,
     "metadata": {},
     "output_type": "execute_result"
    }
   ],
   "source": [
    "top_base_features = np.argsort(dt_base.feature_importances_)[-50:]\n",
    "np.array(features[\"vectorizer\"].get_feature_names())[top_base_features]"
   ]
  },
  {
   "cell_type": "markdown",
   "metadata": {},
   "source": [
    "One can see a fair of amount of synomoms or similar words above. This suggests more processing of features could be done. However this is time consuming. More advanced and efficient techniques for dealing with semantically similary words will be explored when training neural networks models."
   ]
  },
  {
   "cell_type": "markdown",
   "metadata": {},
   "source": [
    "## 2.2 - Tuning"
   ]
  },
  {
   "cell_type": "markdown",
   "metadata": {},
   "source": [
    "As the preceding section shows, the basic, untuned, decision tree model underperforms the linear model by signifcant margin. In this section, we will try and improve the performance of the basic decision tree by evaluating the perfomance of the basic decision tree under various combinations of hyperparameters. The hyperparameters that we will try help reduce overfitting by stopping growth once the tree has become too complex. As an added bonus, a less complex decision tree will faster to train."
   ]
  },
  {
   "cell_type": "markdown",
   "metadata": {},
   "source": [
    "### 2.1.1 - Random Search "
   ]
  },
  {
   "cell_type": "markdown",
   "metadata": {},
   "source": [
    "Rather than engaging in an exhaustive grid search for the optimal set of hyperparameters, we will instead try a randomized search. For each iteration, a randomized search samples the specified hyperparameters from a distribution. This can be much more efficient than an exhaustive grid search.\n",
    "\n",
    "See http://www.jmlr.org/papers/v13/bergstra12a.html"
   ]
  },
  {
   "cell_type": "code",
   "execution_count": 16,
   "metadata": {
    "collapsed": true
   },
   "outputs": [],
   "source": [
    "min_impurity_decrease = distributions.uniform(loc = 1e-6, scale = (1e-3 - 1e-6))\n",
    "min_samples_split = distributions.poisson(6, 1)\n",
    "\n",
    "to_search = {'min_impurity_decrease':min_impurity_decrease,\n",
    "            'min_samples_split':min_samples_split}"
   ]
  },
  {
   "cell_type": "code",
   "execution_count": 31,
   "metadata": {},
   "outputs": [
    {
     "name": "stdout",
     "output_type": "stream",
     "text": [
      "Fitting 8 folds for each of 50 candidates, totalling 400 fits\n"
     ]
    },
    {
     "name": "stderr",
     "output_type": "stream",
     "text": [
      "[Parallel(n_jobs=10)]: Done  30 tasks      | elapsed:   42.3s\n",
      "[Parallel(n_jobs=10)]: Done 180 tasks      | elapsed:  4.4min\n",
      "[Parallel(n_jobs=10)]: Done 400 out of 400 | elapsed: 14.8min finished\n"
     ]
    },
    {
     "name": "stdout",
     "output_type": "stream",
     "text": [
      "Wall time: 17min 43s\n"
     ]
    }
   ],
   "source": [
    "%%time\n",
    "dt_best = RandomizedSearchCV(estimator = DecisionTreeClassifier(),\n",
    "                  param_distributions=to_search,\n",
    "                  n_jobs=10,\n",
    "                  n_iter=50,        \n",
    "                  cv=8,\n",
    "                  verbose=1,\n",
    "                  random_state=11222017)\n",
    "dt_best.fit(features[\"train\"], train.funny)"
   ]
  },
  {
   "cell_type": "markdown",
   "metadata": {},
   "source": [
    "### 2.1.2 Results"
   ]
  },
  {
   "cell_type": "markdown",
   "metadata": {},
   "source": [
    "Now that we have the results, let us analyze them. \n",
    "\n",
    "First, let's see if we can visually detect any pattern in the best performing hyperparameter sets."
   ]
  },
  {
   "cell_type": "code",
   "execution_count": 32,
   "metadata": {},
   "outputs": [
    {
     "data": {
      "text/html": [
       "<div>\n",
       "<style>\n",
       "    .dataframe thead tr:only-child th {\n",
       "        text-align: right;\n",
       "    }\n",
       "\n",
       "    .dataframe thead th {\n",
       "        text-align: left;\n",
       "    }\n",
       "\n",
       "    .dataframe tbody tr th {\n",
       "        vertical-align: top;\n",
       "    }\n",
       "</style>\n",
       "<table border=\"1\" class=\"dataframe\">\n",
       "  <thead>\n",
       "    <tr style=\"text-align: right;\">\n",
       "      <th></th>\n",
       "      <th>mean_test_score</th>\n",
       "      <th>mean_train_score</th>\n",
       "      <th>param_min_impurity_decrease</th>\n",
       "      <th>param_min_samples_split</th>\n",
       "      <th>rank_test_score</th>\n",
       "    </tr>\n",
       "  </thead>\n",
       "  <tbody>\n",
       "    <tr>\n",
       "      <th>45</th>\n",
       "      <td>0.627904</td>\n",
       "      <td>0.735799</td>\n",
       "      <td>0.000020</td>\n",
       "      <td>8</td>\n",
       "      <td>1</td>\n",
       "    </tr>\n",
       "    <tr>\n",
       "      <th>20</th>\n",
       "      <td>0.624611</td>\n",
       "      <td>0.643116</td>\n",
       "      <td>0.000045</td>\n",
       "      <td>8</td>\n",
       "      <td>2</td>\n",
       "    </tr>\n",
       "    <tr>\n",
       "      <th>35</th>\n",
       "      <td>0.605598</td>\n",
       "      <td>0.608303</td>\n",
       "      <td>0.000145</td>\n",
       "      <td>5</td>\n",
       "      <td>3</td>\n",
       "    </tr>\n",
       "    <tr>\n",
       "      <th>27</th>\n",
       "      <td>0.605598</td>\n",
       "      <td>0.608303</td>\n",
       "      <td>0.000144</td>\n",
       "      <td>7</td>\n",
       "      <td>3</td>\n",
       "    </tr>\n",
       "    <tr>\n",
       "      <th>34</th>\n",
       "      <td>0.604409</td>\n",
       "      <td>0.606428</td>\n",
       "      <td>0.000172</td>\n",
       "      <td>11</td>\n",
       "      <td>5</td>\n",
       "    </tr>\n",
       "    <tr>\n",
       "      <th>46</th>\n",
       "      <td>0.603103</td>\n",
       "      <td>0.604898</td>\n",
       "      <td>0.000200</td>\n",
       "      <td>9</td>\n",
       "      <td>6</td>\n",
       "    </tr>\n",
       "    <tr>\n",
       "      <th>1</th>\n",
       "      <td>0.602560</td>\n",
       "      <td>0.604034</td>\n",
       "      <td>0.000213</td>\n",
       "      <td>11</td>\n",
       "      <td>7</td>\n",
       "    </tr>\n",
       "    <tr>\n",
       "      <th>31</th>\n",
       "      <td>0.602524</td>\n",
       "      <td>0.603998</td>\n",
       "      <td>0.000218</td>\n",
       "      <td>9</td>\n",
       "      <td>8</td>\n",
       "    </tr>\n",
       "    <tr>\n",
       "      <th>2</th>\n",
       "      <td>0.602204</td>\n",
       "      <td>0.603607</td>\n",
       "      <td>0.000229</td>\n",
       "      <td>10</td>\n",
       "      <td>9</td>\n",
       "    </tr>\n",
       "    <tr>\n",
       "      <th>14</th>\n",
       "      <td>0.601757</td>\n",
       "      <td>0.602735</td>\n",
       "      <td>0.000252</td>\n",
       "      <td>6</td>\n",
       "      <td>10</td>\n",
       "    </tr>\n",
       "    <tr>\n",
       "      <th>8</th>\n",
       "      <td>0.601732</td>\n",
       "      <td>0.602684</td>\n",
       "      <td>0.000256</td>\n",
       "      <td>8</td>\n",
       "      <td>11</td>\n",
       "    </tr>\n",
       "    <tr>\n",
       "      <th>32</th>\n",
       "      <td>0.600812</td>\n",
       "      <td>0.601481</td>\n",
       "      <td>0.000283</td>\n",
       "      <td>8</td>\n",
       "      <td>12</td>\n",
       "    </tr>\n",
       "    <tr>\n",
       "      <th>4</th>\n",
       "      <td>0.600146</td>\n",
       "      <td>0.600666</td>\n",
       "      <td>0.000288</td>\n",
       "      <td>6</td>\n",
       "      <td>13</td>\n",
       "    </tr>\n",
       "    <tr>\n",
       "      <th>15</th>\n",
       "      <td>0.600146</td>\n",
       "      <td>0.600666</td>\n",
       "      <td>0.000288</td>\n",
       "      <td>8</td>\n",
       "      <td>13</td>\n",
       "    </tr>\n",
       "    <tr>\n",
       "      <th>17</th>\n",
       "      <td>0.597809</td>\n",
       "      <td>0.598406</td>\n",
       "      <td>0.000313</td>\n",
       "      <td>7</td>\n",
       "      <td>15</td>\n",
       "    </tr>\n",
       "    <tr>\n",
       "      <th>24</th>\n",
       "      <td>0.597809</td>\n",
       "      <td>0.598406</td>\n",
       "      <td>0.000307</td>\n",
       "      <td>8</td>\n",
       "      <td>15</td>\n",
       "    </tr>\n",
       "    <tr>\n",
       "      <th>18</th>\n",
       "      <td>0.597560</td>\n",
       "      <td>0.598104</td>\n",
       "      <td>0.000317</td>\n",
       "      <td>5</td>\n",
       "      <td>17</td>\n",
       "    </tr>\n",
       "    <tr>\n",
       "      <th>10</th>\n",
       "      <td>0.596346</td>\n",
       "      <td>0.597023</td>\n",
       "      <td>0.000353</td>\n",
       "      <td>12</td>\n",
       "      <td>18</td>\n",
       "    </tr>\n",
       "    <tr>\n",
       "      <th>28</th>\n",
       "      <td>0.596346</td>\n",
       "      <td>0.597023</td>\n",
       "      <td>0.000356</td>\n",
       "      <td>4</td>\n",
       "      <td>18</td>\n",
       "    </tr>\n",
       "    <tr>\n",
       "      <th>40</th>\n",
       "      <td>0.595274</td>\n",
       "      <td>0.596338</td>\n",
       "      <td>0.000361</td>\n",
       "      <td>6</td>\n",
       "      <td>20</td>\n",
       "    </tr>\n",
       "  </tbody>\n",
       "</table>\n",
       "</div>"
      ],
      "text/plain": [
       "    mean_test_score  mean_train_score  param_min_impurity_decrease  \\\n",
       "45         0.627904          0.735799                     0.000020   \n",
       "20         0.624611          0.643116                     0.000045   \n",
       "35         0.605598          0.608303                     0.000145   \n",
       "27         0.605598          0.608303                     0.000144   \n",
       "34         0.604409          0.606428                     0.000172   \n",
       "46         0.603103          0.604898                     0.000200   \n",
       "1          0.602560          0.604034                     0.000213   \n",
       "31         0.602524          0.603998                     0.000218   \n",
       "2          0.602204          0.603607                     0.000229   \n",
       "14         0.601757          0.602735                     0.000252   \n",
       "8          0.601732          0.602684                     0.000256   \n",
       "32         0.600812          0.601481                     0.000283   \n",
       "4          0.600146          0.600666                     0.000288   \n",
       "15         0.600146          0.600666                     0.000288   \n",
       "17         0.597809          0.598406                     0.000313   \n",
       "24         0.597809          0.598406                     0.000307   \n",
       "18         0.597560          0.598104                     0.000317   \n",
       "10         0.596346          0.597023                     0.000353   \n",
       "28         0.596346          0.597023                     0.000356   \n",
       "40         0.595274          0.596338                     0.000361   \n",
       "\n",
       "    param_min_samples_split  rank_test_score  \n",
       "45                        8                1  \n",
       "20                        8                2  \n",
       "35                        5                3  \n",
       "27                        7                3  \n",
       "34                       11                5  \n",
       "46                        9                6  \n",
       "1                        11                7  \n",
       "31                        9                8  \n",
       "2                        10                9  \n",
       "14                        6               10  \n",
       "8                         8               11  \n",
       "32                        8               12  \n",
       "4                         6               13  \n",
       "15                        8               13  \n",
       "17                        7               15  \n",
       "24                        8               15  \n",
       "18                        5               17  \n",
       "10                       12               18  \n",
       "28                        4               18  \n",
       "40                        6               20  "
      ]
     },
     "execution_count": 32,
     "metadata": {},
     "output_type": "execute_result"
    }
   ],
   "source": [
    "results = pd.DataFrame(dt_best.cv_results_).sort_values(\"rank_test_score\", ascending = True)\n",
    "results = results.loc[:, [\"mean_test_score\",\n",
    "                         \"mean_train_score\",\n",
    "                         \"param_min_impurity_decrease\",\n",
    "                         \"param_min_samples_split\",\n",
    "                         \"rank_test_score\"]]\n",
    "results = results.astype(dtype={'param_min_impurity_decrease':np.float,\n",
    "                                'param_min_samples_split':int})\n",
    "results.head(20)"
   ]
  },
  {
   "cell_type": "markdown",
   "metadata": {},
   "source": [
    "It is hard to detect a pattern from the above tables, but it does seem the hyperparameters that allow for more complexity produce more accurate models. Let's verify this hunch."
   ]
  },
  {
   "cell_type": "code",
   "execution_count": 33,
   "metadata": {},
   "outputs": [
    {
     "data": {
      "text/plain": [
       "<matplotlib.axes._subplots.AxesSubplot at 0x27ad911e240>"
      ]
     },
     "execution_count": 33,
     "metadata": {},
     "output_type": "execute_result"
    },
    {
     "data": {
      "image/png": "[encoded data removed]",
      "text/plain": [
       "<matplotlib.figure.Figure at 0x27abead7a20>"
      ]
     },
     "metadata": {},
     "output_type": "display_data"
    }
   ],
   "source": [
    "results.plot(x=\"param_min_impurity_decrease\",\n",
    "             y = \"mean_test_score\", \n",
    "             kind=\"scatter\",\n",
    "             xlim=(1e-6,1e-3))"
   ]
  },
  {
   "cell_type": "code",
   "execution_count": null,
   "metadata": {
    "collapsed": true
   },
   "outputs": [],
   "source": [
    "results.plot(x=\"param_min_impurity_decrease\",\n",
    "             y = \"mean_test_score\", \n",
    "             kind=\"scatter\",\n",
    "             xlim=(1e-6,1e-3))"
   ]
  },
  {
   "cell_type": "markdown",
   "metadata": {},
   "source": [
    "The above plot is more enlighting; it suggests a \"sweet\" point for the __min_impurity_decrease__ around 0.0002. Finally let us analyze the variance vs bias tradeoff by plotting the train accuracy against test accuracy."
   ]
  },
  {
   "cell_type": "code",
   "execution_count": 39,
   "metadata": {},
   "outputs": [
    {
     "data": {
      "text/plain": [
       "<matplotlib.axes._subplots.AxesSubplot at 0x27ad39ab4e0>"
      ]
     },
     "execution_count": 39,
     "metadata": {},
     "output_type": "execute_result"
    },
    {
     "data": {
      "image/png": "[encoded data removed]",
      "text/plain": [
       "<matplotlib.figure.Figure at 0x27ad8838390>"
      ]
     },
     "metadata": {},
     "output_type": "display_data"
    }
   ],
   "source": [
    "results.plot(x=\"param_min_samples_split\",\n",
    "             y = \"mean_test_score\", \n",
    "             kind=\"scatter\")"
   ]
  },
  {
   "cell_type": "markdown",
   "metadata": {},
   "source": [
    "Again, the above plot indicates there is a \"sweet\" point for the test results in terms of fitting to the train data set. The test accuracy increases with the train accuracy up to a certain point and then starts decreasing.\n",
    "\n",
    "Now that we have analyzed the relationship between the cross validation results and the hyperparameter settings, let us analyze the performance of the best set of hyperparameters. "
   ]
  },
  {
   "cell_type": "code",
   "execution_count": 35,
   "metadata": {},
   "outputs": [
    {
     "name": "stdout",
     "output_type": "stream",
     "text": [
      "0.633744709606\n"
     ]
    }
   ],
   "source": [
    "dt_best_score = dt_best.score(features[\"test\"], test.funny)\n",
    "print(dt_best_score)"
   ]
  },
  {
   "cell_type": "markdown",
   "metadata": {},
   "source": [
    "The above score on test is a fairly substansial improvement on the untuned decision tree. Let us verify that the spread between the train and test error is reduced because of increased regularization."
   ]
  },
  {
   "cell_type": "code",
   "execution_count": 36,
   "metadata": {},
   "outputs": [
    {
     "data": {
      "text/plain": [
       "0.71510375383614821"
      ]
     },
     "execution_count": 36,
     "metadata": {},
     "output_type": "execute_result"
    }
   ],
   "source": [
    "dt_best.score(features[\"train\"], train.funny)"
   ]
  },
  {
   "cell_type": "markdown",
   "metadata": {},
   "source": [
    "As one can see, performance on the train set is better than on the test. However the difference is not huge. Due to rgualrization."
   ]
  },
  {
   "cell_type": "markdown",
   "metadata": {},
   "source": [
    "The sklearn RandomizedSearchCV automatically refits to the best results. Therefore we can be confident that a well tuned basic decsion tree underperforms an optimized linear model to a noticeable degree. Let us verify these results using our preferred metric, Area Under the Curve:   "
   ]
  },
  {
   "cell_type": "code",
   "execution_count": 37,
   "metadata": {
    "scrolled": true
   },
   "outputs": [
    {
     "data": {
      "image/png": "[encoded data removed]",
      "text/plain": [
       "<matplotlib.figure.Figure at 0x27ad39ab0b8>"
      ]
     },
     "metadata": {},
     "output_type": "display_data"
    }
   ],
   "source": [
    "#lets look at area under the curve\n",
    "dt_best_preds = dt_best.predict_proba(features[\"test\"]) [:, 1]\n",
    "lin_probs = lin_mdl.predict_proba(features[\"test\"]) [:, 1]\n",
    "evaluation.roc_plot(test.funny,\n",
    "                    [dt_best_preds, lin_probs],\n",
    "                    [\"Best Tree\", \"Best Linear\"],\n",
    "                    'reports/figures/ROC_dt_best.svg')"
   ]
  },
  {
   "cell_type": "markdown",
   "metadata": {},
   "source": [
    "Here with the ROC curve, we again can see an improvement. Closer to linear benchmarkc, but sitll undr performs by a fair amount."
   ]
  },
  {
   "cell_type": "code",
   "execution_count": 38,
   "metadata": {},
   "outputs": [
    {
     "data": {
      "text/plain": [
       "['models/best_tree.pkl']"
      ]
     },
     "execution_count": 38,
     "metadata": {},
     "output_type": "execute_result"
    }
   ],
   "source": [
    "#save the best model\n",
    "joblib.dump(dt_best,\"models/best_tree.pkl\")"
   ]
  },
  {
   "cell_type": "markdown",
   "metadata": {},
   "source": [
    "The Area Under the Curve metric is consistent with the accuracy. Underperfomance compared to the linear model."
   ]
  },
  {
   "cell_type": "markdown",
   "metadata": {
    "collapsed": true
   },
   "source": [
    "# 3 - Bagged Trees (Random Forest)"
   ]
  },
  {
   "cell_type": "markdown",
   "metadata": {},
   "source": [
    "After having tried basic decision trees, we will now try the random forest algorithm. An advantage of random forests is that they do not require many hyperparameters."
   ]
  },
  {
   "cell_type": "markdown",
   "metadata": {},
   "source": [
    "\"The random forests algorithm, which is also an ensemble-of-trees method, is generally regarded to be among the very best\n",
    "commonly used classifiers (Manuel Fern´andez-Delgado and Amorim, 2014)\" from \"AdaBoost and Random Forests: the Power of Interpolation\""
   ]
  },
  {
   "cell_type": "markdown",
   "metadata": {},
   "source": [
    "## 3.1 Hyperparameter search"
   ]
  },
  {
   "cell_type": "markdown",
   "metadata": {},
   "source": [
    "Despite random forests not needing too many hyperparmeters, they still require some tuning of hyperparameters in order to obtain optimal results.\n",
    "\n",
    "Rather than using k-fold cross validation to determine the best parameters, I will use the out of bag (oob) error to evaluate ther performance of different hyperparameters. The out of bag errors metric is good because the random fforest alorithm naturally produces a hold out set, similar to k-fold cross validation. \n",
    "\n",
    "The morst import parameters are the numer of trees (n_estimators) and the number of features that are considered at each split (max_features). For max_features, I will try the default (and widely used) square-root of the number of features, as well as the built in log2 of the number of fetures. For the number of trees, I will start with the default number of 10 and increase up to 750."
   ]
  },
  {
   "cell_type": "markdown",
   "metadata": {},
   "source": [
    ">_\"The study of error estimates for bagged classifiers in Breiman [1996b], gives empirical evidence to show that the out-   of-bag estimate is as accurate as using a test set of the same size as the training set. Therefore, using the out-of-bag error estimate removes the need for a set aside test set.\"_"
   ]
  },
  {
   "cell_type": "code",
   "execution_count": 25,
   "metadata": {},
   "outputs": [
    {
     "name": "stdout",
     "output_type": "stream",
     "text": [
      "Starting log2\n",
      "Fitting log2 with 50 estimators\n",
      "Actual number of estimators: 50\n",
      "Score of 0.670197955409223\n",
      "elapsed time: 28.341313179334005 minutes\n",
      "Fitting log2 with 100 estimators\n",
      "Actual number of estimators: 100\n",
      "Score of 0.6825193585756966\n",
      "elapsed time: 57.18701001405716 minutes\n",
      "Fitting log2 with 150 estimators\n",
      "Actual number of estimators: 150\n",
      "Score of 0.6887029246184175\n",
      "elapsed time: 86.87337716023127 minutes\n",
      "Fitting log2 with 200 estimators\n",
      "Actual number of estimators: 200\n",
      "Score of 0.691101152368758\n",
      "elapsed time: 117.60085274378459 minutes\n",
      "Fitting log2 with 250 estimators\n",
      "Actual number of estimators: 250\n",
      "Score of 0.6934688941731195\n",
      "elapsed time: 149.60509004592896 minutes\n",
      "Fitting log2 with 300 estimators\n",
      "Actual number of estimators: 300\n",
      "Score of 0.6942157998496027\n",
      "elapsed time: 182.62652870019278 minutes\n",
      "Fitting log2 with 350 estimators\n",
      "Actual number of estimators: 350\n",
      "Score of 0.6956435583196147\n",
      "elapsed time: 216.54820310672125 minutes\n",
      "Fitting log2 with 400 estimators\n",
      "Actual number of estimators: 400\n",
      "Score of 0.6962481962481962\n",
      "elapsed time: 251.51326091686886 minutes\n",
      "Fitting log2 with 450 estimators\n",
      "Actual number of estimators: 450\n",
      "Score of 0.6970509928256408\n",
      "elapsed time: 287.66840658982596 minutes\n",
      "Fitting log2 with 500 estimators\n",
      "Actual number of estimators: 500\n",
      "Score of 0.6974727150783488\n",
      "elapsed time: 324.97111874024074 minutes\n",
      "Done log2 after 324.97111874024074 minutes\n",
      "Starting sqrt\n",
      "Fitting sqrt with 50 estimators\n",
      "Actual number of estimators: 50\n",
      "Score of 0.6747403613600796\n",
      "elapsed time: 345.12525020837785 minutes\n",
      "\n",
      "Fitting sqrt with 100 estimators\n",
      "Actual number of estimators: 100\n",
      "Score of 0.6822653090258725\n",
      "elapsed time: 365.5692865729332 minutes\n",
      "\n",
      "Fitting sqrt with 150 estimators\n",
      "Actual number of estimators: 150\n",
      "Score of 0.6854663333536573\n",
      "elapsed time: 386.2318630019824 minutes\n",
      "\n",
      "Fitting sqrt with 200 estimators\n",
      "Actual number of estimators: 200\n",
      "Score of 0.6868890108326728\n",
      "elapsed time: 406.9899339516958 minutes\n",
      "\n",
      "Fitting sqrt with 250 estimators\n",
      "Actual number of estimators: 250\n",
      "Score of 0.6881541775907973\n",
      "elapsed time: 428.19891495307286 minutes\n",
      "\n",
      "Fitting sqrt with 300 estimators\n",
      "Actual number of estimators: 300\n",
      "Score of 0.6889366502042559\n",
      "elapsed time: 449.7095292448997 minutes\n",
      "\n",
      "Fitting sqrt with 350 estimators\n",
      "Actual number of estimators: 350\n",
      "Score of 0.6894650732678902\n",
      "elapsed time: 471.47290864388145 minutes\n",
      "\n",
      "Fitting sqrt with 400 estimators\n",
      "Actual number of estimators: 400\n",
      "Score of 0.6901256020974331\n",
      "elapsed time: 493.4700045784314 minutes\n",
      "\n",
      "Fitting sqrt with 450 estimators\n",
      "Actual number of estimators: 450\n",
      "Score of 0.690135764079426\n",
      "elapsed time: 515.7070228695869 minutes\n",
      "\n",
      "Fitting sqrt with 500 estimators\n",
      "Actual number of estimators: 500\n",
      "Score of 0.6904304615572221\n",
      "elapsed time: 538.2563631256421 minutes\n",
      "\n",
      "Wall time: 8h 58min 15s\n"
     ]
    }
   ],
   "source": [
    "%%time\n",
    "#want to fit rf model with warm start again and again\n",
    "#each time adding 50 trees\n",
    "#do for 5 hours\n",
    "#then switch to sqrt\n",
    "results = []\n",
    "start_time = time.time()\n",
    "elapsed_time = time.time() - start_time\n",
    "rf_log2 =  RandomForestClassifier(max_features=\"log2\",\n",
    "                                 n_estimators = 50,\n",
    "                                 n_jobs=10,\n",
    "                                 oob_score = True,\n",
    "                                 warm_start = True,\n",
    "                                 random_state=11202017)\n",
    "rf_sqrt =  RandomForestClassifier(max_features=\"sqrt\",\n",
    "                                 n_estimators = 50,\n",
    "                                 n_jobs=10,\n",
    "                                 oob_score = True,\n",
    "                                 warm_start = True,\n",
    "                                 random_state=11202017)\n",
    "print(\"Starting log2\")\n",
    "log2_n_estimators = 50\n",
    "while ((time.time() - start_time)/(60*60) < 5):\n",
    "    print(\"Fitting log2 with {} estimators\".format(log2_n_estimators))\n",
    "    rf_log2.set_params(n_estimators=log2_n_estimators)\n",
    "    rf_log2.fit(features[\"train\"], train.funny)\n",
    "    n_estimators_check = len(rf_log2.estimators_)\n",
    "    print(\"Actual number of estimators: {}\".format(n_estimators_check))\n",
    "    score = rf_log2.oob_score_\n",
    "    print(\"Score of {}\".format(score))\n",
    "    results.append((log2_n_estimators, \"log2\", score))\n",
    "    print(\"elapsed time: {} minutes\".format((time.time() - start_time)/60))\n",
    "    log2_n_estimators += 50\n",
    "\n",
    "print(\"Done log2 after {} minutes\".format((time.time() - start_time)/60))\n",
    "print(\"Starting sqrt\")\n",
    "sqrt_n_estimators = 50\n",
    "while sqrt_n_estimators < log2_n_estimators:\n",
    "    print(\"Fitting sqrt with {} estimators\".format(sqrt_n_estimators))\n",
    "    rf_sqrt.set_params(n_estimators=sqrt_n_estimators)\n",
    "    rf_sqrt.fit(features[\"train\"], train.funny)\n",
    "    n_estimators_check = len(rf_sqrt.estimators_)\n",
    "    print(\"Actual number of estimators: {}\".format(n_estimators_check))\n",
    "    score = rf_sqrt.oob_score_\n",
    "    print(\"Score of {}\".format(score))\n",
    "    results.append((sqrt_n_estimators, \"sqrt\", score))\n",
    "    print(\"elapsed time: {} minutes\\n\".format((time.time() - start_time)/60))\n",
    "    sqrt_n_estimators += 50"
   ]
  },
  {
   "cell_type": "markdown",
   "metadata": {},
   "source": [
    "Let us put the results into a pandas dataframe."
   ]
  },
  {
   "cell_type": "code",
   "execution_count": 30,
   "metadata": {},
   "outputs": [
    {
     "data": {
      "text/html": [
       "<div>\n",
       "<style>\n",
       "    .dataframe thead tr:only-child th {\n",
       "        text-align: right;\n",
       "    }\n",
       "\n",
       "    .dataframe thead th {\n",
       "        text-align: left;\n",
       "    }\n",
       "\n",
       "    .dataframe tbody tr th {\n",
       "        vertical-align: top;\n",
       "    }\n",
       "</style>\n",
       "<table border=\"1\" class=\"dataframe\">\n",
       "  <thead>\n",
       "    <tr style=\"text-align: right;\">\n",
       "      <th></th>\n",
       "      <th>n_estimators</th>\n",
       "      <th>max_features</th>\n",
       "      <th>oob_score</th>\n",
       "    </tr>\n",
       "  </thead>\n",
       "  <tbody>\n",
       "    <tr>\n",
       "      <th>9</th>\n",
       "      <td>500</td>\n",
       "      <td>log2</td>\n",
       "      <td>0.697473</td>\n",
       "    </tr>\n",
       "    <tr>\n",
       "      <th>8</th>\n",
       "      <td>450</td>\n",
       "      <td>log2</td>\n",
       "      <td>0.697051</td>\n",
       "    </tr>\n",
       "    <tr>\n",
       "      <th>7</th>\n",
       "      <td>400</td>\n",
       "      <td>log2</td>\n",
       "      <td>0.696248</td>\n",
       "    </tr>\n",
       "    <tr>\n",
       "      <th>6</th>\n",
       "      <td>350</td>\n",
       "      <td>log2</td>\n",
       "      <td>0.695644</td>\n",
       "    </tr>\n",
       "    <tr>\n",
       "      <th>5</th>\n",
       "      <td>300</td>\n",
       "      <td>log2</td>\n",
       "      <td>0.694216</td>\n",
       "    </tr>\n",
       "    <tr>\n",
       "      <th>4</th>\n",
       "      <td>250</td>\n",
       "      <td>log2</td>\n",
       "      <td>0.693469</td>\n",
       "    </tr>\n",
       "    <tr>\n",
       "      <th>3</th>\n",
       "      <td>200</td>\n",
       "      <td>log2</td>\n",
       "      <td>0.691101</td>\n",
       "    </tr>\n",
       "    <tr>\n",
       "      <th>19</th>\n",
       "      <td>500</td>\n",
       "      <td>sqrt</td>\n",
       "      <td>0.690430</td>\n",
       "    </tr>\n",
       "    <tr>\n",
       "      <th>18</th>\n",
       "      <td>450</td>\n",
       "      <td>sqrt</td>\n",
       "      <td>0.690136</td>\n",
       "    </tr>\n",
       "    <tr>\n",
       "      <th>17</th>\n",
       "      <td>400</td>\n",
       "      <td>sqrt</td>\n",
       "      <td>0.690126</td>\n",
       "    </tr>\n",
       "    <tr>\n",
       "      <th>16</th>\n",
       "      <td>350</td>\n",
       "      <td>sqrt</td>\n",
       "      <td>0.689465</td>\n",
       "    </tr>\n",
       "    <tr>\n",
       "      <th>15</th>\n",
       "      <td>300</td>\n",
       "      <td>sqrt</td>\n",
       "      <td>0.688937</td>\n",
       "    </tr>\n",
       "    <tr>\n",
       "      <th>2</th>\n",
       "      <td>150</td>\n",
       "      <td>log2</td>\n",
       "      <td>0.688703</td>\n",
       "    </tr>\n",
       "    <tr>\n",
       "      <th>14</th>\n",
       "      <td>250</td>\n",
       "      <td>sqrt</td>\n",
       "      <td>0.688154</td>\n",
       "    </tr>\n",
       "    <tr>\n",
       "      <th>13</th>\n",
       "      <td>200</td>\n",
       "      <td>sqrt</td>\n",
       "      <td>0.686889</td>\n",
       "    </tr>\n",
       "    <tr>\n",
       "      <th>12</th>\n",
       "      <td>150</td>\n",
       "      <td>sqrt</td>\n",
       "      <td>0.685466</td>\n",
       "    </tr>\n",
       "    <tr>\n",
       "      <th>1</th>\n",
       "      <td>100</td>\n",
       "      <td>log2</td>\n",
       "      <td>0.682519</td>\n",
       "    </tr>\n",
       "    <tr>\n",
       "      <th>11</th>\n",
       "      <td>100</td>\n",
       "      <td>sqrt</td>\n",
       "      <td>0.682265</td>\n",
       "    </tr>\n",
       "    <tr>\n",
       "      <th>10</th>\n",
       "      <td>50</td>\n",
       "      <td>sqrt</td>\n",
       "      <td>0.674740</td>\n",
       "    </tr>\n",
       "    <tr>\n",
       "      <th>0</th>\n",
       "      <td>50</td>\n",
       "      <td>log2</td>\n",
       "      <td>0.670198</td>\n",
       "    </tr>\n",
       "  </tbody>\n",
       "</table>\n",
       "</div>"
      ],
      "text/plain": [
       "    n_estimators max_features  oob_score\n",
       "9            500         log2   0.697473\n",
       "8            450         log2   0.697051\n",
       "7            400         log2   0.696248\n",
       "6            350         log2   0.695644\n",
       "5            300         log2   0.694216\n",
       "4            250         log2   0.693469\n",
       "3            200         log2   0.691101\n",
       "19           500         sqrt   0.690430\n",
       "18           450         sqrt   0.690136\n",
       "17           400         sqrt   0.690126\n",
       "16           350         sqrt   0.689465\n",
       "15           300         sqrt   0.688937\n",
       "2            150         log2   0.688703\n",
       "14           250         sqrt   0.688154\n",
       "13           200         sqrt   0.686889\n",
       "12           150         sqrt   0.685466\n",
       "1            100         log2   0.682519\n",
       "11           100         sqrt   0.682265\n",
       "10            50         sqrt   0.674740\n",
       "0             50         log2   0.670198"
      ]
     },
     "execution_count": 30,
     "metadata": {},
     "output_type": "execute_result"
    }
   ],
   "source": [
    "results = pd.DataFrame(results, columns = [\"n_estimators\", \"max_features\", \"oob_score\"])\n",
    "results.sort_values(\"oob_score\", ascending = False)"
   ]
  },
  {
   "cell_type": "markdown",
   "metadata": {
    "collapsed": true
   },
   "source": [
    "It is clear that the model that uses ln2 to determine the max nuimber of feautres outperfroms the model that uses the sqrt. It also clear that the perofmrance of the model increase with the nmbr of esitmaorrs. The best perofrmaing ln2 model has 500 estmator (the max), same for sqrt.\n",
    "Now let us assess the performance of the best random forest estimator."
   ]
  },
  {
   "cell_type": "code",
   "execution_count": 40,
   "metadata": {},
   "outputs": [
    {
     "name": "stdout",
     "output_type": "stream",
     "text": [
      "The best Random Forest model has an accuracy of 69.875876% on the test set\n"
     ]
    }
   ],
   "source": [
    "rf_acc = rf_log2.score(features[\"test\"], test.funny)\n",
    "print(\"The best Random Forest model has an accuracy of {:2%} on the test set\".format(rf_acc))"
   ]
  },
  {
   "cell_type": "code",
   "execution_count": 41,
   "metadata": {},
   "outputs": [
    {
     "name": "stdout",
     "output_type": "stream",
     "text": [
      "Compare to a train accuracy of 98.509745%\n"
     ]
    }
   ],
   "source": [
    "rf_acc_train = rf_log2.score(features[\"train\"], train.funny)\n",
    "print(\"Compare to a train accuracy of {:2%}\".format(rf_acc_train))"
   ]
  },
  {
   "cell_type": "code",
   "execution_count": 48,
   "metadata": {},
   "outputs": [
    {
     "data": {
      "image/png": "[encoded data removed]",
      "text/plain": [
       "<matplotlib.figure.Figure at 0x27ae51e7390>"
      ]
     },
     "metadata": {},
     "output_type": "display_data"
    }
   ],
   "source": [
    "#AUC\n",
    "rf_probs = rf_log2.predict_proba(features[\"test\"])[:,1]\n",
    "evaluation.roc_plot(test.funny,\n",
    "                    [dt_best_preds, lin_probs, rf_probs],\n",
    "                    [\"Best Tree\", \"Best Linear\", \"Random Forest\"],\n",
    "                    'reports/figures/ROC_dt_best.svg')"
   ]
  },
  {
   "cell_type": "markdown",
   "metadata": {},
   "source": [
    "One can see that the random forest model outperforms the benchmark linear model, however slightly."
   ]
  },
  {
   "cell_type": "code",
   "execution_count": 49,
   "metadata": {},
   "outputs": [
    {
     "data": {
      "text/plain": [
       "['models/best_rf.pkl']"
      ]
     },
     "execution_count": 49,
     "metadata": {},
     "output_type": "execute_result"
    }
   ],
   "source": [
    "#save best model\n",
    "joblib.dump(rf_log2, \"models/best_rf.pkl\")"
   ]
  },
  {
   "cell_type": "markdown",
   "metadata": {},
   "source": [
    "##  Feature importance"
   ]
  },
  {
   "cell_type": "code",
   "execution_count": 27,
   "metadata": {
    "collapsed": true
   },
   "outputs": [],
   "source": [
    "#rf.score(features[\"test\"], test.funny)"
   ]
  },
  {
   "cell_type": "code",
   "execution_count": 28,
   "metadata": {
    "collapsed": true
   },
   "outputs": [],
   "source": [
    "#rf.score(features[\"train\"], train.funny)"
   ]
  },
  {
   "cell_type": "code",
   "execution_count": 29,
   "metadata": {
    "collapsed": true
   },
   "outputs": [],
   "source": [
    "#now auc\n",
    "#rf_best_preds = rf.predict_proba(features[\"test\"]) [:, 1]\n",
    "#evaluation.roc_plot(test.funny, rf_best_preds, 'reports/figures/ROC_rf.svg')"
   ]
  },
  {
   "cell_type": "code",
   "execution_count": 51,
   "metadata": {},
   "outputs": [
    {
     "data": {
      "text/plain": [
       "array(['best', 'night', 'old', 'women', 'replies', 'didn', 'friend', 'bar',\n",
       "       'today', 'called', 'new', 'girl', 'jokes', 'want', 'trump',\n",
       "       'girlfriend', 'going', 'think', 'woman', 'favorite', 've', 'really',\n",
       "       'asks', 'tell', 'guy', 'sex', 'hear', 'good', 'told', 'black',\n",
       "       'asked', 'make', 'day', 'll', 'time', 'difference', 'got', 'people',\n",
       "       'wife', 'joke', 'said', 'know', 'don', 'man', 'says', 'say', 'does',\n",
       "       'just', 'like', 'did'],\n",
       "      dtype='<U59')"
      ]
     },
     "execution_count": 51,
     "metadata": {},
     "output_type": "execute_result"
    }
   ],
   "source": [
    "top_rf_features = np.argsort(rf_log2.feature_importances_)[-50:]\n",
    "np.array(features[\"vectorizer\"].get_feature_names())[top_rf_features]"
   ]
  },
  {
   "cell_type": "code",
   "execution_count": null,
   "metadata": {
    "collapsed": true
   },
   "outputs": [],
   "source": []
  }
 ],
 "metadata": {
  "kernelspec": {
   "display_name": "Python 3",
   "language": "python",
   "name": "python3"
  },
  "language_info": {
   "codemirror_mode": {
    "name": "ipython",
    "version": 3
   },
   "file_extension": ".py",
   "mimetype": "text/x-python",
   "name": "python",
   "nbconvert_exporter": "python",
   "pygments_lexer": "ipython3",
   "version": "3.6.2"
  }
 },
 "nbformat": 4,
 "nbformat_minor": 2
}
