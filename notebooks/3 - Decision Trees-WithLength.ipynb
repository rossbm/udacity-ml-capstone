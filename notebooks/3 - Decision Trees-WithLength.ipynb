{
 "cells": [
  {
   "cell_type": "markdown",
   "metadata": {},
   "source": [
    "# 1 - Introduction"
   ]
  },
  {
   "cell_type": "markdown",
   "metadata": {},
   "source": [
    "This notebook explores whether non-linear models can outperform the baseline linear logistic regression model. Decision trees are an efficient method for of accounting for non-linearities. They are a particularly good choice for this project since they can naturally produce probability estimates. Probability estimates are needed for computing the area under the curve, my preferred performance metric. I will start by developing single tree models. I will then investigate whether Random Forests or Boosted Trees, models that grow multiple trees, outperform the single tree model."
   ]
  },
  {
   "cell_type": "markdown",
   "metadata": {},
   "source": [
    "## 1.1 - Load Packages and Global Variables"
   ]
  },
  {
   "cell_type": "code",
   "execution_count": 1,
   "metadata": {
    "collapsed": true
   },
   "outputs": [],
   "source": [
    "%matplotlib inline"
   ]
  },
  {
   "cell_type": "code",
   "execution_count": 2,
   "metadata": {
    "collapsed": true
   },
   "outputs": [],
   "source": [
    "import os\n",
    "import time\n",
    "from datetime import datetime\n",
    "import luigi\n",
    "from sklearn.externals import joblib\n",
    "from sklearn.ensemble import GradientBoostingClassifier, RandomForestClassifier\n",
    "from sklearn.tree import DecisionTreeClassifier, export_graphviz\n",
    "from sklearn.metrics import log_loss, roc_auc_score\n",
    "import numpy as np\n",
    "import pandas as pd\n",
    "import graphviz\n",
    "from sklearn.model_selection import RandomizedSearchCV, train_test_split\n",
    "from scipy.stats import distributions\n",
    "from IPython.display import SVG\n",
    "import xgboost as xgb\n",
    "from itertools import product\n",
    "from IPython.display import HTML\n",
    "import scipy.sparse"
   ]
  },
  {
   "cell_type": "code",
   "execution_count": 3,
   "metadata": {
    "collapsed": true
   },
   "outputs": [],
   "source": [
    "PROJECT_DIR = os.path.join(os.getcwd(), os.pardir)\n",
    "os.chdir(PROJECT_DIR)"
   ]
  },
  {
   "cell_type": "code",
   "execution_count": 4,
   "metadata": {
    "collapsed": true
   },
   "outputs": [],
   "source": [
    "from src.features.dtm import CreateDTM\n",
    "from src.visualization import evaluation"
   ]
  },
  {
   "cell_type": "code",
   "execution_count": 5,
   "metadata": {
    "collapsed": true
   },
   "outputs": [],
   "source": [
    "import imp\n",
    "evaluation = imp.reload(evaluation)"
   ]
  },
  {
   "cell_type": "markdown",
   "metadata": {},
   "source": [
    "## 1.2 - Load the Data"
   ]
  },
  {
   "cell_type": "markdown",
   "metadata": {},
   "source": [
    "The following Luigi task ensures that the document-term matrices for both train and test are available."
   ]
  },
  {
   "cell_type": "code",
   "execution_count": 6,
   "metadata": {},
   "outputs": [
    {
     "name": "stderr",
     "output_type": "stream",
     "text": [
      "DEBUG: Checking if CreateDTM() is complete\n",
      "INFO: Informed scheduler that task   CreateDTM__99914b932b   has status   DONE\n",
      "INFO: Done scheduling tasks\n",
      "INFO: Running Worker with 1 processes\n",
      "DEBUG: Asking scheduler for work...\n",
      "DEBUG: Done\n",
      "DEBUG: There are no more tasks to run at this time\n",
      "INFO: Worker Worker(salt=967755357, workers=1, host=DESKTOP-6UJS098, username=wertu, pid=11356) was stopped. Shutting down Keep-Alive thread\n",
      "INFO: \n",
      "===== Luigi Execution Summary =====\n",
      "\n",
      "Scheduled 1 tasks of which:\n",
      "* 1 present dependencies were encountered:\n",
      "    - 1 CreateDTM()\n",
      "\n",
      "Did not run any tasks\n",
      "This progress looks :) because there were no failed tasks or missing external dependencies\n",
      "\n",
      "===== Luigi Execution Summary =====\n",
      "\n"
     ]
    },
    {
     "data": {
      "text/plain": [
       "True"
      ]
     },
     "execution_count": 6,
     "metadata": {},
     "output_type": "execute_result"
    }
   ],
   "source": [
    "luigi.build([CreateDTM()], local_scheduler = True)"
   ]
  },
  {
   "cell_type": "markdown",
   "metadata": {},
   "source": [
    "Now that we have ensured that the data exists, load it:"
   ]
  },
  {
   "cell_type": "code",
   "execution_count": 14,
   "metadata": {},
   "outputs": [],
   "source": [
    "features = joblib.load(\"data/processed/dtm_features.pkl\")\n",
    "train = joblib.load(\"data/interim/train.pkl\")\n",
    "test = joblib.load(\"data/interim/test.pkl\")\n",
    "lin_mdl = joblib.load(\"models/best_linear.pkl\")"
   ]
  },
  {
   "cell_type": "markdown",
   "metadata": {},
   "source": [
    "# 2 - Basic Trees"
   ]
  },
  {
   "cell_type": "markdown",
   "metadata": {
    "collapsed": true
   },
   "source": [
    "We will start with the \"basic\" decision tree model, which consists of a single decision tree with many splits."
   ]
  },
  {
   "cell_type": "markdown",
   "metadata": {},
   "source": [
    "We will first assess the results of training a decision treee model using sklearn's default Models composed of a single fully grown decision trees are prone to overfitting. Therefore we will engage in hyperparameter tuning to produce optimal results"
   ]
  },
  {
   "cell_type": "markdown",
   "metadata": {},
   "source": [
    "The sklearn implementation of decision trees uses the CART algorithm. The CART algorithm creates splits based on numeric criteria."
   ]
  },
  {
   "cell_type": "markdown",
   "metadata": {},
   "source": [
    "# 2.1 - Untuned Model"
   ]
  },
  {
   "cell_type": "markdown",
   "metadata": {
    "collapsed": true
   },
   "source": [
    "Before starting to tune the hyperparameters of the decison tree, let us train and assess a decision tree model using the default sklearn settings."
   ]
  },
  {
   "cell_type": "code",
   "execution_count": 8,
   "metadata": {
    "scrolled": true
   },
   "outputs": [
    {
     "name": "stdout",
     "output_type": "stream",
     "text": [
      "Wall time: 47min 8s\n"
     ]
    }
   ],
   "source": [
    "%%time\n",
    "dt_base = DecisionTreeClassifier(max_depth = None, random_state = 99)\n",
    "dt_base.fit(features[\"train\"], train.funny)"
   ]
  },
  {
   "cell_type": "markdown",
   "metadata": {},
   "source": [
    "### 2.1.1 - Perfomance"
   ]
  },
  {
   "cell_type": "markdown",
   "metadata": {},
   "source": [
    "Let us evaluate the performance on the test set."
   ]
  },
  {
   "cell_type": "code",
   "execution_count": 9,
   "metadata": {},
   "outputs": [
    {
     "data": {
      "text/plain": [
       "0.49882260596546313"
      ]
     },
     "execution_count": 9,
     "metadata": {},
     "output_type": "execute_result"
    }
   ],
   "source": [
    "dt_base.score(features[\"test\"], test.funny)"
   ]
  },
  {
   "cell_type": "markdown",
   "metadata": {},
   "source": [
    "The above accuracy is quite low, lower than the linear model. This is not good. Let us calculate the AUC and compare it to the benchmark lienar model"
   ]
  },
  {
   "cell_type": "code",
   "execution_count": 16,
   "metadata": {},
   "outputs": [
    {
     "data": {
      "image/png": "[encoded data removed]",
      "text/plain": [
       "<matplotlib.figure.Figure at 0x1ca8ff51208>"
      ]
     },
     "metadata": {},
     "output_type": "display_data"
    }
   ],
   "source": [
    "dt_base_probs = dt_base.predict_proba(features[\"test\"]) [:, 1]\n",
    "lin_probs = lin_mdl.predict_proba(features[\"test\"]) [:, 1]\n",
    "evaluation.roc_plot(test.funny,\n",
    "                    [dt_base_probs, lin_probs],\n",
    "                    [\"Untuned Tree\", \"Benchmark Linear\"],\n",
    "                    'reports/figures/ROC_dt_base.svg')"
   ]
  },
  {
   "cell_type": "markdown",
   "metadata": {},
   "source": [
    "We can see that the initial, unoptimized, decision tree model significantly underperforms the best linear model. This is not surprising, since decision trees have a tendency to overfit. This tendency to overfit can also be observed from the relatively long time that it takes to fit the model. The number of terminal nodes (leaves) is an also an indication of how hard the model is fitting to the data. "
   ]
  },
  {
   "cell_type": "code",
   "execution_count": null,
   "metadata": {},
   "outputs": [],
   "source": [
    "#difference between train and test scores indicate overfitting\n",
    "dt_base.score(features[\"train\"], train.funny)"
   ]
  },
  {
   "cell_type": "code",
   "execution_count": null,
   "metadata": {},
   "outputs": [],
   "source": [
    "unique_leaves = np.unique(dt_base.apply(features[\"train\"]))\n",
    "num_leaves = len(unique_leaves)\n",
    "print(\"There are {} terminal nodes\".format(num_leaves))\n",
    "obs_per_leaf = features[\"train\"].shape[0] / len(unique_leaves)\n",
    "print(\"There are an average of {:0.2f} observations in a terminal node.\".format(obs_per_leaf))"
   ]
  },
  {
   "cell_type": "markdown",
   "metadata": {},
   "source": [
    "### 2.1.2 - Visualization"
   ]
  },
  {
   "cell_type": "markdown",
   "metadata": {},
   "source": [
    "Let's visualize the very upper portion of the tree."
   ]
  },
  {
   "cell_type": "code",
   "execution_count": null,
   "metadata": {
    "collapsed": true
   },
   "outputs": [],
   "source": [
    "tree_dot = export_graphviz(dt_base,\n",
    "                           out_file=None,\n",
    "                           feature_names=features[\"vectorizer\"].get_feature_names(),\n",
    "                           label='all',\n",
    "                           filled=True,\n",
    "                           class_names=[\"Unfunny\", \"Funny\"],\n",
    "                           proportion=True,\n",
    "                           max_depth=3)"
   ]
  },
  {
   "cell_type": "code",
   "execution_count": null,
   "metadata": {},
   "outputs": [],
   "source": [
    "tree_graph = graphviz.Source(tree_dot,\n",
    "                             format='svg',\n",
    "                             engine=\"dot\",\n",
    "                             filename=\"reports/figures/tree_visual_alt\")\n",
    "display(HTML(open(tree_graph.render()).read()))"
   ]
  },
  {
   "cell_type": "markdown",
   "metadata": {},
   "source": [
    "From the above visualization, one can see that jokes with dialogue are funny."
   ]
  },
  {
   "cell_type": "markdown",
   "metadata": {},
   "source": [
    "### 2.1.3 Feature Importance"
   ]
  },
  {
   "cell_type": "markdown",
   "metadata": {},
   "source": [
    "Finally, let us examine the most important features"
   ]
  },
  {
   "cell_type": "code",
   "execution_count": null,
   "metadata": {},
   "outputs": [],
   "source": [
    "top_base_features = np.argsort(dt_base.feature_importances_)[-50:]\n",
    "np.array(features[\"vectorizer\"].get_feature_names())[top_base_features]"
   ]
  },
  {
   "cell_type": "markdown",
   "metadata": {},
   "source": [
    "One can see a fair of amount of synomoms or similar words above. This suggests more processing of features could be done. However this is time consuming. More advanced and efficient techniques for dealing with semantically similary words will be explored when training neural networks models."
   ]
  },
  {
   "cell_type": "markdown",
   "metadata": {},
   "source": [
    "## 2.2 - Tuning"
   ]
  },
  {
   "cell_type": "markdown",
   "metadata": {},
   "source": [
    "As the preceding section shows, the basic, untuned, decision tree model underperforms the linear model by signifcant margin. In this section, we will try and improve the performance of the basic decision tree by evaluating the perfomance of the basic decision tree under various combinations of hyperparameters. The hyperparameters that we will try help reduce overfitting by stopping growth once the tree has become too complex. As an added bonus, a less complex decision tree will faster to train."
   ]
  },
  {
   "cell_type": "markdown",
   "metadata": {},
   "source": [
    "### 2.1.1 - No length"
   ]
  },
  {
   "cell_type": "markdown",
   "metadata": {},
   "source": [
    "Rather than engaging in an exhaustive grid search for the optimal set of hyperparameters, we will instead try a randomized search. For each iteration, a randomized search samples the specified hyperparameters from a distribution. This can be much more efficient than an exhaustive grid search.\n",
    "\n",
    "See http://www.jmlr.org/papers/v13/bergstra12a.html"
   ]
  },
  {
   "cell_type": "code",
   "execution_count": null,
   "metadata": {
    "collapsed": true
   },
   "outputs": [],
   "source": [
    "#output of distribtuiion is multipleid by scale?\n",
    "#for unifrom distrubiton, scale gives maxiimum value\n",
    "min_impurity_decrease = distributions.uniform(scale = 1e-4)\n",
    "min_samples_split = distributions.poisson(6, 1)\n",
    "\n",
    "to_search = {'min_impurity_decrease':min_impurity_decrease,\n",
    "            'min_samples_split':min_samples_split}"
   ]
  },
  {
   "cell_type": "code",
   "execution_count": null,
   "metadata": {},
   "outputs": [],
   "source": [
    "%%time\n",
    "dt_best = RandomizedSearchCV(estimator = DecisionTreeClassifier(),\n",
    "                  param_distributions=to_search,\n",
    "                  n_jobs=10,\n",
    "                  n_iter=50,        \n",
    "                  cv=8,\n",
    "                  verbose=1,\n",
    "                  random_state=11222017)\n",
    "dt_best.fit(features[\"train\"], train.funny)"
   ]
  },
  {
   "cell_type": "markdown",
   "metadata": {},
   "source": [
    "Now that we have the results, let us analyze them. \n",
    "\n",
    "First, let's see if we can visually detect any pattern in the best performing hyperparameter sets."
   ]
  },
  {
   "cell_type": "code",
   "execution_count": null,
   "metadata": {},
   "outputs": [],
   "source": [
    "search_results = pd.DataFrame(dt_best.cv_results_).sort_values(\"rank_test_score\", ascending = True)\n",
    "search_results = search_results.loc[:, [\"mean_test_score\",\n",
    "                         \"mean_train_score\",\n",
    "                         \"param_min_impurity_decrease\",\n",
    "                         \"param_min_samples_split\",\n",
    "                         \"rank_test_score\"]]\n",
    "search_results = search_results.astype(dtype={'param_min_impurity_decrease':np.float,\n",
    "                                'param_min_samples_split':int})\n",
    "search_results.head(20)"
   ]
  },
  {
   "cell_type": "markdown",
   "metadata": {},
   "source": [
    "## 2.1.2 With Length"
   ]
  },
  {
   "cell_type": "markdown",
   "metadata": {},
   "source": [
    "Let us see if we can get better results by adding text length a feature."
   ]
  },
  {
   "cell_type": "code",
   "execution_count": null,
   "metadata": {
    "collapsed": true
   },
   "outputs": [],
   "source": [
    "#use the same search space as decision tree with no length\n",
    "%%time\n",
    "dt_best_len = RandomizedSearchCV(estimator = DecisionTreeClassifier(),\n",
    "                  param_distributions=to_search,\n",
    "                  n_jobs=10,\n",
    "                  n_iter=50,        \n",
    "                  cv=8,\n",
    "                  verbose=1,\n",
    "                  random_state=11222017)\n",
    "dt_best_len.fit(scipy.sparse.hstack(features[\"train\"], train.text_length), train.funny)"
   ]
  },
  {
   "cell_type": "code",
   "execution_count": null,
   "metadata": {
    "collapsed": true
   },
   "outputs": [],
   "source": [
    "search_len_results = pd.DataFrame(dt_best.cv_results_).sort_values(\"rank_test_score\", ascending = True)\n",
    "search_len_results = search_len_results.loc[:, [\"mean_test_score\",\n",
    "                         \"mean_train_score\",\n",
    "                         \"param_min_impurity_decrease\",\n",
    "                         \"param_min_samples_split\",\n",
    "                         \"rank_test_score\"]]\n",
    "search_len_results = search_len_results.astype(dtype={'param_min_impurity_decrease':np.float,\n",
    "                                'param_min_samples_split':int})\n",
    "search_len_results.head(20)"
   ]
  },
  {
   "cell_type": "markdown",
   "metadata": {},
   "source": [
    "## 2.1.3 - Analyze Results"
   ]
  },
  {
   "cell_type": "markdown",
   "metadata": {},
   "source": [
    "Does adding the text_length feature improve the performance of the decision tree model?"
   ]
  },
  {
   "cell_type": "code",
   "execution_count": null,
   "metadata": {
    "collapsed": true
   },
   "outputs": [],
   "source": [
    "with_len_acc = search_len_results[\"mean_test_score\"].max()\n",
    "no_len_acc = search_results[\"mean_test_score\"].max()\n",
    "print(\"Accuracy with length: {.2%}\".format(with_len_acc))\n",
    "print(\"Accuracy without length: {.2%}\".format(no_len_acc))\n",
    "print(\"Length feature improves model perfomance: {}\".format(with_len_acc > no_len_acc))\n"
   ]
  },
  {
   "cell_type": "markdown",
   "metadata": {},
   "source": [
    "It is hard to detect a pattern from the above tables, but it does seem the hyperparameters that allow for more complexity produce more accurate models. Let's verify this hunch."
   ]
  },
  {
   "cell_type": "code",
   "execution_count": null,
   "metadata": {},
   "outputs": [],
   "source": [
    "results.plot(x=\"param_min_impurity_decrease\",\n",
    "             y = \"mean_test_score\", \n",
    "             kind=\"scatter\",\n",
    "             xlim=(1e-6,1e-3))"
   ]
  },
  {
   "cell_type": "code",
   "execution_count": null,
   "metadata": {
    "collapsed": true
   },
   "outputs": [],
   "source": [
    "results.plot(x=\"param_min_impurity_decrease\",\n",
    "             y = \"mean_test_score\", \n",
    "             kind=\"scatter\",\n",
    "             xlim=(1e-6,1e-3))"
   ]
  },
  {
   "cell_type": "markdown",
   "metadata": {},
   "source": [
    "The above plot is more enlighting; it suggests a \"sweet\" point for the __min_impurity_decrease__ around 0.0002. Finally let us analyze the variance vs bias tradeoff by plotting the train accuracy against test accuracy."
   ]
  },
  {
   "cell_type": "code",
   "execution_count": null,
   "metadata": {},
   "outputs": [],
   "source": [
    "results.plot(x=\"param_min_samples_split\",\n",
    "             y = \"mean_test_score\", \n",
    "             kind=\"scatter\")"
   ]
  },
  {
   "cell_type": "markdown",
   "metadata": {},
   "source": [
    "Again, the above plot indicates there is a \"sweet\" point for the test results in terms of fitting to the train data set. The test accuracy increases with the train accuracy up to a certain point and then starts decreasing.\n",
    "\n",
    "Now that we have analyzed the relationship between the cross validation results and the hyperparameter settings, let us analyze the performance of the best set of hyperparameters. "
   ]
  },
  {
   "cell_type": "code",
   "execution_count": null,
   "metadata": {},
   "outputs": [],
   "source": [
    "dt_best_score = dt_best.score(features[\"test\"], test.funny)\n",
    "print(dt_best_score)"
   ]
  },
  {
   "cell_type": "markdown",
   "metadata": {},
   "source": [
    "The above score on test is a fairly substansial improvement on the untuned decision tree. Let us verify that the spread between the train and test error is reduced because of increased regularization."
   ]
  },
  {
   "cell_type": "code",
   "execution_count": null,
   "metadata": {},
   "outputs": [],
   "source": [
    "dt_best.score(features[\"train\"], train.funny)"
   ]
  },
  {
   "cell_type": "markdown",
   "metadata": {},
   "source": [
    "As one can see, performance on the train set is better than on the test. However the difference is not huge. Due to rgualrization."
   ]
  },
  {
   "cell_type": "markdown",
   "metadata": {},
   "source": [
    "The sklearn RandomizedSearchCV automatically refits to the best results. Therefore we can be confident that a well tuned basic decsion tree underperforms an optimized linear model to a noticeable degree. Let us verify these results using our preferred metric, Area Under the Curve:   "
   ]
  },
  {
   "cell_type": "code",
   "execution_count": null,
   "metadata": {
    "scrolled": true
   },
   "outputs": [],
   "source": [
    "#lets look at area under the curve\n",
    "dt_best_preds = dt_best.predict_proba(features[\"test\"]) [:, 1]\n",
    "lin_probs = lin_mdl.predict_proba(features[\"test\"]) [:, 1]\n",
    "evaluation.roc_plot(test.funny,\n",
    "                    [dt_best_preds, lin_probs],\n",
    "                    [\"Best Tree\", \"Best Linear\"],\n",
    "                    'reports/figures/ROC_dt_best.svg')"
   ]
  },
  {
   "cell_type": "markdown",
   "metadata": {},
   "source": [
    "Here with the ROC curve, we again can see an improvement. Closer to linear benchmarkc, but sitll undr performs by a fair amount."
   ]
  },
  {
   "cell_type": "code",
   "execution_count": null,
   "metadata": {},
   "outputs": [],
   "source": [
    "#save the best model\n",
    "joblib.dump(dt_best,\"models/best_tree.pkl\")"
   ]
  },
  {
   "cell_type": "markdown",
   "metadata": {},
   "source": [
    "The Area Under the Curve metric is consistent with the accuracy. Underperfomance compared to the linear model."
   ]
  },
  {
   "cell_type": "markdown",
   "metadata": {
    "collapsed": true
   },
   "source": [
    "# 3 - Bagged Trees (Random Forest)"
   ]
  },
  {
   "cell_type": "markdown",
   "metadata": {},
   "source": [
    "After having tried basic decision trees, we will now try the random forest algorithm. An advantage of random forests is that they do not require many hyperparameters."
   ]
  },
  {
   "cell_type": "markdown",
   "metadata": {},
   "source": [
    "\"The random forests algorithm, which is also an ensemble-of-trees method, is generally regarded to be among the very best\n",
    "commonly used classifiers (Manuel Fern´andez-Delgado and Amorim, 2014)\" from \"AdaBoost and Random Forests: the Power of Interpolation\""
   ]
  },
  {
   "cell_type": "markdown",
   "metadata": {},
   "source": [
    "## 3.1 Hyperparameter search"
   ]
  },
  {
   "cell_type": "markdown",
   "metadata": {},
   "source": [
    "Despite random forests not needing too many hyperparmeters, they still require some tuning of hyperparameters in order to obtain optimal results.\n",
    "\n",
    "Rather than using k-fold cross validation to determine the best parameters, I will use the out of bag (oob) error to evaluate ther performance of different hyperparameters. The out of bag errors metric is good because the random fforest alorithm naturally produces a hold out set, similar to k-fold cross validation. \n",
    "\n",
    "The morst import parameters are the numer of trees (n_estimators) and the number of features that are considered at each split (max_features). For max_features, I will try the default (and widely used) square-root of the number of features, as well as the built in log2 of the number of fetures. For the number of trees, I will start with the default number of 10 and increase up to 750."
   ]
  },
  {
   "cell_type": "markdown",
   "metadata": {},
   "source": [
    ">_\"The study of error estimates for bagged classifiers in Breiman [1996b], gives empirical evidence to show that the out-   of-bag estimate is as accurate as using a test set of the same size as the training set. Therefore, using the out-of-bag error estimate removes the need for a set aside test set.\"_"
   ]
  },
  {
   "cell_type": "code",
   "execution_count": null,
   "metadata": {},
   "outputs": [],
   "source": [
    "%%time\n",
    "#want to fit rf model with warm start again and again\n",
    "#each time adding 50 trees\n",
    "#do for 5 hours\n",
    "#then switch to sqrt\n",
    "results = []\n",
    "start_time = time.time()\n",
    "elapsed_time = time.time() - start_time\n",
    "rf_log2 =  RandomForestClassifier(max_features=\"log2\",\n",
    "                                 n_estimators = 50,\n",
    "                                 n_jobs=10,\n",
    "                                 oob_score = True,\n",
    "                                 warm_start = True,\n",
    "                                 random_state=11202017)\n",
    "rf_sqrt =  RandomForestClassifier(max_features=\"sqrt\",\n",
    "                                 n_estimators = 50,\n",
    "                                 n_jobs=10,\n",
    "                                 oob_score = True,\n",
    "                                 warm_start = True,\n",
    "                                 random_state=11202017)\n",
    "print(\"Starting log2\")\n",
    "log2_n_estimators = 50\n",
    "while ((time.time() - start_time)/(60*60) < 5):\n",
    "    print(\"Fitting log2 with {} estimators\".format(log2_n_estimators))\n",
    "    rf_log2.set_params(n_estimators=log2_n_estimators)\n",
    "    rf_log2.fit(features[\"train\"], train.funny)\n",
    "    n_estimators_check = len(rf_log2.estimators_)\n",
    "    print(\"Actual number of estimators: {}\".format(n_estimators_check))\n",
    "    score = rf_log2.oob_score_\n",
    "    print(\"Score of {}\".format(score))\n",
    "    results.append((log2_n_estimators, \"log2\", score))\n",
    "    print(\"elapsed time: {} minutes\".format((time.time() - start_time)/60))\n",
    "    log2_n_estimators += 50\n",
    "\n",
    "print(\"Done log2 after {} minutes\".format((time.time() - start_time)/60))\n",
    "print(\"Starting sqrt\")\n",
    "sqrt_n_estimators = 50\n",
    "while sqrt_n_estimators < log2_n_estimators:\n",
    "    print(\"Fitting sqrt with {} estimators\".format(sqrt_n_estimators))\n",
    "    rf_sqrt.set_params(n_estimators=sqrt_n_estimators)\n",
    "    rf_sqrt.fit(features[\"train\"], train.funny)\n",
    "    n_estimators_check = len(rf_sqrt.estimators_)\n",
    "    print(\"Actual number of estimators: {}\".format(n_estimators_check))\n",
    "    score = rf_sqrt.oob_score_\n",
    "    print(\"Score of {}\".format(score))\n",
    "    results.append((sqrt_n_estimators, \"sqrt\", score))\n",
    "    print(\"elapsed time: {} minutes\\n\".format((time.time() - start_time)/60))\n",
    "    sqrt_n_estimators += 50"
   ]
  },
  {
   "cell_type": "markdown",
   "metadata": {},
   "source": [
    "Let us put the results into a pandas dataframe."
   ]
  },
  {
   "cell_type": "code",
   "execution_count": null,
   "metadata": {},
   "outputs": [],
   "source": [
    "results = pd.DataFrame(results, columns = [\"n_estimators\", \"max_features\", \"oob_score\"])\n",
    "results.sort_values(\"oob_score\", ascending = False)"
   ]
  },
  {
   "cell_type": "markdown",
   "metadata": {
    "collapsed": true
   },
   "source": [
    "It is clear that the model that uses ln2 to determine the max nuimber of feautres outperfroms the model that uses the sqrt. It also clear that the perofmrance of the model increase with the nmbr of esitmaorrs. The best perofrmaing ln2 model has 500 estmator (the max), same for sqrt.\n",
    "Now let us assess the performance of the best random forest estimator."
   ]
  },
  {
   "cell_type": "code",
   "execution_count": null,
   "metadata": {},
   "outputs": [],
   "source": [
    "rf_acc = rf_log2.score(features[\"test\"], test.funny)\n",
    "print(\"The best Random Forest model has an accuracy of {:2%} on the test set\".format(rf_acc))"
   ]
  },
  {
   "cell_type": "code",
   "execution_count": null,
   "metadata": {},
   "outputs": [],
   "source": [
    "rf_acc_train = rf_log2.score(features[\"train\"], train.funny)\n",
    "print(\"Compare to a train accuracy of {:2%}\".format(rf_acc_train))"
   ]
  },
  {
   "cell_type": "code",
   "execution_count": null,
   "metadata": {},
   "outputs": [],
   "source": [
    "#AUC\n",
    "rf_probs = rf_log2.predict_proba(features[\"test\"])[:,1]\n",
    "evaluation.roc_plot(test.funny,\n",
    "                    [dt_best_preds, lin_probs, rf_probs],\n",
    "                    [\"Best Tree\", \"Best Linear\", \"Random Forest\"],\n",
    "                    'reports/figures/ROC_dt_best.svg')"
   ]
  },
  {
   "cell_type": "markdown",
   "metadata": {},
   "source": [
    "One can see that the random forest model outperforms the benchmark linear model, however slightly."
   ]
  },
  {
   "cell_type": "code",
   "execution_count": null,
   "metadata": {},
   "outputs": [],
   "source": [
    "#save best model\n",
    "joblib.dump(rf_log2, \"models/best_rf.pkl\")"
   ]
  },
  {
   "cell_type": "markdown",
   "metadata": {},
   "source": [
    "##  Feature importance"
   ]
  },
  {
   "cell_type": "code",
   "execution_count": null,
   "metadata": {
    "collapsed": true
   },
   "outputs": [],
   "source": [
    "#rf.score(features[\"test\"], test.funny)"
   ]
  },
  {
   "cell_type": "code",
   "execution_count": null,
   "metadata": {
    "collapsed": true
   },
   "outputs": [],
   "source": [
    "#rf.score(features[\"train\"], train.funny)"
   ]
  },
  {
   "cell_type": "code",
   "execution_count": null,
   "metadata": {
    "collapsed": true
   },
   "outputs": [],
   "source": [
    "#now auc\n",
    "#rf_best_preds = rf.predict_proba(features[\"test\"]) [:, 1]\n",
    "#evaluation.roc_plot(test.funny, rf_best_preds, 'reports/figures/ROC_rf.svg')"
   ]
  },
  {
   "cell_type": "code",
   "execution_count": null,
   "metadata": {},
   "outputs": [],
   "source": [
    "top_rf_features = np.argsort(rf_log2.feature_importances_)[-50:]\n",
    "np.array(features[\"vectorizer\"].get_feature_names())[top_rf_features]"
   ]
  },
  {
   "cell_type": "code",
   "execution_count": null,
   "metadata": {
    "collapsed": true
   },
   "outputs": [],
   "source": []
  }
 ],
 "metadata": {
  "kernelspec": {
   "display_name": "Python 3",
   "language": "python",
   "name": "python3"
  },
  "language_info": {
   "codemirror_mode": {
    "name": "ipython",
    "version": 3
   },
   "file_extension": ".py",
   "mimetype": "text/x-python",
   "name": "python",
   "nbconvert_exporter": "python",
   "pygments_lexer": "ipython3",
   "version": "3.6.2"
  }
 },
 "nbformat": 4,
 "nbformat_minor": 2
}
